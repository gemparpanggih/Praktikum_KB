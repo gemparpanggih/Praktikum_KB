{
 "cells": [
  {
   "cell_type": "markdown",
   "metadata": {},
   "source": [
    "# Posttest 7\n",
    "## Gempar Panggih Dwi Putra\n",
    "## NIM 2009106022\n",
    "## INFORMATIKA A 2020\n",
    "## Mata Kuliah Kecerdasan Buatan"
   ]
  },
  {
   "cell_type": "code",
   "execution_count": 1,
   "metadata": {},
   "outputs": [],
   "source": [
    "import tensorflow as tf"
   ]
  },
  {
   "cell_type": "markdown",
   "metadata": {},
   "source": [
    "## 1. Membuat Variabel random_tensor dengan shape (5,5) menggunakan tf.random"
   ]
  },
  {
   "cell_type": "code",
   "execution_count": 2,
   "metadata": {},
   "outputs": [
    {
     "data": {
      "text/plain": [
       "<tf.Tensor: shape=(5, 5), dtype=float32, numpy=\n",
       "array([[-0.11868419, -1.1266984 ,  0.45057097, -1.4395093 ,  1.4209099 ],\n",
       "       [-1.3744923 , -0.35206094, -2.7595553 , -2.286236  , -0.38906977],\n",
       "       [ 0.82440144, -0.25657386, -0.24320799, -0.50847125, -0.64022815],\n",
       "       [ 0.21280043,  0.7008021 , -0.28851408,  1.4548473 ,  0.49500328],\n",
       "       [-0.7132273 ,  1.731316  , -0.04284858, -0.71515995, -0.42518032]],\n",
       "      dtype=float32)>"
      ]
     },
     "execution_count": 2,
     "metadata": {},
     "output_type": "execute_result"
    }
   ],
   "source": [
    "#penggunaan tf.random.normal()\n",
    "random_tensor = tf.random.normal([5,5],mean=0.0,stddev=1.0)\n",
    "\n",
    "#Pengecekan nilai constant\n",
    "random_tensor"
   ]
  },
  {
   "cell_type": "markdown",
   "metadata": {},
   "source": [
    "## 2. Membuat Variabel prime_tensor dengan shape (5,5) berisi bilangan prima menggunakan list"
   ]
  },
  {
   "cell_type": "code",
   "execution_count": 3,
   "metadata": {},
   "outputs": [
    {
     "data": {
      "text/plain": [
       "<tf.Tensor: shape=(5, 5), dtype=float32, numpy=\n",
       "array([[ 2.,  3.,  5.,  7., 11.],\n",
       "       [13., 17., 19., 23., 29.],\n",
       "       [31., 37., 41., 43., 47.],\n",
       "       [53., 59., 61., 67., 71.],\n",
       "       [73., 79., 83., 89., 97.]], dtype=float32)>"
      ]
     },
     "execution_count": 3,
     "metadata": {},
     "output_type": "execute_result"
    }
   ],
   "source": [
    "#Pembuatan list untuk dimasukkan kedalam Tensor\n",
    "list_f = [[2,3,5,7,11],[13,17,19,23,29],[31,37,41,43,47],[53,59,61,67,71],[73,79,83,89,97]]\n",
    "\n",
    "#Penggunaan tf.convert_to_tensor\n",
    "prime_tensor = tf.convert_to_tensor(list_f, dtype=tf.float32)\n",
    "\n",
    "#Pengecekan nilai constant\n",
    "prime_tensor"
   ]
  },
  {
   "cell_type": "markdown",
   "metadata": {},
   "source": [
    "## 3. Menampilkan dimensi dari variabel random_tensor dan prime_tensor"
   ]
  },
  {
   "cell_type": "code",
   "execution_count": 4,
   "metadata": {},
   "outputs": [
    {
     "data": {
      "text/plain": [
       "TensorShape([5, 5])"
      ]
     },
     "execution_count": 4,
     "metadata": {},
     "output_type": "execute_result"
    }
   ],
   "source": [
    "random_tensor.shape"
   ]
  },
  {
   "cell_type": "code",
   "execution_count": 5,
   "metadata": {},
   "outputs": [
    {
     "data": {
      "text/plain": [
       "TensorShape([5, 5])"
      ]
     },
     "execution_count": 5,
     "metadata": {},
     "output_type": "execute_result"
    }
   ],
   "source": [
    "prime_tensor.shape"
   ]
  },
  {
   "cell_type": "markdown",
   "metadata": {},
   "source": [
    "## 4. Operasi Aritmaika antara variabel random tensor dengan prime_tensor"
   ]
  },
  {
   "cell_type": "code",
   "execution_count": 6,
   "metadata": {},
   "outputs": [
    {
     "name": "stdout",
     "output_type": "stream",
     "text": [
      "Hasil dari Penjumlahan adalah:\n",
      " [[ 1.8813158  1.8733016  5.450571   5.5604906 12.42091  ]\n",
      " [11.625507  16.64794   16.240444  20.713764  28.61093  ]\n",
      " [31.824402  36.743427  40.75679   42.491528  46.35977  ]\n",
      " [53.2128    59.7008    60.711487  68.45485   71.495    ]\n",
      " [72.28677   80.731316  82.95715   88.28484   96.57482  ]]\n"
     ]
    }
   ],
   "source": [
    "print(\"Hasil dari Penjumlahan adalah:\\n\",tf.add(random_tensor, prime_tensor).numpy())"
   ]
  },
  {
   "cell_type": "code",
   "execution_count": 7,
   "metadata": {},
   "outputs": [
    {
     "name": "stdout",
     "output_type": "stream",
     "text": [
      "Hasil dari Perkalian adalah:\n",
      " [[ -0.23736838  -3.380095     2.2528548  -10.076565    15.630009  ]\n",
      " [-17.8684      -5.985036   -52.431553   -52.583427   -11.283023  ]\n",
      " [ 25.556444    -9.493233    -9.971528   -21.864264   -30.090723  ]\n",
      " [ 11.278422    41.347324   -17.59936     97.47477     35.145233  ]\n",
      " [-52.06559    136.77396     -3.5564325  -63.649235   -41.24249   ]]\n"
     ]
    }
   ],
   "source": [
    "print(\"Hasil dari Perkalian adalah:\\n\",tf.multiply(random_tensor, prime_tensor).numpy())"
   ]
  },
  {
   "cell_type": "code",
   "execution_count": 8,
   "metadata": {},
   "outputs": [
    {
     "name": "stdout",
     "output_type": "stream",
     "text": [
      "Hasil dari Pengurangan adalah:\n",
      " [[ -2.1186843  -4.1266985  -4.549429   -8.439509   -9.57909  ]\n",
      " [-14.374493  -17.35206   -21.759556  -25.286236  -29.38907  ]\n",
      " [-30.175598  -37.256573  -41.24321   -43.508472  -47.64023  ]\n",
      " [-52.7872    -58.2992    -61.288513  -65.54515   -70.505    ]\n",
      " [-73.71323   -77.268684  -83.04285   -89.71516   -97.42518  ]]\n"
     ]
    }
   ],
   "source": [
    "print(\"Hasil dari Pengurangan adalah:\\n\",tf.subtract(random_tensor, prime_tensor).numpy())"
   ]
  },
  {
   "cell_type": "code",
   "execution_count": 9,
   "metadata": {},
   "outputs": [
    {
     "name": "stdout",
     "output_type": "stream",
     "text": [
      "Hasil dari Pembagian adalah:\n",
      " [[-0.05934209 -0.37556612  0.09011419 -0.20564418  0.12917362]\n",
      " [-0.10573018 -0.02070947 -0.14523976 -0.09940157 -0.0134162 ]\n",
      " [ 0.02659359 -0.00693443 -0.0059319  -0.01182491 -0.01362188]\n",
      " [ 0.0040151   0.011878   -0.00472974  0.02171414  0.00697188]\n",
      " [-0.00977024  0.02191539 -0.00051625 -0.00803551 -0.0043833 ]]\n"
     ]
    }
   ],
   "source": [
    "print(\"Hasil dari Pembagian adalah:\\n\",tf.divide(random_tensor, prime_tensor).numpy())"
   ]
  },
  {
   "cell_type": "code",
   "execution_count": 10,
   "metadata": {},
   "outputs": [
    {
     "name": "stdout",
     "output_type": "stream",
     "text": [
      "Hasil dari Pemangkatan adalah:\n",
      " [[ 1.4085936e-02 -1.4302864e+00  1.8570177e-02 -1.2808588e+01\n",
      "   4.7668545e+01]\n",
      " [-6.2495678e+01 -1.9611166e-08 -2.3765286e+08 -1.8187984e+08\n",
      "  -1.2906159e-12]\n",
      " [ 2.5136278e-03 -1.3831168e-22 -6.6848468e-26 -2.3412904e-13\n",
      "  -7.9019458e-10]\n",
      " [ 2.4129170e-36  7.7647566e-10 -1.1754050e-33  8.1052672e+10\n",
      "   2.0757432e-22]\n",
      " [-1.9303663e-11  6.7878224e+18 -0.0000000e+00 -1.1012442e-13\n",
      "  -9.3668933e-37]]\n"
     ]
    }
   ],
   "source": [
    "print(\"Hasil dari Pemangkatan adalah:\\n\",tf.pow(random_tensor, prime_tensor).numpy())"
   ]
  },
  {
   "cell_type": "markdown",
   "metadata": {},
   "source": [
    "## 5. Tampilkan Nilai Maksimal dan Minimal dari random_tensor"
   ]
  },
  {
   "cell_type": "code",
   "execution_count": 11,
   "metadata": {},
   "outputs": [
    {
     "data": {
      "text/plain": [
       "array([2, 4, 0, 3, 0], dtype=int64)"
      ]
     },
     "execution_count": 11,
     "metadata": {},
     "output_type": "execute_result"
    }
   ],
   "source": [
    "tf.argmax(random_tensor, axis=0).numpy()"
   ]
  },
  {
   "cell_type": "code",
   "execution_count": 12,
   "metadata": {},
   "outputs": [
    {
     "data": {
      "text/plain": [
       "array([1, 0, 1, 1, 2], dtype=int64)"
      ]
     },
     "execution_count": 12,
     "metadata": {},
     "output_type": "execute_result"
    }
   ],
   "source": [
    "tf.argmin(random_tensor, axis=0).numpy()"
   ]
  },
  {
   "cell_type": "markdown",
   "metadata": {},
   "source": [
    "## 6. Tampilkan hasil dari penggabungan variable random_tensor dengan prime_tensor (concatenation)"
   ]
  },
  {
   "cell_type": "code",
   "execution_count": 13,
   "metadata": {},
   "outputs": [
    {
     "name": "stdout",
     "output_type": "stream",
     "text": [
      "Size Awal : (5, 5) (5, 5)\n"
     ]
    }
   ],
   "source": [
    "# Sebelum\n",
    "print(f\"Size Awal : {random_tensor.shape} {prime_tensor.shape}\" )"
   ]
  },
  {
   "cell_type": "code",
   "execution_count": 14,
   "metadata": {},
   "outputs": [
    {
     "name": "stdout",
     "output_type": "stream",
     "text": [
      "Size yang sudah di concat (axis = 0) : (10, 5)\n",
      "Size yang sudah di concat (axis = 1) : (5, 10)\n"
     ]
    }
   ],
   "source": [
    "# Setelah\n",
    "concat_tensor_1 = tf.concat([random_tensor, prime_tensor], axis=0)\n",
    "concat_tensor_2 = tf.concat([random_tensor, prime_tensor], axis=1)\n",
    "print(f\"Size yang sudah di concat (axis = 0) : {concat_tensor_1.shape}\")\n",
    "print(f\"Size yang sudah di concat (axis = 1) : {concat_tensor_2.shape}\")"
   ]
  },
  {
   "cell_type": "markdown",
   "metadata": {},
   "source": [
    "## 7. Sorting random tensor dan prime tensor secara descending"
   ]
  },
  {
   "cell_type": "code",
   "execution_count": 15,
   "metadata": {},
   "outputs": [
    {
     "data": {
      "text/plain": [
       "array([[ 1.4209099 ,  0.45057097, -0.11868419, -1.1266984 , -1.4395093 ],\n",
       "       [-0.35206094, -0.38906977, -1.3744923 , -2.286236  , -2.7595553 ],\n",
       "       [ 0.82440144, -0.24320799, -0.25657386, -0.50847125, -0.64022815],\n",
       "       [ 1.4548473 ,  0.7008021 ,  0.49500328,  0.21280043, -0.28851408],\n",
       "       [ 1.731316  , -0.04284858, -0.42518032, -0.7132273 , -0.71515995]],\n",
       "      dtype=float32)"
      ]
     },
     "execution_count": 15,
     "metadata": {},
     "output_type": "execute_result"
    }
   ],
   "source": [
    "# Sorting random_tensor secara descending\n",
    "tf.sort(random_tensor, direction=\"DESCENDING\").numpy()"
   ]
  },
  {
   "cell_type": "code",
   "execution_count": 16,
   "metadata": {},
   "outputs": [
    {
     "data": {
      "text/plain": [
       "array([[11.,  7.,  5.,  3.,  2.],\n",
       "       [29., 23., 19., 17., 13.],\n",
       "       [47., 43., 41., 37., 31.],\n",
       "       [71., 67., 61., 59., 53.],\n",
       "       [97., 89., 83., 79., 73.]], dtype=float32)"
      ]
     },
     "execution_count": 16,
     "metadata": {},
     "output_type": "execute_result"
    }
   ],
   "source": [
    "# Sorting random_tensor secara descending\n",
    "tf.sort(prime_tensor, direction=\"DESCENDING\").numpy()"
   ]
  }
 ],
 "metadata": {
  "kernelspec": {
   "display_name": "Python 3.10.7 64-bit",
   "language": "python",
   "name": "python3"
  },
  "language_info": {
   "codemirror_mode": {
    "name": "ipython",
    "version": 3
   },
   "file_extension": ".py",
   "mimetype": "text/x-python",
   "name": "python",
   "nbconvert_exporter": "python",
   "pygments_lexer": "ipython3",
   "version": "3.10.7"
  },
  "orig_nbformat": 4,
  "vscode": {
   "interpreter": {
    "hash": "200e2a1a991d180c9c309c789f657d054eb1e69794afbc0e2ae3f183f1fccf4c"
   }
  }
 },
 "nbformat": 4,
 "nbformat_minor": 2
}
