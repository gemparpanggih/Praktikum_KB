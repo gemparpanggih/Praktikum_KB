{
 "cells": [
  {
   "cell_type": "markdown",
   "metadata": {},
   "source": [
    "# Klasifikasi Dataset Iris dari SKLEARN dengan Neural Network Sederhana"
   ]
  },
  {
   "cell_type": "markdown",
   "metadata": {},
   "source": [
    "### Gempar Panggih Dwi Putra\n",
    "### NIM 2009106022\n",
    "### INFORMATIKA A2 2020\n"
   ]
  },
  {
   "cell_type": "markdown",
   "metadata": {},
   "source": [
    "## Import"
   ]
  },
  {
   "cell_type": "code",
   "execution_count": 103,
   "metadata": {},
   "outputs": [],
   "source": [
    "import numpy as np\n",
    "\n",
    "from sklearn.datasets import load_iris\n",
    "from sklearn.model_selection import train_test_split\n",
    "from sklearn.preprocessing import OneHotEncoder\n",
    "from keras.layers import Dense\n",
    "from keras.optimizers import Adam\n",
    "from keras.models import Sequential"
   ]
  },
  {
   "cell_type": "markdown",
   "metadata": {},
   "source": [
    "## Preprocessing"
   ]
  },
  {
   "cell_type": "markdown",
   "metadata": {},
   "source": [
    "### Load Datasets"
   ]
  },
  {
   "cell_type": "code",
   "execution_count": 104,
   "metadata": {},
   "outputs": [],
   "source": [
    "df = load_iris()"
   ]
  },
  {
   "cell_type": "code",
   "execution_count": 105,
   "metadata": {},
   "outputs": [
    {
     "name": "stdout",
     "output_type": "stream",
     "text": [
      "Example data: \n",
      "[[5.1 3.5 1.4 0.2]\n",
      " [4.9 3.  1.4 0.2]\n",
      " [4.7 3.2 1.3 0.2]\n",
      " [4.6 3.1 1.5 0.2]\n",
      " [5.  3.6 1.4 0.2]]\n",
      "Example labels: \n",
      "[0 0 0 0 0]\n"
     ]
    }
   ],
   "source": [
    "print('Example data: ')\n",
    "print(df.data[:5])\n",
    "print('Example labels: ')\n",
    "print(df.target[:5])"
   ]
  },
  {
   "cell_type": "markdown",
   "metadata": {},
   "source": [
    "### Reshape"
   ]
  },
  {
   "cell_type": "code",
   "execution_count": 106,
   "metadata": {},
   "outputs": [],
   "source": [
    "x = df.data\n",
    "yx = df.target.reshape(-1, 1)"
   ]
  },
  {
   "cell_type": "markdown",
   "metadata": {},
   "source": [
    "### One Hot Encode"
   ]
  },
  {
   "cell_type": "code",
   "execution_count": 107,
   "metadata": {},
   "outputs": [],
   "source": [
    "encoder = OneHotEncoder(sparse=False)\n",
    "y = encoder.fit_transform(yx)"
   ]
  },
  {
   "cell_type": "markdown",
   "metadata": {},
   "source": [
    "### Split Data"
   ]
  },
  {
   "cell_type": "code",
   "execution_count": 108,
   "metadata": {},
   "outputs": [],
   "source": [
    "x_train, x_test, y_train, y_test = train_test_split(x, y, test_size=0.25)"
   ]
  },
  {
   "cell_type": "markdown",
   "metadata": {},
   "source": [
    "## Modelling"
   ]
  },
  {
   "cell_type": "markdown",
   "metadata": {},
   "source": [
    "### Model Sequential"
   ]
  },
  {
   "cell_type": "code",
   "execution_count": 109,
   "metadata": {},
   "outputs": [],
   "source": [
    "model = Sequential()\n",
    "\n",
    "model.add(Dense(10, input_shape=(4,), activation='relu', name='var1'))\n",
    "model.add(Dense(10, activation='relu', name='var2'))\n",
    "model.add(Dense(3, activation='softmax', name='output'))"
   ]
  },
  {
   "cell_type": "markdown",
   "metadata": {},
   "source": [
    "### Compile Model"
   ]
  },
  {
   "cell_type": "code",
   "execution_count": 110,
   "metadata": {},
   "outputs": [
    {
     "name": "stderr",
     "output_type": "stream",
     "text": [
      "c:\\Users\\NITRO 5\\AppData\\Local\\Programs\\Python\\Python310\\lib\\site-packages\\keras\\optimizers\\optimizer_v2\\adam.py:114: UserWarning: The `lr` argument is deprecated, use `learning_rate` instead.\n",
      "  super().__init__(name, **kwargs)\n"
     ]
    }
   ],
   "source": [
    "optimizer = Adam(lr=0.001)\n",
    "model.compile(optimizer, loss='categorical_crossentropy', metrics=['accuracy'])"
   ]
  },
  {
   "cell_type": "markdown",
   "metadata": {},
   "source": [
    "### Model Summary"
   ]
  },
  {
   "cell_type": "code",
   "execution_count": 111,
   "metadata": {},
   "outputs": [
    {
     "name": "stdout",
     "output_type": "stream",
     "text": [
      "Summary: \n",
      "Model: \"sequential_8\"\n",
      "_________________________________________________________________\n",
      " Layer (type)                Output Shape              Param #   \n",
      "=================================================================\n",
      " var1 (Dense)                (None, 10)                50        \n",
      "                                                                 \n",
      " var2 (Dense)                (None, 10)                110       \n",
      "                                                                 \n",
      " output (Dense)              (None, 3)                 33        \n",
      "                                                                 \n",
      "=================================================================\n",
      "Total params: 193\n",
      "Trainable params: 193\n",
      "Non-trainable params: 0\n",
      "_________________________________________________________________\n",
      "None\n"
     ]
    }
   ],
   "source": [
    "print('Summary: ')\n",
    "print(model.summary())"
   ]
  },
  {
   "cell_type": "markdown",
   "metadata": {},
   "source": [
    "### Training Model"
   ]
  },
  {
   "cell_type": "code",
   "execution_count": 112,
   "metadata": {},
   "outputs": [
    {
     "name": "stdout",
     "output_type": "stream",
     "text": [
      "Epoch 1/200\n",
      "5/5 - 0s - loss: 1.1151 - accuracy: 0.3750 - val_loss: 1.0980 - val_accuracy: 0.3267 - 334ms/epoch - 67ms/step\n",
      "Epoch 2/200\n",
      "5/5 - 0s - loss: 1.0580 - accuracy: 0.3661 - val_loss: 1.0445 - val_accuracy: 0.3267 - 49ms/epoch - 10ms/step\n",
      "Epoch 3/200\n",
      "5/5 - 0s - loss: 1.0157 - accuracy: 0.3571 - val_loss: 0.9978 - val_accuracy: 0.3333 - 53ms/epoch - 11ms/step\n",
      "Epoch 4/200\n",
      "5/5 - 0s - loss: 0.9750 - accuracy: 0.3661 - val_loss: 0.9679 - val_accuracy: 0.3467 - 29ms/epoch - 6ms/step\n",
      "Epoch 5/200\n",
      "5/5 - 0s - loss: 0.9452 - accuracy: 0.3839 - val_loss: 0.9526 - val_accuracy: 0.3533 - 29ms/epoch - 6ms/step\n",
      "Epoch 6/200\n",
      "5/5 - 0s - loss: 0.9287 - accuracy: 0.3929 - val_loss: 0.9386 - val_accuracy: 0.3333 - 25ms/epoch - 5ms/step\n",
      "Epoch 7/200\n",
      "5/5 - 0s - loss: 0.9137 - accuracy: 0.3750 - val_loss: 0.9238 - val_accuracy: 0.3333 - 25ms/epoch - 5ms/step\n",
      "Epoch 8/200\n",
      "5/5 - 0s - loss: 0.8973 - accuracy: 0.3750 - val_loss: 0.9074 - val_accuracy: 0.3467 - 36ms/epoch - 7ms/step\n",
      "Epoch 9/200\n",
      "5/5 - 0s - loss: 0.8811 - accuracy: 0.3929 - val_loss: 0.8923 - val_accuracy: 0.3533 - 38ms/epoch - 8ms/step\n",
      "Epoch 10/200\n",
      "5/5 - 0s - loss: 0.8668 - accuracy: 0.3929 - val_loss: 0.8801 - val_accuracy: 0.3467 - 33ms/epoch - 7ms/step\n",
      "Epoch 11/200\n",
      "5/5 - 0s - loss: 0.8523 - accuracy: 0.3929 - val_loss: 0.8671 - val_accuracy: 0.3467 - 41ms/epoch - 8ms/step\n",
      "Epoch 12/200\n",
      "5/5 - 0s - loss: 0.8372 - accuracy: 0.3929 - val_loss: 0.8491 - val_accuracy: 0.3467 - 45ms/epoch - 9ms/step\n",
      "Epoch 13/200\n",
      "5/5 - 0s - loss: 0.8197 - accuracy: 0.4018 - val_loss: 0.8299 - val_accuracy: 0.3533 - 51ms/epoch - 10ms/step\n",
      "Epoch 14/200\n",
      "5/5 - 0s - loss: 0.8038 - accuracy: 0.4018 - val_loss: 0.8131 - val_accuracy: 0.3800 - 40ms/epoch - 8ms/step\n",
      "Epoch 15/200\n",
      "5/5 - 0s - loss: 0.7886 - accuracy: 0.5357 - val_loss: 0.7983 - val_accuracy: 0.6533 - 39ms/epoch - 8ms/step\n",
      "Epoch 16/200\n",
      "5/5 - 0s - loss: 0.7765 - accuracy: 0.7232 - val_loss: 0.7873 - val_accuracy: 0.7533 - 41ms/epoch - 8ms/step\n",
      "Epoch 17/200\n",
      "5/5 - 0s - loss: 0.7649 - accuracy: 0.7768 - val_loss: 0.7745 - val_accuracy: 0.7667 - 39ms/epoch - 8ms/step\n",
      "Epoch 18/200\n",
      "5/5 - 0s - loss: 0.7518 - accuracy: 0.7857 - val_loss: 0.7616 - val_accuracy: 0.7667 - 39ms/epoch - 8ms/step\n",
      "Epoch 19/200\n",
      "5/5 - 0s - loss: 0.7394 - accuracy: 0.7857 - val_loss: 0.7495 - val_accuracy: 0.7667 - 35ms/epoch - 7ms/step\n",
      "Epoch 20/200\n",
      "5/5 - 0s - loss: 0.7294 - accuracy: 0.7946 - val_loss: 0.7362 - val_accuracy: 0.7867 - 41ms/epoch - 8ms/step\n",
      "Epoch 21/200\n",
      "5/5 - 0s - loss: 0.7164 - accuracy: 0.7946 - val_loss: 0.7285 - val_accuracy: 0.7600 - 47ms/epoch - 9ms/step\n",
      "Epoch 22/200\n",
      "5/5 - 0s - loss: 0.7048 - accuracy: 0.7679 - val_loss: 0.7185 - val_accuracy: 0.7600 - 46ms/epoch - 9ms/step\n",
      "Epoch 23/200\n",
      "5/5 - 0s - loss: 0.6954 - accuracy: 0.7768 - val_loss: 0.7071 - val_accuracy: 0.7667 - 48ms/epoch - 10ms/step\n",
      "Epoch 24/200\n",
      "5/5 - 0s - loss: 0.6826 - accuracy: 0.8036 - val_loss: 0.6922 - val_accuracy: 0.8000 - 41ms/epoch - 8ms/step\n",
      "Epoch 25/200\n",
      "5/5 - 0s - loss: 0.6718 - accuracy: 0.8304 - val_loss: 0.6805 - val_accuracy: 0.8133 - 24ms/epoch - 5ms/step\n",
      "Epoch 26/200\n",
      "5/5 - 0s - loss: 0.6623 - accuracy: 0.8393 - val_loss: 0.6691 - val_accuracy: 0.8267 - 24ms/epoch - 5ms/step\n",
      "Epoch 27/200\n",
      "5/5 - 0s - loss: 0.6523 - accuracy: 0.8393 - val_loss: 0.6587 - val_accuracy: 0.8133 - 31ms/epoch - 6ms/step\n",
      "Epoch 28/200\n",
      "5/5 - 0s - loss: 0.6398 - accuracy: 0.8304 - val_loss: 0.6497 - val_accuracy: 0.8067 - 35ms/epoch - 7ms/step\n",
      "Epoch 29/200\n",
      "5/5 - 0s - loss: 0.6334 - accuracy: 0.8125 - val_loss: 0.6431 - val_accuracy: 0.8000 - 40ms/epoch - 8ms/step\n",
      "Epoch 30/200\n",
      "5/5 - 0s - loss: 0.6192 - accuracy: 0.8304 - val_loss: 0.6274 - val_accuracy: 0.8267 - 32ms/epoch - 6ms/step\n",
      "Epoch 31/200\n",
      "5/5 - 0s - loss: 0.6137 - accuracy: 0.8571 - val_loss: 0.6153 - val_accuracy: 0.8867 - 36ms/epoch - 7ms/step\n",
      "Epoch 32/200\n",
      "5/5 - 0s - loss: 0.6015 - accuracy: 0.8839 - val_loss: 0.6046 - val_accuracy: 0.8600 - 33ms/epoch - 7ms/step\n",
      "Epoch 33/200\n",
      "5/5 - 0s - loss: 0.5888 - accuracy: 0.8571 - val_loss: 0.5970 - val_accuracy: 0.8267 - 36ms/epoch - 7ms/step\n",
      "Epoch 34/200\n",
      "5/5 - 0s - loss: 0.5785 - accuracy: 0.8393 - val_loss: 0.5908 - val_accuracy: 0.8067 - 34ms/epoch - 7ms/step\n",
      "Epoch 35/200\n",
      "5/5 - 0s - loss: 0.5729 - accuracy: 0.8304 - val_loss: 0.5799 - val_accuracy: 0.8133 - 32ms/epoch - 6ms/step\n",
      "Epoch 36/200\n",
      "5/5 - 0s - loss: 0.5642 - accuracy: 0.8571 - val_loss: 0.5630 - val_accuracy: 0.9067 - 34ms/epoch - 7ms/step\n",
      "Epoch 37/200\n",
      "5/5 - 0s - loss: 0.5513 - accuracy: 0.9018 - val_loss: 0.5528 - val_accuracy: 0.9000 - 31ms/epoch - 6ms/step\n",
      "Epoch 38/200\n",
      "5/5 - 0s - loss: 0.5395 - accuracy: 0.9018 - val_loss: 0.5442 - val_accuracy: 0.8600 - 40ms/epoch - 8ms/step\n",
      "Epoch 39/200\n",
      "5/5 - 0s - loss: 0.5304 - accuracy: 0.8482 - val_loss: 0.5396 - val_accuracy: 0.8333 - 32ms/epoch - 6ms/step\n",
      "Epoch 40/200\n",
      "5/5 - 0s - loss: 0.5239 - accuracy: 0.8482 - val_loss: 0.5275 - val_accuracy: 0.8467 - 34ms/epoch - 7ms/step\n",
      "Epoch 41/200\n",
      "5/5 - 0s - loss: 0.5125 - accuracy: 0.8482 - val_loss: 0.5157 - val_accuracy: 0.8600 - 31ms/epoch - 6ms/step\n",
      "Epoch 42/200\n",
      "5/5 - 0s - loss: 0.5032 - accuracy: 0.8839 - val_loss: 0.5039 - val_accuracy: 0.9067 - 33ms/epoch - 7ms/step\n",
      "Epoch 43/200\n",
      "5/5 - 0s - loss: 0.4965 - accuracy: 0.8929 - val_loss: 0.4940 - val_accuracy: 0.9067 - 31ms/epoch - 6ms/step\n",
      "Epoch 44/200\n",
      "5/5 - 0s - loss: 0.4861 - accuracy: 0.9018 - val_loss: 0.4862 - val_accuracy: 0.9067 - 31ms/epoch - 6ms/step\n",
      "Epoch 45/200\n",
      "5/5 - 0s - loss: 0.4762 - accuracy: 0.9018 - val_loss: 0.4767 - val_accuracy: 0.9067 - 32ms/epoch - 6ms/step\n",
      "Epoch 46/200\n",
      "5/5 - 0s - loss: 0.4676 - accuracy: 0.9018 - val_loss: 0.4670 - val_accuracy: 0.9067 - 30ms/epoch - 6ms/step\n",
      "Epoch 47/200\n",
      "5/5 - 0s - loss: 0.4593 - accuracy: 0.9018 - val_loss: 0.4579 - val_accuracy: 0.9133 - 33ms/epoch - 7ms/step\n",
      "Epoch 48/200\n",
      "5/5 - 0s - loss: 0.4528 - accuracy: 0.9018 - val_loss: 0.4499 - val_accuracy: 0.9133 - 35ms/epoch - 7ms/step\n",
      "Epoch 49/200\n",
      "5/5 - 0s - loss: 0.4448 - accuracy: 0.9018 - val_loss: 0.4404 - val_accuracy: 0.9067 - 29ms/epoch - 6ms/step\n",
      "Epoch 50/200\n",
      "5/5 - 0s - loss: 0.4366 - accuracy: 0.9018 - val_loss: 0.4320 - val_accuracy: 0.9067 - 26ms/epoch - 5ms/step\n",
      "Epoch 51/200\n",
      "5/5 - 0s - loss: 0.4298 - accuracy: 0.9018 - val_loss: 0.4250 - val_accuracy: 0.9133 - 37ms/epoch - 7ms/step\n",
      "Epoch 52/200\n",
      "5/5 - 0s - loss: 0.4207 - accuracy: 0.9018 - val_loss: 0.4162 - val_accuracy: 0.9067 - 30ms/epoch - 6ms/step\n",
      "Epoch 53/200\n",
      "5/5 - 0s - loss: 0.4128 - accuracy: 0.9018 - val_loss: 0.4085 - val_accuracy: 0.9133 - 37ms/epoch - 7ms/step\n",
      "Epoch 54/200\n",
      "5/5 - 0s - loss: 0.4062 - accuracy: 0.9107 - val_loss: 0.4010 - val_accuracy: 0.9200 - 25ms/epoch - 5ms/step\n",
      "Epoch 55/200\n",
      "5/5 - 0s - loss: 0.3989 - accuracy: 0.9107 - val_loss: 0.3940 - val_accuracy: 0.9133 - 27ms/epoch - 5ms/step\n",
      "Epoch 56/200\n",
      "5/5 - 0s - loss: 0.3912 - accuracy: 0.9107 - val_loss: 0.3883 - val_accuracy: 0.9200 - 25ms/epoch - 5ms/step\n",
      "Epoch 57/200\n",
      "5/5 - 0s - loss: 0.3878 - accuracy: 0.9018 - val_loss: 0.3834 - val_accuracy: 0.9200 - 27ms/epoch - 5ms/step\n",
      "Epoch 58/200\n",
      "5/5 - 0s - loss: 0.3799 - accuracy: 0.9107 - val_loss: 0.3745 - val_accuracy: 0.9200 - 24ms/epoch - 5ms/step\n",
      "Epoch 59/200\n",
      "5/5 - 0s - loss: 0.3754 - accuracy: 0.9196 - val_loss: 0.3667 - val_accuracy: 0.9400 - 27ms/epoch - 5ms/step\n",
      "Epoch 60/200\n",
      "5/5 - 0s - loss: 0.3695 - accuracy: 0.9107 - val_loss: 0.3607 - val_accuracy: 0.9267 - 25ms/epoch - 5ms/step\n",
      "Epoch 61/200\n",
      "5/5 - 0s - loss: 0.3609 - accuracy: 0.9196 - val_loss: 0.3545 - val_accuracy: 0.9267 - 25ms/epoch - 5ms/step\n",
      "Epoch 62/200\n",
      "5/5 - 0s - loss: 0.3595 - accuracy: 0.9196 - val_loss: 0.3482 - val_accuracy: 0.9400 - 27ms/epoch - 5ms/step\n",
      "Epoch 63/200\n",
      "5/5 - 0s - loss: 0.3497 - accuracy: 0.9286 - val_loss: 0.3436 - val_accuracy: 0.9400 - 26ms/epoch - 5ms/step\n",
      "Epoch 64/200\n",
      "5/5 - 0s - loss: 0.3494 - accuracy: 0.9107 - val_loss: 0.3448 - val_accuracy: 0.9200 - 26ms/epoch - 5ms/step\n",
      "Epoch 65/200\n",
      "5/5 - 0s - loss: 0.3428 - accuracy: 0.9107 - val_loss: 0.3345 - val_accuracy: 0.9267 - 24ms/epoch - 5ms/step\n",
      "Epoch 66/200\n",
      "5/5 - 0s - loss: 0.3349 - accuracy: 0.9375 - val_loss: 0.3271 - val_accuracy: 0.9333 - 26ms/epoch - 5ms/step\n",
      "Epoch 67/200\n",
      "5/5 - 0s - loss: 0.3298 - accuracy: 0.9196 - val_loss: 0.3219 - val_accuracy: 0.9400 - 24ms/epoch - 5ms/step\n",
      "Epoch 68/200\n",
      "5/5 - 0s - loss: 0.3254 - accuracy: 0.9286 - val_loss: 0.3171 - val_accuracy: 0.9400 - 25ms/epoch - 5ms/step\n",
      "Epoch 69/200\n",
      "5/5 - 0s - loss: 0.3211 - accuracy: 0.9286 - val_loss: 0.3124 - val_accuracy: 0.9400 - 24ms/epoch - 5ms/step\n",
      "Epoch 70/200\n",
      "5/5 - 0s - loss: 0.3193 - accuracy: 0.9286 - val_loss: 0.3077 - val_accuracy: 0.9467 - 25ms/epoch - 5ms/step\n",
      "Epoch 71/200\n",
      "5/5 - 0s - loss: 0.3127 - accuracy: 0.9375 - val_loss: 0.3063 - val_accuracy: 0.9400 - 24ms/epoch - 5ms/step\n",
      "Epoch 72/200\n",
      "5/5 - 0s - loss: 0.3110 - accuracy: 0.9107 - val_loss: 0.3045 - val_accuracy: 0.9267 - 24ms/epoch - 5ms/step\n",
      "Epoch 73/200\n",
      "5/5 - 0s - loss: 0.3064 - accuracy: 0.9375 - val_loss: 0.2967 - val_accuracy: 0.9533 - 25ms/epoch - 5ms/step\n",
      "Epoch 74/200\n",
      "5/5 - 0s - loss: 0.3004 - accuracy: 0.9464 - val_loss: 0.2909 - val_accuracy: 0.9467 - 25ms/epoch - 5ms/step\n",
      "Epoch 75/200\n",
      "5/5 - 0s - loss: 0.2990 - accuracy: 0.9375 - val_loss: 0.2870 - val_accuracy: 0.9467 - 25ms/epoch - 5ms/step\n",
      "Epoch 76/200\n",
      "5/5 - 0s - loss: 0.2956 - accuracy: 0.9286 - val_loss: 0.2840 - val_accuracy: 0.9467 - 27ms/epoch - 5ms/step\n",
      "Epoch 77/200\n",
      "5/5 - 0s - loss: 0.2908 - accuracy: 0.9375 - val_loss: 0.2804 - val_accuracy: 0.9467 - 25ms/epoch - 5ms/step\n",
      "Epoch 78/200\n",
      "5/5 - 0s - loss: 0.2868 - accuracy: 0.9375 - val_loss: 0.2757 - val_accuracy: 0.9467 - 25ms/epoch - 5ms/step\n",
      "Epoch 79/200\n",
      "5/5 - 0s - loss: 0.2835 - accuracy: 0.9375 - val_loss: 0.2725 - val_accuracy: 0.9467 - 25ms/epoch - 5ms/step\n",
      "Epoch 80/200\n",
      "5/5 - 0s - loss: 0.2799 - accuracy: 0.9464 - val_loss: 0.2689 - val_accuracy: 0.9467 - 28ms/epoch - 6ms/step\n",
      "Epoch 81/200\n",
      "5/5 - 0s - loss: 0.2766 - accuracy: 0.9375 - val_loss: 0.2654 - val_accuracy: 0.9467 - 34ms/epoch - 7ms/step\n",
      "Epoch 82/200\n",
      "5/5 - 0s - loss: 0.2733 - accuracy: 0.9464 - val_loss: 0.2621 - val_accuracy: 0.9533 - 31ms/epoch - 6ms/step\n",
      "Epoch 83/200\n",
      "5/5 - 0s - loss: 0.2708 - accuracy: 0.9464 - val_loss: 0.2589 - val_accuracy: 0.9533 - 36ms/epoch - 7ms/step\n",
      "Epoch 84/200\n",
      "5/5 - 0s - loss: 0.2684 - accuracy: 0.9375 - val_loss: 0.2561 - val_accuracy: 0.9467 - 24ms/epoch - 5ms/step\n",
      "Epoch 85/200\n",
      "5/5 - 0s - loss: 0.2646 - accuracy: 0.9375 - val_loss: 0.2528 - val_accuracy: 0.9533 - 25ms/epoch - 5ms/step\n",
      "Epoch 86/200\n",
      "5/5 - 0s - loss: 0.2618 - accuracy: 0.9464 - val_loss: 0.2500 - val_accuracy: 0.9533 - 25ms/epoch - 5ms/step\n",
      "Epoch 87/200\n",
      "5/5 - 0s - loss: 0.2610 - accuracy: 0.9375 - val_loss: 0.2494 - val_accuracy: 0.9600 - 25ms/epoch - 5ms/step\n",
      "Epoch 88/200\n",
      "5/5 - 0s - loss: 0.2574 - accuracy: 0.9464 - val_loss: 0.2443 - val_accuracy: 0.9533 - 25ms/epoch - 5ms/step\n",
      "Epoch 89/200\n",
      "5/5 - 0s - loss: 0.2537 - accuracy: 0.9464 - val_loss: 0.2414 - val_accuracy: 0.9533 - 25ms/epoch - 5ms/step\n",
      "Epoch 90/200\n",
      "5/5 - 0s - loss: 0.2525 - accuracy: 0.9464 - val_loss: 0.2403 - val_accuracy: 0.9667 - 25ms/epoch - 5ms/step\n",
      "Epoch 91/200\n",
      "5/5 - 0s - loss: 0.2490 - accuracy: 0.9554 - val_loss: 0.2370 - val_accuracy: 0.9533 - 25ms/epoch - 5ms/step\n",
      "Epoch 92/200\n",
      "5/5 - 0s - loss: 0.2469 - accuracy: 0.9464 - val_loss: 0.2334 - val_accuracy: 0.9533 - 25ms/epoch - 5ms/step\n",
      "Epoch 93/200\n",
      "5/5 - 0s - loss: 0.2440 - accuracy: 0.9375 - val_loss: 0.2309 - val_accuracy: 0.9533 - 28ms/epoch - 6ms/step\n",
      "Epoch 94/200\n",
      "5/5 - 0s - loss: 0.2413 - accuracy: 0.9464 - val_loss: 0.2285 - val_accuracy: 0.9533 - 25ms/epoch - 5ms/step\n",
      "Epoch 95/200\n",
      "5/5 - 0s - loss: 0.2388 - accuracy: 0.9464 - val_loss: 0.2270 - val_accuracy: 0.9600 - 31ms/epoch - 6ms/step\n",
      "Epoch 96/200\n",
      "5/5 - 0s - loss: 0.2373 - accuracy: 0.9554 - val_loss: 0.2245 - val_accuracy: 0.9600 - 26ms/epoch - 5ms/step\n",
      "Epoch 97/200\n",
      "5/5 - 0s - loss: 0.2353 - accuracy: 0.9554 - val_loss: 0.2217 - val_accuracy: 0.9600 - 25ms/epoch - 5ms/step\n",
      "Epoch 98/200\n",
      "5/5 - 0s - loss: 0.2324 - accuracy: 0.9554 - val_loss: 0.2197 - val_accuracy: 0.9600 - 25ms/epoch - 5ms/step\n",
      "Epoch 99/200\n",
      "5/5 - 0s - loss: 0.2328 - accuracy: 0.9643 - val_loss: 0.2187 - val_accuracy: 0.9733 - 25ms/epoch - 5ms/step\n",
      "Epoch 100/200\n",
      "5/5 - 0s - loss: 0.2306 - accuracy: 0.9643 - val_loss: 0.2151 - val_accuracy: 0.9533 - 23ms/epoch - 5ms/step\n",
      "Epoch 101/200\n",
      "5/5 - 0s - loss: 0.2273 - accuracy: 0.9464 - val_loss: 0.2126 - val_accuracy: 0.9533 - 24ms/epoch - 5ms/step\n",
      "Epoch 102/200\n",
      "5/5 - 0s - loss: 0.2245 - accuracy: 0.9554 - val_loss: 0.2107 - val_accuracy: 0.9600 - 29ms/epoch - 6ms/step\n",
      "Epoch 103/200\n",
      "5/5 - 0s - loss: 0.2238 - accuracy: 0.9554 - val_loss: 0.2084 - val_accuracy: 0.9600 - 26ms/epoch - 5ms/step\n",
      "Epoch 104/200\n",
      "5/5 - 0s - loss: 0.2199 - accuracy: 0.9643 - val_loss: 0.2067 - val_accuracy: 0.9600 - 27ms/epoch - 5ms/step\n",
      "Epoch 105/200\n",
      "5/5 - 0s - loss: 0.2189 - accuracy: 0.9554 - val_loss: 0.2057 - val_accuracy: 0.9667 - 24ms/epoch - 5ms/step\n",
      "Epoch 106/200\n",
      "5/5 - 0s - loss: 0.2186 - accuracy: 0.9554 - val_loss: 0.2033 - val_accuracy: 0.9600 - 24ms/epoch - 5ms/step\n",
      "Epoch 107/200\n",
      "5/5 - 0s - loss: 0.2165 - accuracy: 0.9554 - val_loss: 0.2016 - val_accuracy: 0.9533 - 25ms/epoch - 5ms/step\n",
      "Epoch 108/200\n",
      "5/5 - 0s - loss: 0.2154 - accuracy: 0.9464 - val_loss: 0.1992 - val_accuracy: 0.9533 - 23ms/epoch - 5ms/step\n",
      "Epoch 109/200\n",
      "5/5 - 0s - loss: 0.2108 - accuracy: 0.9464 - val_loss: 0.1978 - val_accuracy: 0.9600 - 24ms/epoch - 5ms/step\n",
      "Epoch 110/200\n",
      "5/5 - 0s - loss: 0.2110 - accuracy: 0.9643 - val_loss: 0.1977 - val_accuracy: 0.9733 - 23ms/epoch - 5ms/step\n",
      "Epoch 111/200\n",
      "5/5 - 0s - loss: 0.2097 - accuracy: 0.9554 - val_loss: 0.1936 - val_accuracy: 0.9667 - 23ms/epoch - 5ms/step\n",
      "Epoch 112/200\n",
      "5/5 - 0s - loss: 0.2070 - accuracy: 0.9643 - val_loss: 0.1918 - val_accuracy: 0.9667 - 24ms/epoch - 5ms/step\n",
      "Epoch 113/200\n",
      "5/5 - 0s - loss: 0.2051 - accuracy: 0.9554 - val_loss: 0.1903 - val_accuracy: 0.9533 - 24ms/epoch - 5ms/step\n",
      "Epoch 114/200\n",
      "5/5 - 0s - loss: 0.2045 - accuracy: 0.9464 - val_loss: 0.1887 - val_accuracy: 0.9533 - 25ms/epoch - 5ms/step\n",
      "Epoch 115/200\n",
      "5/5 - 0s - loss: 0.2018 - accuracy: 0.9464 - val_loss: 0.1868 - val_accuracy: 0.9667 - 24ms/epoch - 5ms/step\n",
      "Epoch 116/200\n",
      "5/5 - 0s - loss: 0.2010 - accuracy: 0.9643 - val_loss: 0.1860 - val_accuracy: 0.9667 - 24ms/epoch - 5ms/step\n",
      "Epoch 117/200\n",
      "5/5 - 0s - loss: 0.2007 - accuracy: 0.9554 - val_loss: 0.1845 - val_accuracy: 0.9733 - 25ms/epoch - 5ms/step\n",
      "Epoch 118/200\n",
      "5/5 - 0s - loss: 0.1973 - accuracy: 0.9643 - val_loss: 0.1821 - val_accuracy: 0.9667 - 24ms/epoch - 5ms/step\n",
      "Epoch 119/200\n",
      "5/5 - 0s - loss: 0.1981 - accuracy: 0.9464 - val_loss: 0.1811 - val_accuracy: 0.9533 - 24ms/epoch - 5ms/step\n",
      "Epoch 120/200\n",
      "5/5 - 0s - loss: 0.1951 - accuracy: 0.9554 - val_loss: 0.1798 - val_accuracy: 0.9733 - 25ms/epoch - 5ms/step\n",
      "Epoch 121/200\n",
      "5/5 - 0s - loss: 0.1936 - accuracy: 0.9643 - val_loss: 0.1777 - val_accuracy: 0.9667 - 25ms/epoch - 5ms/step\n",
      "Epoch 122/200\n",
      "5/5 - 0s - loss: 0.1927 - accuracy: 0.9643 - val_loss: 0.1766 - val_accuracy: 0.9667 - 24ms/epoch - 5ms/step\n",
      "Epoch 123/200\n",
      "5/5 - 0s - loss: 0.1905 - accuracy: 0.9643 - val_loss: 0.1748 - val_accuracy: 0.9667 - 25ms/epoch - 5ms/step\n",
      "Epoch 124/200\n",
      "5/5 - 0s - loss: 0.1890 - accuracy: 0.9643 - val_loss: 0.1736 - val_accuracy: 0.9667 - 24ms/epoch - 5ms/step\n",
      "Epoch 125/200\n",
      "5/5 - 0s - loss: 0.1878 - accuracy: 0.9643 - val_loss: 0.1732 - val_accuracy: 0.9733 - 25ms/epoch - 5ms/step\n",
      "Epoch 126/200\n",
      "5/5 - 0s - loss: 0.1876 - accuracy: 0.9643 - val_loss: 0.1707 - val_accuracy: 0.9667 - 25ms/epoch - 5ms/step\n",
      "Epoch 127/200\n",
      "5/5 - 0s - loss: 0.1849 - accuracy: 0.9643 - val_loss: 0.1695 - val_accuracy: 0.9667 - 24ms/epoch - 5ms/step\n",
      "Epoch 128/200\n",
      "5/5 - 0s - loss: 0.1832 - accuracy: 0.9643 - val_loss: 0.1685 - val_accuracy: 0.9667 - 24ms/epoch - 5ms/step\n",
      "Epoch 129/200\n",
      "5/5 - 0s - loss: 0.1824 - accuracy: 0.9643 - val_loss: 0.1670 - val_accuracy: 0.9667 - 24ms/epoch - 5ms/step\n",
      "Epoch 130/200\n",
      "5/5 - 0s - loss: 0.1810 - accuracy: 0.9643 - val_loss: 0.1657 - val_accuracy: 0.9667 - 25ms/epoch - 5ms/step\n",
      "Epoch 131/200\n",
      "5/5 - 0s - loss: 0.1807 - accuracy: 0.9643 - val_loss: 0.1643 - val_accuracy: 0.9667 - 27ms/epoch - 5ms/step\n",
      "Epoch 132/200\n",
      "5/5 - 0s - loss: 0.1786 - accuracy: 0.9643 - val_loss: 0.1635 - val_accuracy: 0.9733 - 24ms/epoch - 5ms/step\n",
      "Epoch 133/200\n",
      "5/5 - 0s - loss: 0.1775 - accuracy: 0.9643 - val_loss: 0.1619 - val_accuracy: 0.9667 - 24ms/epoch - 5ms/step\n",
      "Epoch 134/200\n",
      "5/5 - 0s - loss: 0.1762 - accuracy: 0.9643 - val_loss: 0.1607 - val_accuracy: 0.9667 - 41ms/epoch - 8ms/step\n",
      "Epoch 135/200\n",
      "5/5 - 0s - loss: 0.1750 - accuracy: 0.9643 - val_loss: 0.1595 - val_accuracy: 0.9667 - 27ms/epoch - 5ms/step\n",
      "Epoch 136/200\n",
      "5/5 - 0s - loss: 0.1735 - accuracy: 0.9643 - val_loss: 0.1586 - val_accuracy: 0.9667 - 25ms/epoch - 5ms/step\n",
      "Epoch 137/200\n",
      "5/5 - 0s - loss: 0.1733 - accuracy: 0.9643 - val_loss: 0.1580 - val_accuracy: 0.9733 - 25ms/epoch - 5ms/step\n",
      "Epoch 138/200\n",
      "5/5 - 0s - loss: 0.1749 - accuracy: 0.9643 - val_loss: 0.1560 - val_accuracy: 0.9667 - 25ms/epoch - 5ms/step\n",
      "Epoch 139/200\n",
      "5/5 - 0s - loss: 0.1702 - accuracy: 0.9643 - val_loss: 0.1553 - val_accuracy: 0.9733 - 26ms/epoch - 5ms/step\n",
      "Epoch 140/200\n",
      "5/5 - 0s - loss: 0.1697 - accuracy: 0.9643 - val_loss: 0.1543 - val_accuracy: 0.9733 - 26ms/epoch - 5ms/step\n",
      "Epoch 141/200\n",
      "5/5 - 0s - loss: 0.1709 - accuracy: 0.9643 - val_loss: 0.1533 - val_accuracy: 0.9733 - 25ms/epoch - 5ms/step\n",
      "Epoch 142/200\n",
      "5/5 - 0s - loss: 0.1680 - accuracy: 0.9643 - val_loss: 0.1518 - val_accuracy: 0.9667 - 23ms/epoch - 5ms/step\n",
      "Epoch 143/200\n",
      "5/5 - 0s - loss: 0.1659 - accuracy: 0.9643 - val_loss: 0.1508 - val_accuracy: 0.9600 - 24ms/epoch - 5ms/step\n",
      "Epoch 144/200\n",
      "5/5 - 0s - loss: 0.1676 - accuracy: 0.9464 - val_loss: 0.1511 - val_accuracy: 0.9600 - 25ms/epoch - 5ms/step\n",
      "Epoch 145/200\n",
      "5/5 - 0s - loss: 0.1650 - accuracy: 0.9554 - val_loss: 0.1485 - val_accuracy: 0.9667 - 23ms/epoch - 5ms/step\n",
      "Epoch 146/200\n",
      "5/5 - 0s - loss: 0.1641 - accuracy: 0.9643 - val_loss: 0.1485 - val_accuracy: 0.9733 - 24ms/epoch - 5ms/step\n",
      "Epoch 147/200\n",
      "5/5 - 0s - loss: 0.1636 - accuracy: 0.9643 - val_loss: 0.1472 - val_accuracy: 0.9733 - 24ms/epoch - 5ms/step\n",
      "Epoch 148/200\n",
      "5/5 - 0s - loss: 0.1640 - accuracy: 0.9554 - val_loss: 0.1462 - val_accuracy: 0.9600 - 25ms/epoch - 5ms/step\n",
      "Epoch 149/200\n",
      "5/5 - 0s - loss: 0.1614 - accuracy: 0.9643 - val_loss: 0.1447 - val_accuracy: 0.9667 - 25ms/epoch - 5ms/step\n",
      "Epoch 150/200\n",
      "5/5 - 0s - loss: 0.1596 - accuracy: 0.9643 - val_loss: 0.1438 - val_accuracy: 0.9667 - 25ms/epoch - 5ms/step\n",
      "Epoch 151/200\n",
      "5/5 - 0s - loss: 0.1599 - accuracy: 0.9643 - val_loss: 0.1431 - val_accuracy: 0.9733 - 26ms/epoch - 5ms/step\n",
      "Epoch 152/200\n",
      "5/5 - 0s - loss: 0.1579 - accuracy: 0.9643 - val_loss: 0.1423 - val_accuracy: 0.9600 - 24ms/epoch - 5ms/step\n",
      "Epoch 153/200\n",
      "5/5 - 0s - loss: 0.1576 - accuracy: 0.9554 - val_loss: 0.1413 - val_accuracy: 0.9600 - 25ms/epoch - 5ms/step\n",
      "Epoch 154/200\n",
      "5/5 - 0s - loss: 0.1571 - accuracy: 0.9643 - val_loss: 0.1401 - val_accuracy: 0.9667 - 26ms/epoch - 5ms/step\n",
      "Epoch 155/200\n",
      "5/5 - 0s - loss: 0.1554 - accuracy: 0.9643 - val_loss: 0.1393 - val_accuracy: 0.9667 - 24ms/epoch - 5ms/step\n",
      "Epoch 156/200\n",
      "5/5 - 0s - loss: 0.1556 - accuracy: 0.9554 - val_loss: 0.1406 - val_accuracy: 0.9600 - 25ms/epoch - 5ms/step\n",
      "Epoch 157/200\n",
      "5/5 - 0s - loss: 0.1567 - accuracy: 0.9554 - val_loss: 0.1375 - val_accuracy: 0.9667 - 25ms/epoch - 5ms/step\n",
      "Epoch 158/200\n",
      "5/5 - 0s - loss: 0.1530 - accuracy: 0.9554 - val_loss: 0.1367 - val_accuracy: 0.9667 - 25ms/epoch - 5ms/step\n",
      "Epoch 159/200\n",
      "5/5 - 0s - loss: 0.1516 - accuracy: 0.9643 - val_loss: 0.1358 - val_accuracy: 0.9667 - 26ms/epoch - 5ms/step\n",
      "Epoch 160/200\n",
      "5/5 - 0s - loss: 0.1514 - accuracy: 0.9643 - val_loss: 0.1350 - val_accuracy: 0.9733 - 24ms/epoch - 5ms/step\n",
      "Epoch 161/200\n",
      "5/5 - 0s - loss: 0.1502 - accuracy: 0.9643 - val_loss: 0.1344 - val_accuracy: 0.9600 - 27ms/epoch - 5ms/step\n",
      "Epoch 162/200\n",
      "5/5 - 0s - loss: 0.1501 - accuracy: 0.9554 - val_loss: 0.1334 - val_accuracy: 0.9667 - 25ms/epoch - 5ms/step\n",
      "Epoch 163/200\n",
      "5/5 - 0s - loss: 0.1492 - accuracy: 0.9554 - val_loss: 0.1327 - val_accuracy: 0.9667 - 25ms/epoch - 5ms/step\n",
      "Epoch 164/200\n",
      "5/5 - 0s - loss: 0.1481 - accuracy: 0.9643 - val_loss: 0.1318 - val_accuracy: 0.9733 - 26ms/epoch - 5ms/step\n",
      "Epoch 165/200\n",
      "5/5 - 0s - loss: 0.1482 - accuracy: 0.9643 - val_loss: 0.1315 - val_accuracy: 0.9733 - 25ms/epoch - 5ms/step\n",
      "Epoch 166/200\n",
      "5/5 - 0s - loss: 0.1503 - accuracy: 0.9554 - val_loss: 0.1304 - val_accuracy: 0.9667 - 26ms/epoch - 5ms/step\n",
      "Epoch 167/200\n",
      "5/5 - 0s - loss: 0.1459 - accuracy: 0.9643 - val_loss: 0.1296 - val_accuracy: 0.9733 - 24ms/epoch - 5ms/step\n",
      "Epoch 168/200\n",
      "5/5 - 0s - loss: 0.1462 - accuracy: 0.9732 - val_loss: 0.1338 - val_accuracy: 0.9800 - 26ms/epoch - 5ms/step\n",
      "Epoch 169/200\n",
      "5/5 - 0s - loss: 0.1491 - accuracy: 0.9732 - val_loss: 0.1290 - val_accuracy: 0.9800 - 35ms/epoch - 7ms/step\n",
      "Epoch 170/200\n",
      "5/5 - 0s - loss: 0.1449 - accuracy: 0.9643 - val_loss: 0.1279 - val_accuracy: 0.9600 - 40ms/epoch - 8ms/step\n",
      "Epoch 171/200\n",
      "5/5 - 0s - loss: 0.1458 - accuracy: 0.9554 - val_loss: 0.1269 - val_accuracy: 0.9667 - 32ms/epoch - 6ms/step\n",
      "Epoch 172/200\n",
      "5/5 - 0s - loss: 0.1434 - accuracy: 0.9554 - val_loss: 0.1265 - val_accuracy: 0.9600 - 28ms/epoch - 6ms/step\n",
      "Epoch 173/200\n",
      "5/5 - 0s - loss: 0.1416 - accuracy: 0.9643 - val_loss: 0.1258 - val_accuracy: 0.9733 - 25ms/epoch - 5ms/step\n",
      "Epoch 174/200\n",
      "5/5 - 0s - loss: 0.1415 - accuracy: 0.9643 - val_loss: 0.1249 - val_accuracy: 0.9733 - 24ms/epoch - 5ms/step\n",
      "Epoch 175/200\n",
      "5/5 - 0s - loss: 0.1407 - accuracy: 0.9643 - val_loss: 0.1241 - val_accuracy: 0.9733 - 25ms/epoch - 5ms/step\n",
      "Epoch 176/200\n",
      "5/5 - 0s - loss: 0.1406 - accuracy: 0.9554 - val_loss: 0.1247 - val_accuracy: 0.9600 - 26ms/epoch - 5ms/step\n",
      "Epoch 177/200\n",
      "5/5 - 0s - loss: 0.1405 - accuracy: 0.9554 - val_loss: 0.1242 - val_accuracy: 0.9600 - 24ms/epoch - 5ms/step\n",
      "Epoch 178/200\n",
      "5/5 - 0s - loss: 0.1396 - accuracy: 0.9554 - val_loss: 0.1222 - val_accuracy: 0.9733 - 24ms/epoch - 5ms/step\n",
      "Epoch 179/200\n",
      "5/5 - 0s - loss: 0.1385 - accuracy: 0.9643 - val_loss: 0.1216 - val_accuracy: 0.9733 - 25ms/epoch - 5ms/step\n",
      "Epoch 180/200\n",
      "5/5 - 0s - loss: 0.1388 - accuracy: 0.9643 - val_loss: 0.1209 - val_accuracy: 0.9733 - 24ms/epoch - 5ms/step\n",
      "Epoch 181/200\n",
      "5/5 - 0s - loss: 0.1370 - accuracy: 0.9643 - val_loss: 0.1207 - val_accuracy: 0.9667 - 25ms/epoch - 5ms/step\n",
      "Epoch 182/200\n",
      "5/5 - 0s - loss: 0.1361 - accuracy: 0.9643 - val_loss: 0.1199 - val_accuracy: 0.9667 - 24ms/epoch - 5ms/step\n",
      "Epoch 183/200\n",
      "5/5 - 0s - loss: 0.1399 - accuracy: 0.9554 - val_loss: 0.1195 - val_accuracy: 0.9667 - 23ms/epoch - 5ms/step\n",
      "Epoch 184/200\n",
      "5/5 - 0s - loss: 0.1381 - accuracy: 0.9732 - val_loss: 0.1200 - val_accuracy: 0.9800 - 26ms/epoch - 5ms/step\n",
      "Epoch 185/200\n",
      "5/5 - 0s - loss: 0.1387 - accuracy: 0.9643 - val_loss: 0.1180 - val_accuracy: 0.9733 - 29ms/epoch - 6ms/step\n",
      "Epoch 186/200\n",
      "5/5 - 0s - loss: 0.1336 - accuracy: 0.9643 - val_loss: 0.1175 - val_accuracy: 0.9733 - 24ms/epoch - 5ms/step\n",
      "Epoch 187/200\n",
      "5/5 - 0s - loss: 0.1336 - accuracy: 0.9643 - val_loss: 0.1169 - val_accuracy: 0.9733 - 25ms/epoch - 5ms/step\n",
      "Epoch 188/200\n",
      "5/5 - 0s - loss: 0.1361 - accuracy: 0.9554 - val_loss: 0.1164 - val_accuracy: 0.9667 - 24ms/epoch - 5ms/step\n",
      "Epoch 189/200\n",
      "5/5 - 0s - loss: 0.1337 - accuracy: 0.9643 - val_loss: 0.1176 - val_accuracy: 0.9800 - 24ms/epoch - 5ms/step\n",
      "Epoch 190/200\n",
      "5/5 - 0s - loss: 0.1350 - accuracy: 0.9732 - val_loss: 0.1162 - val_accuracy: 0.9800 - 24ms/epoch - 5ms/step\n",
      "Epoch 191/200\n",
      "5/5 - 0s - loss: 0.1322 - accuracy: 0.9732 - val_loss: 0.1150 - val_accuracy: 0.9733 - 25ms/epoch - 5ms/step\n",
      "Epoch 192/200\n",
      "5/5 - 0s - loss: 0.1334 - accuracy: 0.9643 - val_loss: 0.1149 - val_accuracy: 0.9600 - 24ms/epoch - 5ms/step\n",
      "Epoch 193/200\n",
      "5/5 - 0s - loss: 0.1314 - accuracy: 0.9643 - val_loss: 0.1137 - val_accuracy: 0.9733 - 23ms/epoch - 5ms/step\n",
      "Epoch 194/200\n",
      "5/5 - 0s - loss: 0.1294 - accuracy: 0.9643 - val_loss: 0.1133 - val_accuracy: 0.9733 - 25ms/epoch - 5ms/step\n",
      "Epoch 195/200\n",
      "5/5 - 0s - loss: 0.1300 - accuracy: 0.9554 - val_loss: 0.1142 - val_accuracy: 0.9600 - 26ms/epoch - 5ms/step\n",
      "Epoch 196/200\n",
      "5/5 - 0s - loss: 0.1291 - accuracy: 0.9554 - val_loss: 0.1124 - val_accuracy: 0.9667 - 24ms/epoch - 5ms/step\n",
      "Epoch 197/200\n",
      "5/5 - 0s - loss: 0.1274 - accuracy: 0.9643 - val_loss: 0.1120 - val_accuracy: 0.9733 - 24ms/epoch - 5ms/step\n",
      "Epoch 198/200\n",
      "5/5 - 0s - loss: 0.1300 - accuracy: 0.9732 - val_loss: 0.1123 - val_accuracy: 0.9800 - 26ms/epoch - 5ms/step\n",
      "Epoch 199/200\n",
      "5/5 - 0s - loss: 0.1268 - accuracy: 0.9643 - val_loss: 0.1112 - val_accuracy: 0.9667 - 25ms/epoch - 5ms/step\n",
      "Epoch 200/200\n",
      "5/5 - 0s - loss: 0.1267 - accuracy: 0.9554 - val_loss: 0.1126 - val_accuracy: 0.9600 - 24ms/epoch - 5ms/step\n"
     ]
    }
   ],
   "source": [
    "history = model.fit(x_train, y_train, verbose=2, batch_size=25, epochs=200, validation_data=(x, y))"
   ]
  },
  {
   "cell_type": "markdown",
   "metadata": {},
   "source": [
    "Bisa dilihat dari hasil training diatas, akurasi dan validasi sudah diatas 70% sehingga sudah memenuhi kententuan."
   ]
  },
  {
   "cell_type": "code",
   "execution_count": 113,
   "metadata": {},
   "outputs": [
    {
     "name": "stdout",
     "output_type": "stream",
     "text": [
      "Akurasi validasi : 0.9599999785423279\n"
     ]
    }
   ],
   "source": [
    "print(\"Akurasi validasi :\", history.history[\"val_accuracy\"][-1])"
   ]
  },
  {
   "cell_type": "markdown",
   "metadata": {},
   "source": [
    "## Evaluate"
   ]
  },
  {
   "cell_type": "code",
   "execution_count": 114,
   "metadata": {},
   "outputs": [
    {
     "name": "stdout",
     "output_type": "stream",
     "text": [
      "2/2 [==============================] - 0s 2ms/step - loss: 0.0683 - accuracy: 0.9737\n",
      "Hasil Tes Loss: 0.068286\n",
      "Hasil Tes Akurasi : 0.973684\n"
     ]
    }
   ],
   "source": [
    "result = model.evaluate(x_test, y_test)\n",
    "print('Hasil Tes Loss: {:4f}'.format(result[0]))\n",
    "print('Hasil Tes Akurasi : {:4f}'.format(result[1]))"
   ]
  }
 ],
 "metadata": {
  "kernelspec": {
   "display_name": "Python 3.10.7 64-bit",
   "language": "python",
   "name": "python3"
  },
  "language_info": {
   "codemirror_mode": {
    "name": "ipython",
    "version": 3
   },
   "file_extension": ".py",
   "mimetype": "text/x-python",
   "name": "python",
   "nbconvert_exporter": "python",
   "pygments_lexer": "ipython3",
   "version": "3.10.7"
  },
  "orig_nbformat": 4,
  "vscode": {
   "interpreter": {
    "hash": "200e2a1a991d180c9c309c789f657d054eb1e69794afbc0e2ae3f183f1fccf4c"
   }
  }
 },
 "nbformat": 4,
 "nbformat_minor": 2
}
