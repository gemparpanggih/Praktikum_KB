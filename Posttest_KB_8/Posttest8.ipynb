{
 "cells": [
  {
   "cell_type": "markdown",
   "metadata": {},
   "source": [
    "# Klasifikasi Dataset Iris dari SKLEARN dengan Neural Network Sederhana"
   ]
  },
  {
   "cell_type": "markdown",
   "metadata": {},
   "source": [
    "### Gempar Panggih Dwi Putra\n",
    "### NIM 2009106022\n",
    "### INFORMATIKA A2 2020\n"
   ]
  },
  {
   "cell_type": "markdown",
   "metadata": {},
   "source": [
    "## Import"
   ]
  },
  {
   "cell_type": "code",
   "execution_count": 12,
   "metadata": {},
   "outputs": [],
   "source": [
    "import numpy as np\n",
    "\n",
    "from sklearn.datasets import load_iris\n",
    "from sklearn.model_selection import train_test_split\n",
    "from sklearn.preprocessing import OneHotEncoder\n",
    "from keras.layers import Dense\n",
    "from keras.optimizers import Adam\n",
    "from keras.models import Sequential"
   ]
  },
  {
   "cell_type": "markdown",
   "metadata": {},
   "source": [
    "## Preprocessing"
   ]
  },
  {
   "cell_type": "markdown",
   "metadata": {},
   "source": [
    "### Load Datasets"
   ]
  },
  {
   "cell_type": "code",
   "execution_count": 13,
   "metadata": {},
   "outputs": [],
   "source": [
    "df = load_iris()"
   ]
  },
  {
   "cell_type": "code",
   "execution_count": 14,
   "metadata": {},
   "outputs": [
    {
     "name": "stdout",
     "output_type": "stream",
     "text": [
      "Example data: \n",
      "[[5.1 3.5 1.4 0.2]\n",
      " [4.9 3.  1.4 0.2]\n",
      " [4.7 3.2 1.3 0.2]\n",
      " [4.6 3.1 1.5 0.2]\n",
      " [5.  3.6 1.4 0.2]]\n",
      "Example labels: \n",
      "[0 0 0 0 0]\n"
     ]
    }
   ],
   "source": [
    "print('Example data: ')\n",
    "print(df.data[:5])\n",
    "print('Example labels: ')\n",
    "print(df.target[:5])"
   ]
  },
  {
   "cell_type": "markdown",
   "metadata": {},
   "source": [
    "### Reshape"
   ]
  },
  {
   "cell_type": "code",
   "execution_count": 15,
   "metadata": {},
   "outputs": [],
   "source": [
    "x = df.data\n",
    "yx = df.target.reshape(-1, 1)"
   ]
  },
  {
   "cell_type": "markdown",
   "metadata": {},
   "source": [
    "### One Hot Encode"
   ]
  },
  {
   "cell_type": "code",
   "execution_count": 16,
   "metadata": {},
   "outputs": [],
   "source": [
    "encoder = OneHotEncoder(sparse=False)\n",
    "y = encoder.fit_transform(yx)"
   ]
  },
  {
   "cell_type": "markdown",
   "metadata": {},
   "source": [
    "### Split Data"
   ]
  },
  {
   "cell_type": "code",
   "execution_count": 17,
   "metadata": {},
   "outputs": [],
   "source": [
    "x_train, x_test, y_train, y_test = train_test_split(x, y, test_size=0.25)"
   ]
  },
  {
   "cell_type": "markdown",
   "metadata": {},
   "source": [
    "## Modelling"
   ]
  },
  {
   "cell_type": "markdown",
   "metadata": {},
   "source": [
    "### Model Sequential"
   ]
  },
  {
   "cell_type": "code",
   "execution_count": 18,
   "metadata": {},
   "outputs": [],
   "source": [
    "model = Sequential()\n",
    "\n",
    "model.add(Dense(10, input_shape=(4,), activation='relu', name='var1'))\n",
    "model.add(Dense(10, activation='relu', name='var2'))\n",
    "model.add(Dense(3, activation='softmax', name='output'))"
   ]
  },
  {
   "cell_type": "markdown",
   "metadata": {},
   "source": [
    "### Optimizer Model"
   ]
  },
  {
   "cell_type": "code",
   "execution_count": 19,
   "metadata": {},
   "outputs": [
    {
     "name": "stderr",
     "output_type": "stream",
     "text": [
      "c:\\Users\\NITRO 5\\AppData\\Local\\Programs\\Python\\Python310\\lib\\site-packages\\keras\\optimizers\\optimizer_v2\\adam.py:114: UserWarning: The `lr` argument is deprecated, use `learning_rate` instead.\n",
      "  super().__init__(name, **kwargs)\n"
     ]
    }
   ],
   "source": [
    "optimizer = Adam(lr=0.001)\n",
    "model.compile(optimizer, loss='categorical_crossentropy', metrics=['accuracy'])"
   ]
  },
  {
   "cell_type": "markdown",
   "metadata": {},
   "source": [
    "### Model Summary"
   ]
  },
  {
   "cell_type": "code",
   "execution_count": 20,
   "metadata": {},
   "outputs": [
    {
     "name": "stdout",
     "output_type": "stream",
     "text": [
      "Summary: \n",
      "Model: \"sequential_1\"\n",
      "_________________________________________________________________\n",
      " Layer (type)                Output Shape              Param #   \n",
      "=================================================================\n",
      " var1 (Dense)                (None, 10)                50        \n",
      "                                                                 \n",
      " var2 (Dense)                (None, 10)                110       \n",
      "                                                                 \n",
      " output (Dense)              (None, 3)                 33        \n",
      "                                                                 \n",
      "=================================================================\n",
      "Total params: 193\n",
      "Trainable params: 193\n",
      "Non-trainable params: 0\n",
      "_________________________________________________________________\n",
      "None\n"
     ]
    }
   ],
   "source": [
    "print('Summary: ')\n",
    "print(model.summary())"
   ]
  },
  {
   "cell_type": "markdown",
   "metadata": {},
   "source": [
    "### Training Model"
   ]
  },
  {
   "cell_type": "code",
   "execution_count": 21,
   "metadata": {},
   "outputs": [
    {
     "name": "stdout",
     "output_type": "stream",
     "text": [
      "Epoch 1/200\n",
      "5/5 - 0s - loss: 1.2175 - accuracy: 0.3571 - val_loss: 1.2154 - val_accuracy: 0.3333 - 342ms/epoch - 68ms/step\n",
      "Epoch 2/200\n",
      "5/5 - 0s - loss: 1.1757 - accuracy: 0.3571 - val_loss: 1.1710 - val_accuracy: 0.3333 - 18ms/epoch - 4ms/step\n",
      "Epoch 3/200\n",
      "5/5 - 0s - loss: 1.1354 - accuracy: 0.3571 - val_loss: 1.1336 - val_accuracy: 0.3333 - 35ms/epoch - 7ms/step\n",
      "Epoch 4/200\n",
      "5/5 - 0s - loss: 1.1027 - accuracy: 0.3571 - val_loss: 1.1018 - val_accuracy: 0.3333 - 29ms/epoch - 6ms/step\n",
      "Epoch 5/200\n",
      "5/5 - 0s - loss: 1.0754 - accuracy: 0.3571 - val_loss: 1.0748 - val_accuracy: 0.3333 - 33ms/epoch - 7ms/step\n",
      "Epoch 6/200\n",
      "5/5 - 0s - loss: 1.0532 - accuracy: 0.3571 - val_loss: 1.0523 - val_accuracy: 0.3333 - 31ms/epoch - 6ms/step\n",
      "Epoch 7/200\n",
      "5/5 - 0s - loss: 1.0327 - accuracy: 0.3571 - val_loss: 1.0345 - val_accuracy: 0.3333 - 33ms/epoch - 7ms/step\n",
      "Epoch 8/200\n",
      "5/5 - 0s - loss: 1.0181 - accuracy: 0.3571 - val_loss: 1.0189 - val_accuracy: 0.3333 - 32ms/epoch - 6ms/step\n",
      "Epoch 9/200\n",
      "5/5 - 0s - loss: 1.0019 - accuracy: 0.3571 - val_loss: 1.0053 - val_accuracy: 0.3333 - 36ms/epoch - 7ms/step\n",
      "Epoch 10/200\n",
      "5/5 - 0s - loss: 0.9892 - accuracy: 0.3571 - val_loss: 0.9923 - val_accuracy: 0.3333 - 35ms/epoch - 7ms/step\n",
      "Epoch 11/200\n",
      "5/5 - 0s - loss: 0.9771 - accuracy: 0.3571 - val_loss: 0.9800 - val_accuracy: 0.3333 - 32ms/epoch - 6ms/step\n",
      "Epoch 12/200\n",
      "5/5 - 0s - loss: 0.9648 - accuracy: 0.3571 - val_loss: 0.9691 - val_accuracy: 0.3333 - 33ms/epoch - 7ms/step\n",
      "Epoch 13/200\n",
      "5/5 - 0s - loss: 0.9544 - accuracy: 0.3571 - val_loss: 0.9585 - val_accuracy: 0.3333 - 35ms/epoch - 7ms/step\n",
      "Epoch 14/200\n",
      "5/5 - 0s - loss: 0.9446 - accuracy: 0.3571 - val_loss: 0.9485 - val_accuracy: 0.3333 - 24ms/epoch - 5ms/step\n",
      "Epoch 15/200\n",
      "5/5 - 0s - loss: 0.9344 - accuracy: 0.3571 - val_loss: 0.9385 - val_accuracy: 0.3333 - 33ms/epoch - 7ms/step\n",
      "Epoch 16/200\n",
      "5/5 - 0s - loss: 0.9256 - accuracy: 0.3571 - val_loss: 0.9285 - val_accuracy: 0.3333 - 28ms/epoch - 6ms/step\n",
      "Epoch 17/200\n",
      "5/5 - 0s - loss: 0.9161 - accuracy: 0.3571 - val_loss: 0.9189 - val_accuracy: 0.3333 - 29ms/epoch - 6ms/step\n",
      "Epoch 18/200\n",
      "5/5 - 0s - loss: 0.9068 - accuracy: 0.3571 - val_loss: 0.9096 - val_accuracy: 0.3467 - 22ms/epoch - 4ms/step\n",
      "Epoch 19/200\n",
      "5/5 - 0s - loss: 0.8969 - accuracy: 0.3839 - val_loss: 0.9007 - val_accuracy: 0.4133 - 29ms/epoch - 6ms/step\n",
      "Epoch 20/200\n",
      "5/5 - 0s - loss: 0.8872 - accuracy: 0.4732 - val_loss: 0.8901 - val_accuracy: 0.5267 - 22ms/epoch - 4ms/step\n",
      "Epoch 21/200\n",
      "5/5 - 0s - loss: 0.8781 - accuracy: 0.5982 - val_loss: 0.8794 - val_accuracy: 0.6333 - 29ms/epoch - 6ms/step\n",
      "Epoch 22/200\n",
      "5/5 - 0s - loss: 0.8672 - accuracy: 0.6607 - val_loss: 0.8693 - val_accuracy: 0.6533 - 28ms/epoch - 6ms/step\n",
      "Epoch 23/200\n",
      "5/5 - 0s - loss: 0.8572 - accuracy: 0.6786 - val_loss: 0.8594 - val_accuracy: 0.6600 - 31ms/epoch - 6ms/step\n",
      "Epoch 24/200\n",
      "5/5 - 0s - loss: 0.8466 - accuracy: 0.6786 - val_loss: 0.8485 - val_accuracy: 0.6600 - 43ms/epoch - 9ms/step\n",
      "Epoch 25/200\n",
      "5/5 - 0s - loss: 0.8361 - accuracy: 0.6875 - val_loss: 0.8371 - val_accuracy: 0.6667 - 35ms/epoch - 7ms/step\n",
      "Epoch 26/200\n",
      "5/5 - 0s - loss: 0.8252 - accuracy: 0.6875 - val_loss: 0.8258 - val_accuracy: 0.6667 - 29ms/epoch - 6ms/step\n",
      "Epoch 27/200\n",
      "5/5 - 0s - loss: 0.8140 - accuracy: 0.6875 - val_loss: 0.8143 - val_accuracy: 0.6733 - 24ms/epoch - 5ms/step\n",
      "Epoch 28/200\n",
      "5/5 - 0s - loss: 0.8038 - accuracy: 0.6964 - val_loss: 0.8028 - val_accuracy: 0.6733 - 28ms/epoch - 6ms/step\n",
      "Epoch 29/200\n",
      "5/5 - 0s - loss: 0.7929 - accuracy: 0.6964 - val_loss: 0.7912 - val_accuracy: 0.6733 - 26ms/epoch - 5ms/step\n",
      "Epoch 30/200\n",
      "5/5 - 0s - loss: 0.7814 - accuracy: 0.6964 - val_loss: 0.7802 - val_accuracy: 0.6733 - 24ms/epoch - 5ms/step\n",
      "Epoch 31/200\n",
      "5/5 - 0s - loss: 0.7702 - accuracy: 0.6964 - val_loss: 0.7691 - val_accuracy: 0.6733 - 27ms/epoch - 5ms/step\n",
      "Epoch 32/200\n",
      "5/5 - 0s - loss: 0.7596 - accuracy: 0.6964 - val_loss: 0.7582 - val_accuracy: 0.6733 - 25ms/epoch - 5ms/step\n",
      "Epoch 33/200\n",
      "5/5 - 0s - loss: 0.7486 - accuracy: 0.6964 - val_loss: 0.7478 - val_accuracy: 0.6733 - 25ms/epoch - 5ms/step\n",
      "Epoch 34/200\n",
      "5/5 - 0s - loss: 0.7383 - accuracy: 0.6964 - val_loss: 0.7374 - val_accuracy: 0.6733 - 26ms/epoch - 5ms/step\n",
      "Epoch 35/200\n",
      "5/5 - 0s - loss: 0.7282 - accuracy: 0.6964 - val_loss: 0.7270 - val_accuracy: 0.6800 - 25ms/epoch - 5ms/step\n",
      "Epoch 36/200\n",
      "5/5 - 0s - loss: 0.7180 - accuracy: 0.7054 - val_loss: 0.7170 - val_accuracy: 0.6867 - 24ms/epoch - 5ms/step\n",
      "Epoch 37/200\n",
      "5/5 - 0s - loss: 0.7083 - accuracy: 0.7143 - val_loss: 0.7073 - val_accuracy: 0.6867 - 25ms/epoch - 5ms/step\n",
      "Epoch 38/200\n",
      "5/5 - 0s - loss: 0.6986 - accuracy: 0.7143 - val_loss: 0.6980 - val_accuracy: 0.6867 - 27ms/epoch - 5ms/step\n",
      "Epoch 39/200\n",
      "5/5 - 0s - loss: 0.6890 - accuracy: 0.7143 - val_loss: 0.6886 - val_accuracy: 0.6867 - 24ms/epoch - 5ms/step\n",
      "Epoch 40/200\n",
      "5/5 - 0s - loss: 0.6800 - accuracy: 0.7143 - val_loss: 0.6797 - val_accuracy: 0.6867 - 26ms/epoch - 5ms/step\n",
      "Epoch 41/200\n",
      "5/5 - 0s - loss: 0.6714 - accuracy: 0.7143 - val_loss: 0.6706 - val_accuracy: 0.7000 - 28ms/epoch - 6ms/step\n",
      "Epoch 42/200\n",
      "5/5 - 0s - loss: 0.6626 - accuracy: 0.7321 - val_loss: 0.6619 - val_accuracy: 0.7133 - 27ms/epoch - 5ms/step\n",
      "Epoch 43/200\n",
      "5/5 - 0s - loss: 0.6539 - accuracy: 0.7321 - val_loss: 0.6536 - val_accuracy: 0.7133 - 24ms/epoch - 5ms/step\n",
      "Epoch 44/200\n",
      "5/5 - 0s - loss: 0.6454 - accuracy: 0.7321 - val_loss: 0.6454 - val_accuracy: 0.7133 - 25ms/epoch - 5ms/step\n",
      "Epoch 45/200\n",
      "5/5 - 0s - loss: 0.6374 - accuracy: 0.7321 - val_loss: 0.6371 - val_accuracy: 0.7267 - 25ms/epoch - 5ms/step\n",
      "Epoch 46/200\n",
      "5/5 - 0s - loss: 0.6293 - accuracy: 0.7411 - val_loss: 0.6290 - val_accuracy: 0.7267 - 25ms/epoch - 5ms/step\n",
      "Epoch 47/200\n",
      "5/5 - 0s - loss: 0.6213 - accuracy: 0.7500 - val_loss: 0.6208 - val_accuracy: 0.7400 - 25ms/epoch - 5ms/step\n",
      "Epoch 48/200\n",
      "5/5 - 0s - loss: 0.6134 - accuracy: 0.7500 - val_loss: 0.6127 - val_accuracy: 0.7600 - 26ms/epoch - 5ms/step\n",
      "Epoch 49/200\n",
      "5/5 - 0s - loss: 0.6055 - accuracy: 0.7857 - val_loss: 0.6046 - val_accuracy: 0.7867 - 24ms/epoch - 5ms/step\n",
      "Epoch 50/200\n",
      "5/5 - 0s - loss: 0.5980 - accuracy: 0.8036 - val_loss: 0.5969 - val_accuracy: 0.7933 - 27ms/epoch - 5ms/step\n",
      "Epoch 51/200\n",
      "5/5 - 0s - loss: 0.5910 - accuracy: 0.8036 - val_loss: 0.5894 - val_accuracy: 0.8000 - 25ms/epoch - 5ms/step\n",
      "Epoch 52/200\n",
      "5/5 - 0s - loss: 0.5838 - accuracy: 0.8125 - val_loss: 0.5818 - val_accuracy: 0.8200 - 24ms/epoch - 5ms/step\n",
      "Epoch 53/200\n",
      "5/5 - 0s - loss: 0.5768 - accuracy: 0.8304 - val_loss: 0.5746 - val_accuracy: 0.8267 - 26ms/epoch - 5ms/step\n",
      "Epoch 54/200\n",
      "5/5 - 0s - loss: 0.5689 - accuracy: 0.8304 - val_loss: 0.5681 - val_accuracy: 0.8000 - 26ms/epoch - 5ms/step\n",
      "Epoch 55/200\n",
      "5/5 - 0s - loss: 0.5624 - accuracy: 0.8036 - val_loss: 0.5614 - val_accuracy: 0.7933 - 26ms/epoch - 5ms/step\n",
      "Epoch 56/200\n",
      "5/5 - 0s - loss: 0.5553 - accuracy: 0.8036 - val_loss: 0.5550 - val_accuracy: 0.7933 - 25ms/epoch - 5ms/step\n",
      "Epoch 57/200\n",
      "5/5 - 0s - loss: 0.5484 - accuracy: 0.8036 - val_loss: 0.5479 - val_accuracy: 0.7933 - 24ms/epoch - 5ms/step\n",
      "Epoch 58/200\n",
      "5/5 - 0s - loss: 0.5419 - accuracy: 0.8125 - val_loss: 0.5407 - val_accuracy: 0.8200 - 25ms/epoch - 5ms/step\n",
      "Epoch 59/200\n",
      "5/5 - 0s - loss: 0.5355 - accuracy: 0.8304 - val_loss: 0.5339 - val_accuracy: 0.8333 - 25ms/epoch - 5ms/step\n",
      "Epoch 60/200\n",
      "5/5 - 0s - loss: 0.5285 - accuracy: 0.8393 - val_loss: 0.5272 - val_accuracy: 0.8333 - 27ms/epoch - 5ms/step\n",
      "Epoch 61/200\n",
      "5/5 - 0s - loss: 0.5226 - accuracy: 0.8393 - val_loss: 0.5208 - val_accuracy: 0.8333 - 26ms/epoch - 5ms/step\n",
      "Epoch 62/200\n",
      "5/5 - 0s - loss: 0.5161 - accuracy: 0.8571 - val_loss: 0.5141 - val_accuracy: 0.8800 - 25ms/epoch - 5ms/step\n",
      "Epoch 63/200\n",
      "5/5 - 0s - loss: 0.5106 - accuracy: 0.8482 - val_loss: 0.5082 - val_accuracy: 0.8600 - 26ms/epoch - 5ms/step\n",
      "Epoch 64/200\n",
      "5/5 - 0s - loss: 0.5041 - accuracy: 0.8571 - val_loss: 0.5020 - val_accuracy: 0.8800 - 25ms/epoch - 5ms/step\n",
      "Epoch 65/200\n",
      "5/5 - 0s - loss: 0.4981 - accuracy: 0.8839 - val_loss: 0.4960 - val_accuracy: 0.8800 - 27ms/epoch - 5ms/step\n",
      "Epoch 66/200\n",
      "5/5 - 0s - loss: 0.4918 - accuracy: 0.8750 - val_loss: 0.4904 - val_accuracy: 0.8733 - 27ms/epoch - 5ms/step\n",
      "Epoch 67/200\n",
      "5/5 - 0s - loss: 0.4862 - accuracy: 0.8839 - val_loss: 0.4845 - val_accuracy: 0.8800 - 32ms/epoch - 6ms/step\n",
      "Epoch 68/200\n",
      "5/5 - 0s - loss: 0.4804 - accuracy: 0.8839 - val_loss: 0.4785 - val_accuracy: 0.8800 - 39ms/epoch - 8ms/step\n",
      "Epoch 69/200\n",
      "5/5 - 0s - loss: 0.4751 - accuracy: 0.8839 - val_loss: 0.4732 - val_accuracy: 0.8800 - 38ms/epoch - 8ms/step\n",
      "Epoch 70/200\n",
      "5/5 - 0s - loss: 0.4696 - accuracy: 0.8839 - val_loss: 0.4675 - val_accuracy: 0.8867 - 25ms/epoch - 5ms/step\n",
      "Epoch 71/200\n",
      "5/5 - 0s - loss: 0.4646 - accuracy: 0.8839 - val_loss: 0.4622 - val_accuracy: 0.8867 - 30ms/epoch - 6ms/step\n",
      "Epoch 72/200\n",
      "5/5 - 0s - loss: 0.4588 - accuracy: 0.8929 - val_loss: 0.4565 - val_accuracy: 0.9067 - 23ms/epoch - 5ms/step\n",
      "Epoch 73/200\n",
      "5/5 - 0s - loss: 0.4537 - accuracy: 0.9018 - val_loss: 0.4508 - val_accuracy: 0.9133 - 25ms/epoch - 5ms/step\n",
      "Epoch 74/200\n",
      "5/5 - 0s - loss: 0.4488 - accuracy: 0.9107 - val_loss: 0.4456 - val_accuracy: 0.9200 - 23ms/epoch - 5ms/step\n",
      "Epoch 75/200\n",
      "5/5 - 0s - loss: 0.4443 - accuracy: 0.9196 - val_loss: 0.4407 - val_accuracy: 0.9200 - 23ms/epoch - 5ms/step\n",
      "Epoch 76/200\n",
      "5/5 - 0s - loss: 0.4396 - accuracy: 0.9107 - val_loss: 0.4355 - val_accuracy: 0.9200 - 23ms/epoch - 5ms/step\n",
      "Epoch 77/200\n",
      "5/5 - 0s - loss: 0.4348 - accuracy: 0.9286 - val_loss: 0.4308 - val_accuracy: 0.9200 - 24ms/epoch - 5ms/step\n",
      "Epoch 78/200\n",
      "5/5 - 0s - loss: 0.4298 - accuracy: 0.9107 - val_loss: 0.4259 - val_accuracy: 0.9200 - 23ms/epoch - 5ms/step\n",
      "Epoch 79/200\n",
      "5/5 - 0s - loss: 0.4253 - accuracy: 0.9196 - val_loss: 0.4211 - val_accuracy: 0.9200 - 23ms/epoch - 5ms/step\n",
      "Epoch 80/200\n",
      "5/5 - 0s - loss: 0.4209 - accuracy: 0.9196 - val_loss: 0.4168 - val_accuracy: 0.9267 - 23ms/epoch - 5ms/step\n",
      "Epoch 81/200\n",
      "5/5 - 0s - loss: 0.4163 - accuracy: 0.9196 - val_loss: 0.4124 - val_accuracy: 0.9200 - 23ms/epoch - 5ms/step\n",
      "Epoch 82/200\n",
      "5/5 - 0s - loss: 0.4121 - accuracy: 0.9196 - val_loss: 0.4075 - val_accuracy: 0.9200 - 22ms/epoch - 4ms/step\n",
      "Epoch 83/200\n",
      "5/5 - 0s - loss: 0.4077 - accuracy: 0.9286 - val_loss: 0.4038 - val_accuracy: 0.9200 - 23ms/epoch - 5ms/step\n",
      "Epoch 84/200\n",
      "5/5 - 0s - loss: 0.4040 - accuracy: 0.9196 - val_loss: 0.3991 - val_accuracy: 0.9267 - 22ms/epoch - 4ms/step\n",
      "Epoch 85/200\n",
      "5/5 - 0s - loss: 0.4001 - accuracy: 0.9196 - val_loss: 0.3959 - val_accuracy: 0.9200 - 23ms/epoch - 5ms/step\n",
      "Epoch 86/200\n",
      "5/5 - 0s - loss: 0.3948 - accuracy: 0.9286 - val_loss: 0.3910 - val_accuracy: 0.9267 - 23ms/epoch - 5ms/step\n",
      "Epoch 87/200\n",
      "5/5 - 0s - loss: 0.3910 - accuracy: 0.9286 - val_loss: 0.3863 - val_accuracy: 0.9200 - 23ms/epoch - 5ms/step\n",
      "Epoch 88/200\n",
      "5/5 - 0s - loss: 0.3872 - accuracy: 0.9286 - val_loss: 0.3822 - val_accuracy: 0.9333 - 25ms/epoch - 5ms/step\n",
      "Epoch 89/200\n",
      "5/5 - 0s - loss: 0.3835 - accuracy: 0.9286 - val_loss: 0.3783 - val_accuracy: 0.9333 - 27ms/epoch - 5ms/step\n",
      "Epoch 90/200\n",
      "5/5 - 0s - loss: 0.3796 - accuracy: 0.9286 - val_loss: 0.3747 - val_accuracy: 0.9200 - 27ms/epoch - 5ms/step\n",
      "Epoch 91/200\n",
      "5/5 - 0s - loss: 0.3757 - accuracy: 0.9196 - val_loss: 0.3710 - val_accuracy: 0.9267 - 23ms/epoch - 5ms/step\n",
      "Epoch 92/200\n",
      "5/5 - 0s - loss: 0.3718 - accuracy: 0.9286 - val_loss: 0.3676 - val_accuracy: 0.9267 - 23ms/epoch - 5ms/step\n",
      "Epoch 93/200\n",
      "5/5 - 0s - loss: 0.3684 - accuracy: 0.9286 - val_loss: 0.3646 - val_accuracy: 0.9267 - 23ms/epoch - 5ms/step\n",
      "Epoch 94/200\n",
      "5/5 - 0s - loss: 0.3652 - accuracy: 0.9286 - val_loss: 0.3606 - val_accuracy: 0.9267 - 23ms/epoch - 5ms/step\n",
      "Epoch 95/200\n",
      "5/5 - 0s - loss: 0.3617 - accuracy: 0.9286 - val_loss: 0.3566 - val_accuracy: 0.9267 - 24ms/epoch - 5ms/step\n",
      "Epoch 96/200\n",
      "5/5 - 0s - loss: 0.3588 - accuracy: 0.9286 - val_loss: 0.3538 - val_accuracy: 0.9267 - 25ms/epoch - 5ms/step\n",
      "Epoch 97/200\n",
      "5/5 - 0s - loss: 0.3545 - accuracy: 0.9286 - val_loss: 0.3501 - val_accuracy: 0.9267 - 24ms/epoch - 5ms/step\n",
      "Epoch 98/200\n",
      "5/5 - 0s - loss: 0.3510 - accuracy: 0.9286 - val_loss: 0.3462 - val_accuracy: 0.9267 - 23ms/epoch - 5ms/step\n",
      "Epoch 99/200\n",
      "5/5 - 0s - loss: 0.3486 - accuracy: 0.9196 - val_loss: 0.3420 - val_accuracy: 0.9333 - 23ms/epoch - 5ms/step\n",
      "Epoch 100/200\n",
      "5/5 - 0s - loss: 0.3446 - accuracy: 0.9286 - val_loss: 0.3388 - val_accuracy: 0.9333 - 24ms/epoch - 5ms/step\n",
      "Epoch 101/200\n",
      "5/5 - 0s - loss: 0.3416 - accuracy: 0.9286 - val_loss: 0.3356 - val_accuracy: 0.9333 - 24ms/epoch - 5ms/step\n",
      "Epoch 102/200\n",
      "5/5 - 0s - loss: 0.3404 - accuracy: 0.9196 - val_loss: 0.3345 - val_accuracy: 0.9267 - 23ms/epoch - 5ms/step\n",
      "Epoch 103/200\n",
      "5/5 - 0s - loss: 0.3360 - accuracy: 0.9286 - val_loss: 0.3296 - val_accuracy: 0.9267 - 23ms/epoch - 5ms/step\n",
      "Epoch 104/200\n",
      "5/5 - 0s - loss: 0.3322 - accuracy: 0.9286 - val_loss: 0.3258 - val_accuracy: 0.9333 - 31ms/epoch - 6ms/step\n",
      "Epoch 105/200\n",
      "5/5 - 0s - loss: 0.3291 - accuracy: 0.9196 - val_loss: 0.3234 - val_accuracy: 0.9333 - 25ms/epoch - 5ms/step\n",
      "Epoch 106/200\n",
      "5/5 - 0s - loss: 0.3257 - accuracy: 0.9286 - val_loss: 0.3199 - val_accuracy: 0.9333 - 24ms/epoch - 5ms/step\n",
      "Epoch 107/200\n",
      "5/5 - 0s - loss: 0.3229 - accuracy: 0.9286 - val_loss: 0.3164 - val_accuracy: 0.9467 - 23ms/epoch - 5ms/step\n",
      "Epoch 108/200\n",
      "5/5 - 0s - loss: 0.3205 - accuracy: 0.9375 - val_loss: 0.3133 - val_accuracy: 0.9467 - 24ms/epoch - 5ms/step\n",
      "Epoch 109/200\n",
      "5/5 - 0s - loss: 0.3172 - accuracy: 0.9375 - val_loss: 0.3104 - val_accuracy: 0.9467 - 24ms/epoch - 5ms/step\n",
      "Epoch 110/200\n",
      "5/5 - 0s - loss: 0.3140 - accuracy: 0.9286 - val_loss: 0.3083 - val_accuracy: 0.9400 - 23ms/epoch - 5ms/step\n",
      "Epoch 111/200\n",
      "5/5 - 0s - loss: 0.3115 - accuracy: 0.9375 - val_loss: 0.3061 - val_accuracy: 0.9267 - 23ms/epoch - 5ms/step\n",
      "Epoch 112/200\n",
      "5/5 - 0s - loss: 0.3103 - accuracy: 0.9286 - val_loss: 0.3033 - val_accuracy: 0.9333 - 23ms/epoch - 5ms/step\n",
      "Epoch 113/200\n",
      "5/5 - 0s - loss: 0.3057 - accuracy: 0.9286 - val_loss: 0.2987 - val_accuracy: 0.9533 - 28ms/epoch - 6ms/step\n",
      "Epoch 114/200\n",
      "5/5 - 0s - loss: 0.3040 - accuracy: 0.9464 - val_loss: 0.2958 - val_accuracy: 0.9600 - 39ms/epoch - 8ms/step\n",
      "Epoch 115/200\n",
      "5/5 - 0s - loss: 0.3009 - accuracy: 0.9554 - val_loss: 0.2932 - val_accuracy: 0.9533 - 36ms/epoch - 7ms/step\n",
      "Epoch 116/200\n",
      "5/5 - 0s - loss: 0.2983 - accuracy: 0.9375 - val_loss: 0.2912 - val_accuracy: 0.9467 - 27ms/epoch - 5ms/step\n",
      "Epoch 117/200\n",
      "5/5 - 0s - loss: 0.2955 - accuracy: 0.9375 - val_loss: 0.2888 - val_accuracy: 0.9467 - 24ms/epoch - 5ms/step\n",
      "Epoch 118/200\n",
      "5/5 - 0s - loss: 0.2936 - accuracy: 0.9286 - val_loss: 0.2860 - val_accuracy: 0.9467 - 22ms/epoch - 4ms/step\n",
      "Epoch 119/200\n",
      "5/5 - 0s - loss: 0.2926 - accuracy: 0.9464 - val_loss: 0.2825 - val_accuracy: 0.9600 - 23ms/epoch - 5ms/step\n",
      "Epoch 120/200\n",
      "5/5 - 0s - loss: 0.2884 - accuracy: 0.9554 - val_loss: 0.2799 - val_accuracy: 0.9600 - 23ms/epoch - 5ms/step\n",
      "Epoch 121/200\n",
      "5/5 - 0s - loss: 0.2854 - accuracy: 0.9554 - val_loss: 0.2776 - val_accuracy: 0.9533 - 22ms/epoch - 4ms/step\n",
      "Epoch 122/200\n",
      "5/5 - 0s - loss: 0.2828 - accuracy: 0.9464 - val_loss: 0.2755 - val_accuracy: 0.9467 - 23ms/epoch - 5ms/step\n",
      "Epoch 123/200\n",
      "5/5 - 0s - loss: 0.2803 - accuracy: 0.9375 - val_loss: 0.2733 - val_accuracy: 0.9467 - 24ms/epoch - 5ms/step\n",
      "Epoch 124/200\n",
      "5/5 - 0s - loss: 0.2779 - accuracy: 0.9375 - val_loss: 0.2710 - val_accuracy: 0.9467 - 23ms/epoch - 5ms/step\n",
      "Epoch 125/200\n",
      "5/5 - 0s - loss: 0.2765 - accuracy: 0.9375 - val_loss: 0.2678 - val_accuracy: 0.9533 - 23ms/epoch - 5ms/step\n",
      "Epoch 126/200\n",
      "5/5 - 0s - loss: 0.2733 - accuracy: 0.9464 - val_loss: 0.2663 - val_accuracy: 0.9533 - 24ms/epoch - 5ms/step\n",
      "Epoch 127/200\n",
      "5/5 - 0s - loss: 0.2711 - accuracy: 0.9464 - val_loss: 0.2637 - val_accuracy: 0.9467 - 24ms/epoch - 5ms/step\n",
      "Epoch 128/200\n",
      "5/5 - 0s - loss: 0.2690 - accuracy: 0.9464 - val_loss: 0.2613 - val_accuracy: 0.9533 - 23ms/epoch - 5ms/step\n",
      "Epoch 129/200\n",
      "5/5 - 0s - loss: 0.2661 - accuracy: 0.9464 - val_loss: 0.2582 - val_accuracy: 0.9600 - 24ms/epoch - 5ms/step\n",
      "Epoch 130/200\n",
      "5/5 - 0s - loss: 0.2640 - accuracy: 0.9554 - val_loss: 0.2554 - val_accuracy: 0.9600 - 24ms/epoch - 5ms/step\n",
      "Epoch 131/200\n",
      "5/5 - 0s - loss: 0.2621 - accuracy: 0.9554 - val_loss: 0.2532 - val_accuracy: 0.9600 - 24ms/epoch - 5ms/step\n",
      "Epoch 132/200\n",
      "5/5 - 0s - loss: 0.2596 - accuracy: 0.9554 - val_loss: 0.2512 - val_accuracy: 0.9600 - 24ms/epoch - 5ms/step\n",
      "Epoch 133/200\n",
      "5/5 - 0s - loss: 0.2574 - accuracy: 0.9554 - val_loss: 0.2495 - val_accuracy: 0.9600 - 24ms/epoch - 5ms/step\n",
      "Epoch 134/200\n",
      "5/5 - 0s - loss: 0.2552 - accuracy: 0.9464 - val_loss: 0.2476 - val_accuracy: 0.9533 - 25ms/epoch - 5ms/step\n",
      "Epoch 135/200\n",
      "5/5 - 0s - loss: 0.2532 - accuracy: 0.9464 - val_loss: 0.2452 - val_accuracy: 0.9600 - 23ms/epoch - 5ms/step\n",
      "Epoch 136/200\n",
      "5/5 - 0s - loss: 0.2511 - accuracy: 0.9554 - val_loss: 0.2424 - val_accuracy: 0.9600 - 23ms/epoch - 5ms/step\n",
      "Epoch 137/200\n",
      "5/5 - 0s - loss: 0.2503 - accuracy: 0.9554 - val_loss: 0.2399 - val_accuracy: 0.9667 - 25ms/epoch - 5ms/step\n",
      "Epoch 138/200\n",
      "5/5 - 0s - loss: 0.2467 - accuracy: 0.9643 - val_loss: 0.2385 - val_accuracy: 0.9600 - 27ms/epoch - 5ms/step\n",
      "Epoch 139/200\n",
      "5/5 - 0s - loss: 0.2453 - accuracy: 0.9464 - val_loss: 0.2372 - val_accuracy: 0.9600 - 27ms/epoch - 5ms/step\n",
      "Epoch 140/200\n",
      "5/5 - 0s - loss: 0.2435 - accuracy: 0.9554 - val_loss: 0.2346 - val_accuracy: 0.9600 - 32ms/epoch - 6ms/step\n",
      "Epoch 141/200\n",
      "5/5 - 0s - loss: 0.2414 - accuracy: 0.9554 - val_loss: 0.2334 - val_accuracy: 0.9600 - 28ms/epoch - 6ms/step\n",
      "Epoch 142/200\n",
      "5/5 - 0s - loss: 0.2407 - accuracy: 0.9554 - val_loss: 0.2320 - val_accuracy: 0.9600 - 25ms/epoch - 5ms/step\n",
      "Epoch 143/200\n",
      "5/5 - 0s - loss: 0.2371 - accuracy: 0.9464 - val_loss: 0.2280 - val_accuracy: 0.9667 - 25ms/epoch - 5ms/step\n",
      "Epoch 144/200\n",
      "5/5 - 0s - loss: 0.2353 - accuracy: 0.9643 - val_loss: 0.2258 - val_accuracy: 0.9667 - 24ms/epoch - 5ms/step\n",
      "Epoch 145/200\n",
      "5/5 - 0s - loss: 0.2346 - accuracy: 0.9643 - val_loss: 0.2242 - val_accuracy: 0.9667 - 25ms/epoch - 5ms/step\n",
      "Epoch 146/200\n",
      "5/5 - 0s - loss: 0.2318 - accuracy: 0.9643 - val_loss: 0.2222 - val_accuracy: 0.9667 - 23ms/epoch - 5ms/step\n",
      "Epoch 147/200\n",
      "5/5 - 0s - loss: 0.2298 - accuracy: 0.9643 - val_loss: 0.2203 - val_accuracy: 0.9667 - 24ms/epoch - 5ms/step\n",
      "Epoch 148/200\n",
      "5/5 - 0s - loss: 0.2280 - accuracy: 0.9643 - val_loss: 0.2187 - val_accuracy: 0.9667 - 22ms/epoch - 4ms/step\n",
      "Epoch 149/200\n",
      "5/5 - 0s - loss: 0.2287 - accuracy: 0.9643 - val_loss: 0.2191 - val_accuracy: 0.9600 - 23ms/epoch - 5ms/step\n",
      "Epoch 150/200\n",
      "5/5 - 0s - loss: 0.2250 - accuracy: 0.9643 - val_loss: 0.2161 - val_accuracy: 0.9667 - 23ms/epoch - 5ms/step\n",
      "Epoch 151/200\n",
      "5/5 - 0s - loss: 0.2225 - accuracy: 0.9732 - val_loss: 0.2131 - val_accuracy: 0.9667 - 22ms/epoch - 4ms/step\n",
      "Epoch 152/200\n",
      "5/5 - 0s - loss: 0.2263 - accuracy: 0.9643 - val_loss: 0.2126 - val_accuracy: 0.9733 - 24ms/epoch - 5ms/step\n",
      "Epoch 153/200\n",
      "5/5 - 0s - loss: 0.2231 - accuracy: 0.9554 - val_loss: 0.2097 - val_accuracy: 0.9667 - 24ms/epoch - 5ms/step\n",
      "Epoch 154/200\n",
      "5/5 - 0s - loss: 0.2185 - accuracy: 0.9643 - val_loss: 0.2081 - val_accuracy: 0.9667 - 24ms/epoch - 5ms/step\n",
      "Epoch 155/200\n",
      "5/5 - 0s - loss: 0.2167 - accuracy: 0.9643 - val_loss: 0.2079 - val_accuracy: 0.9667 - 22ms/epoch - 4ms/step\n",
      "Epoch 156/200\n",
      "5/5 - 0s - loss: 0.2152 - accuracy: 0.9643 - val_loss: 0.2061 - val_accuracy: 0.9667 - 22ms/epoch - 4ms/step\n",
      "Epoch 157/200\n",
      "5/5 - 0s - loss: 0.2133 - accuracy: 0.9643 - val_loss: 0.2047 - val_accuracy: 0.9667 - 25ms/epoch - 5ms/step\n",
      "Epoch 158/200\n",
      "5/5 - 0s - loss: 0.2117 - accuracy: 0.9643 - val_loss: 0.2029 - val_accuracy: 0.9733 - 24ms/epoch - 5ms/step\n",
      "Epoch 159/200\n",
      "5/5 - 0s - loss: 0.2108 - accuracy: 0.9643 - val_loss: 0.2002 - val_accuracy: 0.9667 - 23ms/epoch - 5ms/step\n",
      "Epoch 160/200\n",
      "5/5 - 0s - loss: 0.2086 - accuracy: 0.9643 - val_loss: 0.1990 - val_accuracy: 0.9667 - 22ms/epoch - 4ms/step\n",
      "Epoch 161/200\n",
      "5/5 - 0s - loss: 0.2071 - accuracy: 0.9643 - val_loss: 0.1975 - val_accuracy: 0.9667 - 24ms/epoch - 5ms/step\n",
      "Epoch 162/200\n",
      "5/5 - 0s - loss: 0.2067 - accuracy: 0.9732 - val_loss: 0.1969 - val_accuracy: 0.9733 - 23ms/epoch - 5ms/step\n",
      "Epoch 163/200\n",
      "5/5 - 0s - loss: 0.2042 - accuracy: 0.9732 - val_loss: 0.1954 - val_accuracy: 0.9733 - 22ms/epoch - 4ms/step\n",
      "Epoch 164/200\n",
      "5/5 - 0s - loss: 0.2026 - accuracy: 0.9732 - val_loss: 0.1932 - val_accuracy: 0.9733 - 26ms/epoch - 5ms/step\n",
      "Epoch 165/200\n",
      "5/5 - 0s - loss: 0.2010 - accuracy: 0.9643 - val_loss: 0.1909 - val_accuracy: 0.9667 - 28ms/epoch - 6ms/step\n",
      "Epoch 166/200\n",
      "5/5 - 0s - loss: 0.2006 - accuracy: 0.9643 - val_loss: 0.1895 - val_accuracy: 0.9667 - 23ms/epoch - 5ms/step\n",
      "Epoch 167/200\n",
      "5/5 - 0s - loss: 0.1990 - accuracy: 0.9643 - val_loss: 0.1881 - val_accuracy: 0.9667 - 23ms/epoch - 5ms/step\n",
      "Epoch 168/200\n",
      "5/5 - 0s - loss: 0.1976 - accuracy: 0.9643 - val_loss: 0.1867 - val_accuracy: 0.9667 - 23ms/epoch - 5ms/step\n",
      "Epoch 169/200\n",
      "5/5 - 0s - loss: 0.1970 - accuracy: 0.9643 - val_loss: 0.1854 - val_accuracy: 0.9667 - 23ms/epoch - 5ms/step\n",
      "Epoch 170/200\n",
      "5/5 - 0s - loss: 0.1953 - accuracy: 0.9643 - val_loss: 0.1839 - val_accuracy: 0.9667 - 24ms/epoch - 5ms/step\n",
      "Epoch 171/200\n",
      "5/5 - 0s - loss: 0.1939 - accuracy: 0.9732 - val_loss: 0.1836 - val_accuracy: 0.9733 - 23ms/epoch - 5ms/step\n",
      "Epoch 172/200\n",
      "5/5 - 0s - loss: 0.1917 - accuracy: 0.9732 - val_loss: 0.1829 - val_accuracy: 0.9733 - 24ms/epoch - 5ms/step\n",
      "Epoch 173/200\n",
      "5/5 - 0s - loss: 0.1911 - accuracy: 0.9732 - val_loss: 0.1825 - val_accuracy: 0.9733 - 24ms/epoch - 5ms/step\n",
      "Epoch 174/200\n",
      "5/5 - 0s - loss: 0.1903 - accuracy: 0.9732 - val_loss: 0.1797 - val_accuracy: 0.9733 - 24ms/epoch - 5ms/step\n",
      "Epoch 175/200\n",
      "5/5 - 0s - loss: 0.1882 - accuracy: 0.9732 - val_loss: 0.1786 - val_accuracy: 0.9733 - 23ms/epoch - 5ms/step\n",
      "Epoch 176/200\n",
      "5/5 - 0s - loss: 0.1880 - accuracy: 0.9732 - val_loss: 0.1790 - val_accuracy: 0.9733 - 23ms/epoch - 5ms/step\n",
      "Epoch 177/200\n",
      "5/5 - 0s - loss: 0.1869 - accuracy: 0.9732 - val_loss: 0.1761 - val_accuracy: 0.9733 - 22ms/epoch - 4ms/step\n",
      "Epoch 178/200\n",
      "5/5 - 0s - loss: 0.1845 - accuracy: 0.9732 - val_loss: 0.1748 - val_accuracy: 0.9733 - 23ms/epoch - 5ms/step\n",
      "Epoch 179/200\n",
      "5/5 - 0s - loss: 0.1833 - accuracy: 0.9732 - val_loss: 0.1735 - val_accuracy: 0.9733 - 23ms/epoch - 5ms/step\n",
      "Epoch 180/200\n",
      "5/5 - 0s - loss: 0.1821 - accuracy: 0.9732 - val_loss: 0.1717 - val_accuracy: 0.9667 - 23ms/epoch - 5ms/step\n",
      "Epoch 181/200\n",
      "5/5 - 0s - loss: 0.1810 - accuracy: 0.9643 - val_loss: 0.1705 - val_accuracy: 0.9667 - 22ms/epoch - 4ms/step\n",
      "Epoch 182/200\n",
      "5/5 - 0s - loss: 0.1805 - accuracy: 0.9732 - val_loss: 0.1703 - val_accuracy: 0.9733 - 26ms/epoch - 5ms/step\n",
      "Epoch 183/200\n",
      "5/5 - 0s - loss: 0.1789 - accuracy: 0.9732 - val_loss: 0.1690 - val_accuracy: 0.9733 - 23ms/epoch - 5ms/step\n",
      "Epoch 184/200\n",
      "5/5 - 0s - loss: 0.1777 - accuracy: 0.9732 - val_loss: 0.1668 - val_accuracy: 0.9667 - 24ms/epoch - 5ms/step\n",
      "Epoch 185/200\n",
      "5/5 - 0s - loss: 0.1766 - accuracy: 0.9643 - val_loss: 0.1658 - val_accuracy: 0.9667 - 24ms/epoch - 5ms/step\n",
      "Epoch 186/200\n",
      "5/5 - 0s - loss: 0.1754 - accuracy: 0.9643 - val_loss: 0.1648 - val_accuracy: 0.9667 - 23ms/epoch - 5ms/step\n",
      "Epoch 187/200\n",
      "5/5 - 0s - loss: 0.1742 - accuracy: 0.9643 - val_loss: 0.1635 - val_accuracy: 0.9667 - 23ms/epoch - 5ms/step\n",
      "Epoch 188/200\n",
      "5/5 - 0s - loss: 0.1732 - accuracy: 0.9643 - val_loss: 0.1630 - val_accuracy: 0.9733 - 23ms/epoch - 5ms/step\n",
      "Epoch 189/200\n",
      "5/5 - 0s - loss: 0.1723 - accuracy: 0.9732 - val_loss: 0.1625 - val_accuracy: 0.9733 - 25ms/epoch - 5ms/step\n",
      "Epoch 190/200\n",
      "5/5 - 0s - loss: 0.1721 - accuracy: 0.9732 - val_loss: 0.1607 - val_accuracy: 0.9733 - 23ms/epoch - 5ms/step\n",
      "Epoch 191/200\n",
      "5/5 - 0s - loss: 0.1700 - accuracy: 0.9732 - val_loss: 0.1596 - val_accuracy: 0.9733 - 23ms/epoch - 5ms/step\n",
      "Epoch 192/200\n",
      "5/5 - 0s - loss: 0.1691 - accuracy: 0.9732 - val_loss: 0.1585 - val_accuracy: 0.9733 - 32ms/epoch - 6ms/step\n",
      "Epoch 193/200\n",
      "5/5 - 0s - loss: 0.1677 - accuracy: 0.9732 - val_loss: 0.1572 - val_accuracy: 0.9667 - 26ms/epoch - 5ms/step\n",
      "Epoch 194/200\n",
      "5/5 - 0s - loss: 0.1672 - accuracy: 0.9643 - val_loss: 0.1562 - val_accuracy: 0.9667 - 23ms/epoch - 5ms/step\n",
      "Epoch 195/200\n",
      "5/5 - 0s - loss: 0.1675 - accuracy: 0.9643 - val_loss: 0.1552 - val_accuracy: 0.9733 - 24ms/epoch - 5ms/step\n",
      "Epoch 196/200\n",
      "5/5 - 0s - loss: 0.1673 - accuracy: 0.9732 - val_loss: 0.1551 - val_accuracy: 0.9733 - 24ms/epoch - 5ms/step\n",
      "Epoch 197/200\n",
      "5/5 - 0s - loss: 0.1639 - accuracy: 0.9732 - val_loss: 0.1546 - val_accuracy: 0.9733 - 23ms/epoch - 5ms/step\n",
      "Epoch 198/200\n",
      "5/5 - 0s - loss: 0.1632 - accuracy: 0.9732 - val_loss: 0.1539 - val_accuracy: 0.9733 - 23ms/epoch - 5ms/step\n",
      "Epoch 199/200\n",
      "5/5 - 0s - loss: 0.1624 - accuracy: 0.9732 - val_loss: 0.1522 - val_accuracy: 0.9733 - 23ms/epoch - 5ms/step\n",
      "Epoch 200/200\n",
      "5/5 - 0s - loss: 0.1613 - accuracy: 0.9732 - val_loss: 0.1509 - val_accuracy: 0.9733 - 23ms/epoch - 5ms/step\n"
     ]
    },
    {
     "data": {
      "text/plain": [
       "<keras.callbacks.History at 0x2722e020b80>"
      ]
     },
     "execution_count": 21,
     "metadata": {},
     "output_type": "execute_result"
    }
   ],
   "source": [
    "model.fit(x_train, y_train, verbose=2, batch_size=25, epochs=200, validation_data=(x, y))"
   ]
  },
  {
   "cell_type": "markdown",
   "metadata": {},
   "source": [
    "Bisa dilihat dari hasil training diatas, akurasi dan validasi sudah diatas 70% sehingga sudah memenuhi kententuan."
   ]
  },
  {
   "cell_type": "markdown",
   "metadata": {},
   "source": [
    "## Evaluate"
   ]
  },
  {
   "cell_type": "code",
   "execution_count": 27,
   "metadata": {},
   "outputs": [
    {
     "name": "stdout",
     "output_type": "stream",
     "text": [
      "2/2 [==============================] - 0s 2ms/step - loss: 0.1226 - accuracy: 0.9737\n",
      "Hasil Tes Loss: 0.122640\n",
      "Hasil Tes Akurasi : 0.973684\n",
      "[[4.9 3.1 1.5 0.1]\n",
      " [6.9 3.2 5.7 2.3]\n",
      " [6.7 3.1 5.6 2.4]\n",
      " [6.4 2.8 5.6 2.1]\n",
      " [5.4 3.9 1.3 0.4]\n",
      " [4.4 2.9 1.4 0.2]\n",
      " [5.1 3.5 1.4 0.3]\n",
      " [6.4 2.9 4.3 1.3]\n",
      " [6.3 2.3 4.4 1.3]\n",
      " [5.1 3.5 1.4 0.2]\n",
      " [4.8 3.  1.4 0.3]\n",
      " [6.7 3.1 4.7 1.5]\n",
      " [4.9 3.1 1.5 0.2]\n",
      " [6.7 3.3 5.7 2.1]\n",
      " [5.6 2.5 3.9 1.1]\n",
      " [5.7 3.  4.2 1.2]\n",
      " [5.5 2.4 3.7 1. ]\n",
      " [7.7 3.  6.1 2.3]\n",
      " [6.1 2.8 4.  1.3]\n",
      " [6.3 2.5 4.9 1.5]\n",
      " [5.4 3.4 1.7 0.2]\n",
      " [5.8 2.7 4.1 1. ]\n",
      " [5.1 3.3 1.7 0.5]\n",
      " [6.5 2.8 4.6 1.5]\n",
      " [6.7 2.5 5.8 1.8]\n",
      " [5.9 3.  5.1 1.8]\n",
      " [6.1 2.9 4.7 1.4]\n",
      " [7.2 3.  5.8 1.6]\n",
      " [4.7 3.2 1.3 0.2]\n",
      " [6.8 3.2 5.9 2.3]\n",
      " [5.2 4.1 1.5 0.1]\n",
      " [6.2 2.9 4.3 1.3]\n",
      " [6.3 3.3 4.7 1.6]\n",
      " [6.2 2.2 4.5 1.5]\n",
      " [6.7 3.1 4.4 1.4]\n",
      " [6.7 3.3 5.7 2.5]\n",
      " [4.3 3.  1.1 0.1]\n",
      " [5.5 3.5 1.3 0.2]]\n"
     ]
    }
   ],
   "source": [
    "result = model.evaluate(x_test, y_test)\n",
    "print('Hasil Tes Loss: {:4f}'.format(result[0]))\n",
    "print('Hasil Tes Akurasi : {:4f}'.format(result[1]))"
   ]
  }
 ],
 "metadata": {
  "kernelspec": {
   "display_name": "Python 3.10.7 64-bit",
   "language": "python",
   "name": "python3"
  },
  "language_info": {
   "codemirror_mode": {
    "name": "ipython",
    "version": 3
   },
   "file_extension": ".py",
   "mimetype": "text/x-python",
   "name": "python",
   "nbconvert_exporter": "python",
   "pygments_lexer": "ipython3",
   "version": "3.10.7"
  },
  "orig_nbformat": 4,
  "vscode": {
   "interpreter": {
    "hash": "200e2a1a991d180c9c309c789f657d054eb1e69794afbc0e2ae3f183f1fccf4c"
   }
  }
 },
 "nbformat": 4,
 "nbformat_minor": 2
}
