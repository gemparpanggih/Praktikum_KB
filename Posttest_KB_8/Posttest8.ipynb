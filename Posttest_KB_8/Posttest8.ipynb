{
 "cells": [
  {
   "cell_type": "markdown",
   "metadata": {},
   "source": [
    "# Klasifikasi Dataset Iris dari SKLEARN dengan Neural Network Sederhana"
   ]
  },
  {
   "cell_type": "markdown",
   "metadata": {},
   "source": [
    "### Gempar Panggih Dwi Putra\n",
    "### NIM 2009106022\n",
    "### INFORMATIKA A2 2020\n"
   ]
  },
  {
   "cell_type": "markdown",
   "metadata": {},
   "source": [
    "## Import"
   ]
  },
  {
   "cell_type": "code",
   "execution_count": 29,
   "metadata": {},
   "outputs": [],
   "source": [
    "import numpy as np\n",
    "\n",
    "from sklearn.datasets import load_iris\n",
    "from sklearn.model_selection import train_test_split\n",
    "from sklearn.preprocessing import OneHotEncoder\n",
    "from keras.layers import Dense\n",
    "from keras.optimizers import Adam\n",
    "from keras.models import Sequential"
   ]
  },
  {
   "cell_type": "markdown",
   "metadata": {},
   "source": [
    "## Preprocessing"
   ]
  },
  {
   "cell_type": "markdown",
   "metadata": {},
   "source": [
    "### Load Datasets"
   ]
  },
  {
   "cell_type": "code",
   "execution_count": 30,
   "metadata": {},
   "outputs": [],
   "source": [
    "df = load_iris()"
   ]
  },
  {
   "cell_type": "code",
   "execution_count": 31,
   "metadata": {},
   "outputs": [
    {
     "name": "stdout",
     "output_type": "stream",
     "text": [
      "Example data: \n",
      "[[5.1 3.5 1.4 0.2]\n",
      " [4.9 3.  1.4 0.2]\n",
      " [4.7 3.2 1.3 0.2]\n",
      " [4.6 3.1 1.5 0.2]\n",
      " [5.  3.6 1.4 0.2]]\n",
      "Example labels: \n",
      "[0 0 0 0 0]\n"
     ]
    }
   ],
   "source": [
    "print('Example data: ')\n",
    "print(df.data[:5])\n",
    "print('Example labels: ')\n",
    "print(df.target[:5])"
   ]
  },
  {
   "cell_type": "markdown",
   "metadata": {},
   "source": [
    "### Reshape"
   ]
  },
  {
   "cell_type": "code",
   "execution_count": 32,
   "metadata": {},
   "outputs": [],
   "source": [
    "x = df.data\n",
    "yx = df.target.reshape(-1, 1)"
   ]
  },
  {
   "cell_type": "markdown",
   "metadata": {},
   "source": [
    "### One Hot Encode"
   ]
  },
  {
   "cell_type": "code",
   "execution_count": 33,
   "metadata": {},
   "outputs": [],
   "source": [
    "encoder = OneHotEncoder(sparse=False)\n",
    "y = encoder.fit_transform(yx)"
   ]
  },
  {
   "cell_type": "markdown",
   "metadata": {},
   "source": [
    "### Split Data"
   ]
  },
  {
   "cell_type": "code",
   "execution_count": 34,
   "metadata": {},
   "outputs": [],
   "source": [
    "x_train, x_test, y_train, y_test = train_test_split(x, y, test_size=0.25)"
   ]
  },
  {
   "cell_type": "markdown",
   "metadata": {},
   "source": [
    "## Modelling"
   ]
  },
  {
   "cell_type": "markdown",
   "metadata": {},
   "source": [
    "### Model Sequential"
   ]
  },
  {
   "cell_type": "code",
   "execution_count": 35,
   "metadata": {},
   "outputs": [],
   "source": [
    "model = Sequential()\n",
    "\n",
    "model.add(Dense(10, input_shape=(4,), activation='relu', name='var1'))\n",
    "model.add(Dense(10, activation='relu', name='var2'))\n",
    "model.add(Dense(3, activation='softmax', name='output'))"
   ]
  },
  {
   "cell_type": "markdown",
   "metadata": {},
   "source": [
    "### Optimizer Model"
   ]
  },
  {
   "cell_type": "code",
   "execution_count": 36,
   "metadata": {},
   "outputs": [
    {
     "name": "stderr",
     "output_type": "stream",
     "text": [
      "c:\\Users\\NITRO 5\\AppData\\Local\\Programs\\Python\\Python310\\lib\\site-packages\\keras\\optimizers\\optimizer_v2\\adam.py:114: UserWarning: The `lr` argument is deprecated, use `learning_rate` instead.\n",
      "  super().__init__(name, **kwargs)\n"
     ]
    }
   ],
   "source": [
    "optimizer = Adam(lr=0.001)\n",
    "model.compile(optimizer, loss='categorical_crossentropy', metrics=['accuracy'])"
   ]
  },
  {
   "cell_type": "markdown",
   "metadata": {},
   "source": [
    "### Model Summary"
   ]
  },
  {
   "cell_type": "code",
   "execution_count": 37,
   "metadata": {},
   "outputs": [
    {
     "name": "stdout",
     "output_type": "stream",
     "text": [
      "Summary: \n",
      "Model: \"sequential_2\"\n",
      "_________________________________________________________________\n",
      " Layer (type)                Output Shape              Param #   \n",
      "=================================================================\n",
      " var1 (Dense)                (None, 10)                50        \n",
      "                                                                 \n",
      " var2 (Dense)                (None, 10)                110       \n",
      "                                                                 \n",
      " output (Dense)              (None, 3)                 33        \n",
      "                                                                 \n",
      "=================================================================\n",
      "Total params: 193\n",
      "Trainable params: 193\n",
      "Non-trainable params: 0\n",
      "_________________________________________________________________\n",
      "None\n"
     ]
    }
   ],
   "source": [
    "print('Summary: ')\n",
    "print(model.summary())"
   ]
  },
  {
   "cell_type": "markdown",
   "metadata": {},
   "source": [
    "### Training Model"
   ]
  },
  {
   "cell_type": "code",
   "execution_count": 38,
   "metadata": {},
   "outputs": [
    {
     "name": "stdout",
     "output_type": "stream",
     "text": [
      "Epoch 1/200\n",
      "5/5 - 0s - loss: 1.3738 - accuracy: 0.3393 - val_loss: 1.3406 - val_accuracy: 0.3333 - 354ms/epoch - 71ms/step\n",
      "Epoch 2/200\n",
      "5/5 - 0s - loss: 1.3021 - accuracy: 0.3393 - val_loss: 1.2759 - val_accuracy: 0.3333 - 32ms/epoch - 6ms/step\n",
      "Epoch 3/200\n",
      "5/5 - 0s - loss: 1.2463 - accuracy: 0.3393 - val_loss: 1.2192 - val_accuracy: 0.3333 - 27ms/epoch - 5ms/step\n",
      "Epoch 4/200\n",
      "5/5 - 0s - loss: 1.1895 - accuracy: 0.3393 - val_loss: 1.1716 - val_accuracy: 0.3333 - 34ms/epoch - 7ms/step\n",
      "Epoch 5/200\n",
      "5/5 - 0s - loss: 1.1455 - accuracy: 0.3393 - val_loss: 1.1295 - val_accuracy: 0.3333 - 23ms/epoch - 5ms/step\n",
      "Epoch 6/200\n",
      "5/5 - 0s - loss: 1.1085 - accuracy: 0.3393 - val_loss: 1.0931 - val_accuracy: 0.3333 - 42ms/epoch - 8ms/step\n",
      "Epoch 7/200\n",
      "5/5 - 0s - loss: 1.0724 - accuracy: 0.3393 - val_loss: 1.0609 - val_accuracy: 0.3333 - 27ms/epoch - 5ms/step\n",
      "Epoch 8/200\n",
      "5/5 - 0s - loss: 1.0426 - accuracy: 0.3393 - val_loss: 1.0311 - val_accuracy: 0.3333 - 44ms/epoch - 9ms/step\n",
      "Epoch 9/200\n",
      "5/5 - 0s - loss: 1.0149 - accuracy: 0.3393 - val_loss: 1.0036 - val_accuracy: 0.3333 - 28ms/epoch - 6ms/step\n",
      "Epoch 10/200\n",
      "5/5 - 0s - loss: 0.9875 - accuracy: 0.3393 - val_loss: 0.9780 - val_accuracy: 0.3333 - 34ms/epoch - 7ms/step\n",
      "Epoch 11/200\n",
      "5/5 - 0s - loss: 0.9629 - accuracy: 0.3393 - val_loss: 0.9540 - val_accuracy: 0.3333 - 38ms/epoch - 8ms/step\n",
      "Epoch 12/200\n",
      "5/5 - 0s - loss: 0.9396 - accuracy: 0.3393 - val_loss: 0.9316 - val_accuracy: 0.3333 - 30ms/epoch - 6ms/step\n",
      "Epoch 13/200\n",
      "5/5 - 0s - loss: 0.9175 - accuracy: 0.3750 - val_loss: 0.9098 - val_accuracy: 0.4200 - 37ms/epoch - 7ms/step\n",
      "Epoch 14/200\n",
      "5/5 - 0s - loss: 0.8965 - accuracy: 0.4911 - val_loss: 0.8881 - val_accuracy: 0.5867 - 40ms/epoch - 8ms/step\n",
      "Epoch 15/200\n",
      "5/5 - 0s - loss: 0.8747 - accuracy: 0.6250 - val_loss: 0.8669 - val_accuracy: 0.6467 - 51ms/epoch - 10ms/step\n",
      "Epoch 16/200\n",
      "5/5 - 0s - loss: 0.8537 - accuracy: 0.6696 - val_loss: 0.8460 - val_accuracy: 0.6667 - 42ms/epoch - 8ms/step\n",
      "Epoch 17/200\n",
      "5/5 - 0s - loss: 0.8323 - accuracy: 0.6786 - val_loss: 0.8233 - val_accuracy: 0.6733 - 29ms/epoch - 6ms/step\n",
      "Epoch 18/200\n",
      "5/5 - 0s - loss: 0.8091 - accuracy: 0.6875 - val_loss: 0.7975 - val_accuracy: 0.6733 - 31ms/epoch - 6ms/step\n",
      "Epoch 19/200\n",
      "5/5 - 0s - loss: 0.7828 - accuracy: 0.6964 - val_loss: 0.7728 - val_accuracy: 0.6933 - 31ms/epoch - 6ms/step\n",
      "Epoch 20/200\n",
      "5/5 - 0s - loss: 0.7595 - accuracy: 0.7054 - val_loss: 0.7528 - val_accuracy: 0.6933 - 24ms/epoch - 5ms/step\n",
      "Epoch 21/200\n",
      "5/5 - 0s - loss: 0.7391 - accuracy: 0.7143 - val_loss: 0.7325 - val_accuracy: 0.7067 - 28ms/epoch - 6ms/step\n",
      "Epoch 22/200\n",
      "5/5 - 0s - loss: 0.7184 - accuracy: 0.7321 - val_loss: 0.7125 - val_accuracy: 0.7400 - 32ms/epoch - 6ms/step\n",
      "Epoch 23/200\n",
      "5/5 - 0s - loss: 0.6988 - accuracy: 0.7411 - val_loss: 0.6941 - val_accuracy: 0.7467 - 26ms/epoch - 5ms/step\n",
      "Epoch 24/200\n",
      "5/5 - 0s - loss: 0.6808 - accuracy: 0.7679 - val_loss: 0.6755 - val_accuracy: 0.7667 - 44ms/epoch - 9ms/step\n",
      "Epoch 25/200\n",
      "5/5 - 0s - loss: 0.6614 - accuracy: 0.7768 - val_loss: 0.6571 - val_accuracy: 0.7800 - 60ms/epoch - 12ms/step\n",
      "Epoch 26/200\n",
      "5/5 - 0s - loss: 0.6434 - accuracy: 0.7768 - val_loss: 0.6395 - val_accuracy: 0.7800 - 32ms/epoch - 6ms/step\n",
      "Epoch 27/200\n",
      "5/5 - 0s - loss: 0.6260 - accuracy: 0.7857 - val_loss: 0.6217 - val_accuracy: 0.8067 - 21ms/epoch - 4ms/step\n",
      "Epoch 28/200\n",
      "5/5 - 0s - loss: 0.6082 - accuracy: 0.8125 - val_loss: 0.6050 - val_accuracy: 0.8200 - 22ms/epoch - 4ms/step\n",
      "Epoch 29/200\n",
      "5/5 - 0s - loss: 0.5918 - accuracy: 0.8214 - val_loss: 0.5887 - val_accuracy: 0.8200 - 22ms/epoch - 4ms/step\n",
      "Epoch 30/200\n",
      "5/5 - 0s - loss: 0.5755 - accuracy: 0.8214 - val_loss: 0.5729 - val_accuracy: 0.8400 - 23ms/epoch - 5ms/step\n",
      "Epoch 31/200\n",
      "5/5 - 0s - loss: 0.5600 - accuracy: 0.8482 - val_loss: 0.5580 - val_accuracy: 0.8400 - 23ms/epoch - 5ms/step\n",
      "Epoch 32/200\n",
      "5/5 - 0s - loss: 0.5450 - accuracy: 0.8571 - val_loss: 0.5434 - val_accuracy: 0.8600 - 24ms/epoch - 5ms/step\n",
      "Epoch 33/200\n",
      "5/5 - 0s - loss: 0.5313 - accuracy: 0.8661 - val_loss: 0.5295 - val_accuracy: 0.8800 - 21ms/epoch - 4ms/step\n",
      "Epoch 34/200\n",
      "5/5 - 0s - loss: 0.5178 - accuracy: 0.9018 - val_loss: 0.5168 - val_accuracy: 0.9267 - 24ms/epoch - 5ms/step\n",
      "Epoch 35/200\n",
      "5/5 - 0s - loss: 0.5046 - accuracy: 0.9375 - val_loss: 0.5036 - val_accuracy: 0.9200 - 23ms/epoch - 5ms/step\n",
      "Epoch 36/200\n",
      "5/5 - 0s - loss: 0.4932 - accuracy: 0.8929 - val_loss: 0.4920 - val_accuracy: 0.8867 - 23ms/epoch - 5ms/step\n",
      "Epoch 37/200\n",
      "5/5 - 0s - loss: 0.4797 - accuracy: 0.8839 - val_loss: 0.4800 - val_accuracy: 0.9200 - 23ms/epoch - 5ms/step\n",
      "Epoch 38/200\n",
      "5/5 - 0s - loss: 0.4682 - accuracy: 0.9375 - val_loss: 0.4694 - val_accuracy: 0.9267 - 23ms/epoch - 5ms/step\n",
      "Epoch 39/200\n",
      "5/5 - 0s - loss: 0.4571 - accuracy: 0.9375 - val_loss: 0.4583 - val_accuracy: 0.9267 - 24ms/epoch - 5ms/step\n",
      "Epoch 40/200\n",
      "5/5 - 0s - loss: 0.4464 - accuracy: 0.9375 - val_loss: 0.4483 - val_accuracy: 0.9200 - 22ms/epoch - 4ms/step\n",
      "Epoch 41/200\n",
      "5/5 - 0s - loss: 0.4365 - accuracy: 0.9286 - val_loss: 0.4394 - val_accuracy: 0.9267 - 23ms/epoch - 5ms/step\n",
      "Epoch 42/200\n",
      "5/5 - 0s - loss: 0.4274 - accuracy: 0.9196 - val_loss: 0.4296 - val_accuracy: 0.9267 - 23ms/epoch - 5ms/step\n",
      "Epoch 43/200\n",
      "5/5 - 0s - loss: 0.4185 - accuracy: 0.9286 - val_loss: 0.4210 - val_accuracy: 0.9333 - 23ms/epoch - 5ms/step\n",
      "Epoch 44/200\n",
      "5/5 - 0s - loss: 0.4092 - accuracy: 0.9464 - val_loss: 0.4117 - val_accuracy: 0.9333 - 23ms/epoch - 5ms/step\n",
      "Epoch 45/200\n",
      "5/5 - 0s - loss: 0.4003 - accuracy: 0.9464 - val_loss: 0.4031 - val_accuracy: 0.9267 - 23ms/epoch - 5ms/step\n",
      "Epoch 46/200\n",
      "5/5 - 0s - loss: 0.3911 - accuracy: 0.9375 - val_loss: 0.3950 - val_accuracy: 0.9400 - 24ms/epoch - 5ms/step\n",
      "Epoch 47/200\n",
      "5/5 - 0s - loss: 0.3836 - accuracy: 0.9464 - val_loss: 0.3873 - val_accuracy: 0.9400 - 23ms/epoch - 5ms/step\n",
      "Epoch 48/200\n",
      "5/5 - 0s - loss: 0.3768 - accuracy: 0.9464 - val_loss: 0.3801 - val_accuracy: 0.9333 - 23ms/epoch - 5ms/step\n",
      "Epoch 49/200\n",
      "5/5 - 0s - loss: 0.3697 - accuracy: 0.9375 - val_loss: 0.3732 - val_accuracy: 0.9400 - 22ms/epoch - 4ms/step\n",
      "Epoch 50/200\n",
      "5/5 - 0s - loss: 0.3617 - accuracy: 0.9554 - val_loss: 0.3661 - val_accuracy: 0.9400 - 23ms/epoch - 5ms/step\n",
      "Epoch 51/200\n",
      "5/5 - 0s - loss: 0.3554 - accuracy: 0.9464 - val_loss: 0.3599 - val_accuracy: 0.9400 - 21ms/epoch - 4ms/step\n",
      "Epoch 52/200\n",
      "5/5 - 0s - loss: 0.3480 - accuracy: 0.9554 - val_loss: 0.3532 - val_accuracy: 0.9400 - 23ms/epoch - 5ms/step\n",
      "Epoch 53/200\n",
      "5/5 - 0s - loss: 0.3415 - accuracy: 0.9464 - val_loss: 0.3477 - val_accuracy: 0.9600 - 23ms/epoch - 5ms/step\n",
      "Epoch 54/200\n",
      "5/5 - 0s - loss: 0.3363 - accuracy: 0.9732 - val_loss: 0.3412 - val_accuracy: 0.9533 - 23ms/epoch - 5ms/step\n",
      "Epoch 55/200\n",
      "5/5 - 0s - loss: 0.3298 - accuracy: 0.9643 - val_loss: 0.3352 - val_accuracy: 0.9400 - 23ms/epoch - 5ms/step\n",
      "Epoch 56/200\n",
      "5/5 - 0s - loss: 0.3245 - accuracy: 0.9554 - val_loss: 0.3299 - val_accuracy: 0.9467 - 26ms/epoch - 5ms/step\n",
      "Epoch 57/200\n",
      "5/5 - 0s - loss: 0.3190 - accuracy: 0.9554 - val_loss: 0.3240 - val_accuracy: 0.9600 - 23ms/epoch - 5ms/step\n",
      "Epoch 58/200\n",
      "5/5 - 0s - loss: 0.3129 - accuracy: 0.9643 - val_loss: 0.3189 - val_accuracy: 0.9600 - 22ms/epoch - 4ms/step\n",
      "Epoch 59/200\n",
      "5/5 - 0s - loss: 0.3075 - accuracy: 0.9732 - val_loss: 0.3140 - val_accuracy: 0.9600 - 24ms/epoch - 5ms/step\n",
      "Epoch 60/200\n",
      "5/5 - 0s - loss: 0.3026 - accuracy: 0.9732 - val_loss: 0.3089 - val_accuracy: 0.9600 - 23ms/epoch - 5ms/step\n",
      "Epoch 61/200\n",
      "5/5 - 0s - loss: 0.2989 - accuracy: 0.9643 - val_loss: 0.3038 - val_accuracy: 0.9533 - 24ms/epoch - 5ms/step\n",
      "Epoch 62/200\n",
      "5/5 - 0s - loss: 0.2926 - accuracy: 0.9643 - val_loss: 0.2989 - val_accuracy: 0.9600 - 23ms/epoch - 5ms/step\n",
      "Epoch 63/200\n",
      "5/5 - 0s - loss: 0.2880 - accuracy: 0.9732 - val_loss: 0.2945 - val_accuracy: 0.9600 - 24ms/epoch - 5ms/step\n",
      "Epoch 64/200\n",
      "5/5 - 0s - loss: 0.2829 - accuracy: 0.9732 - val_loss: 0.2897 - val_accuracy: 0.9600 - 22ms/epoch - 4ms/step\n",
      "Epoch 65/200\n",
      "5/5 - 0s - loss: 0.2785 - accuracy: 0.9732 - val_loss: 0.2857 - val_accuracy: 0.9600 - 22ms/epoch - 4ms/step\n",
      "Epoch 66/200\n",
      "5/5 - 0s - loss: 0.2754 - accuracy: 0.9643 - val_loss: 0.2824 - val_accuracy: 0.9533 - 24ms/epoch - 5ms/step\n",
      "Epoch 67/200\n",
      "5/5 - 0s - loss: 0.2706 - accuracy: 0.9732 - val_loss: 0.2771 - val_accuracy: 0.9600 - 24ms/epoch - 5ms/step\n",
      "Epoch 68/200\n",
      "5/5 - 0s - loss: 0.2654 - accuracy: 0.9732 - val_loss: 0.2733 - val_accuracy: 0.9600 - 22ms/epoch - 4ms/step\n",
      "Epoch 69/200\n",
      "5/5 - 0s - loss: 0.2627 - accuracy: 0.9821 - val_loss: 0.2695 - val_accuracy: 0.9667 - 22ms/epoch - 4ms/step\n",
      "Epoch 70/200\n",
      "5/5 - 0s - loss: 0.2580 - accuracy: 0.9821 - val_loss: 0.2652 - val_accuracy: 0.9667 - 22ms/epoch - 4ms/step\n",
      "Epoch 71/200\n",
      "5/5 - 0s - loss: 0.2539 - accuracy: 0.9821 - val_loss: 0.2613 - val_accuracy: 0.9600 - 23ms/epoch - 5ms/step\n",
      "Epoch 72/200\n",
      "5/5 - 0s - loss: 0.2511 - accuracy: 0.9732 - val_loss: 0.2578 - val_accuracy: 0.9600 - 24ms/epoch - 5ms/step\n",
      "Epoch 73/200\n",
      "5/5 - 0s - loss: 0.2479 - accuracy: 0.9821 - val_loss: 0.2545 - val_accuracy: 0.9667 - 23ms/epoch - 5ms/step\n",
      "Epoch 74/200\n",
      "5/5 - 0s - loss: 0.2432 - accuracy: 0.9821 - val_loss: 0.2505 - val_accuracy: 0.9667 - 23ms/epoch - 5ms/step\n",
      "Epoch 75/200\n",
      "5/5 - 0s - loss: 0.2411 - accuracy: 0.9821 - val_loss: 0.2471 - val_accuracy: 0.9600 - 25ms/epoch - 5ms/step\n",
      "Epoch 76/200\n",
      "5/5 - 0s - loss: 0.2367 - accuracy: 0.9554 - val_loss: 0.2448 - val_accuracy: 0.9533 - 22ms/epoch - 4ms/step\n",
      "Epoch 77/200\n",
      "5/5 - 0s - loss: 0.2332 - accuracy: 0.9643 - val_loss: 0.2406 - val_accuracy: 0.9600 - 23ms/epoch - 5ms/step\n",
      "Epoch 78/200\n",
      "5/5 - 0s - loss: 0.2283 - accuracy: 0.9821 - val_loss: 0.2379 - val_accuracy: 0.9667 - 22ms/epoch - 4ms/step\n",
      "Epoch 79/200\n",
      "5/5 - 0s - loss: 0.2268 - accuracy: 0.9821 - val_loss: 0.2347 - val_accuracy: 0.9667 - 24ms/epoch - 5ms/step\n",
      "Epoch 80/200\n",
      "5/5 - 0s - loss: 0.2231 - accuracy: 0.9821 - val_loss: 0.2312 - val_accuracy: 0.9667 - 23ms/epoch - 5ms/step\n",
      "Epoch 81/200\n",
      "5/5 - 0s - loss: 0.2201 - accuracy: 0.9821 - val_loss: 0.2278 - val_accuracy: 0.9667 - 24ms/epoch - 5ms/step\n",
      "Epoch 82/200\n",
      "5/5 - 0s - loss: 0.2179 - accuracy: 0.9821 - val_loss: 0.2250 - val_accuracy: 0.9667 - 23ms/epoch - 5ms/step\n",
      "Epoch 83/200\n",
      "5/5 - 0s - loss: 0.2134 - accuracy: 0.9821 - val_loss: 0.2218 - val_accuracy: 0.9667 - 23ms/epoch - 5ms/step\n",
      "Epoch 84/200\n",
      "5/5 - 0s - loss: 0.2106 - accuracy: 0.9821 - val_loss: 0.2197 - val_accuracy: 0.9667 - 23ms/epoch - 5ms/step\n",
      "Epoch 85/200\n",
      "5/5 - 0s - loss: 0.2087 - accuracy: 0.9821 - val_loss: 0.2166 - val_accuracy: 0.9667 - 22ms/epoch - 4ms/step\n",
      "Epoch 86/200\n",
      "5/5 - 0s - loss: 0.2067 - accuracy: 0.9821 - val_loss: 0.2139 - val_accuracy: 0.9667 - 21ms/epoch - 4ms/step\n",
      "Epoch 87/200\n",
      "5/5 - 0s - loss: 0.2031 - accuracy: 0.9821 - val_loss: 0.2111 - val_accuracy: 0.9667 - 23ms/epoch - 5ms/step\n",
      "Epoch 88/200\n",
      "5/5 - 0s - loss: 0.1998 - accuracy: 0.9821 - val_loss: 0.2086 - val_accuracy: 0.9733 - 22ms/epoch - 4ms/step\n",
      "Epoch 89/200\n",
      "5/5 - 0s - loss: 0.1976 - accuracy: 0.9821 - val_loss: 0.2057 - val_accuracy: 0.9667 - 22ms/epoch - 4ms/step\n",
      "Epoch 90/200\n",
      "5/5 - 0s - loss: 0.1945 - accuracy: 0.9821 - val_loss: 0.2032 - val_accuracy: 0.9667 - 23ms/epoch - 5ms/step\n",
      "Epoch 91/200\n",
      "5/5 - 0s - loss: 0.1921 - accuracy: 0.9821 - val_loss: 0.2009 - val_accuracy: 0.9733 - 23ms/epoch - 5ms/step\n",
      "Epoch 92/200\n",
      "5/5 - 0s - loss: 0.1897 - accuracy: 0.9821 - val_loss: 0.1984 - val_accuracy: 0.9733 - 24ms/epoch - 5ms/step\n",
      "Epoch 93/200\n",
      "5/5 - 0s - loss: 0.1878 - accuracy: 0.9821 - val_loss: 0.1961 - val_accuracy: 0.9733 - 23ms/epoch - 5ms/step\n",
      "Epoch 94/200\n",
      "5/5 - 0s - loss: 0.1850 - accuracy: 0.9821 - val_loss: 0.1937 - val_accuracy: 0.9733 - 23ms/epoch - 5ms/step\n",
      "Epoch 95/200\n",
      "5/5 - 0s - loss: 0.1828 - accuracy: 0.9821 - val_loss: 0.1914 - val_accuracy: 0.9733 - 23ms/epoch - 5ms/step\n",
      "Epoch 96/200\n",
      "5/5 - 0s - loss: 0.1808 - accuracy: 0.9821 - val_loss: 0.1901 - val_accuracy: 0.9667 - 23ms/epoch - 5ms/step\n",
      "Epoch 97/200\n",
      "5/5 - 0s - loss: 0.1790 - accuracy: 0.9821 - val_loss: 0.1871 - val_accuracy: 0.9667 - 23ms/epoch - 5ms/step\n",
      "Epoch 98/200\n",
      "5/5 - 0s - loss: 0.1780 - accuracy: 0.9821 - val_loss: 0.1852 - val_accuracy: 0.9733 - 22ms/epoch - 4ms/step\n",
      "Epoch 99/200\n",
      "5/5 - 0s - loss: 0.1737 - accuracy: 0.9821 - val_loss: 0.1828 - val_accuracy: 0.9733 - 24ms/epoch - 5ms/step\n",
      "Epoch 100/200\n",
      "5/5 - 0s - loss: 0.1717 - accuracy: 0.9821 - val_loss: 0.1809 - val_accuracy: 0.9667 - 22ms/epoch - 4ms/step\n",
      "Epoch 101/200\n",
      "5/5 - 0s - loss: 0.1706 - accuracy: 0.9821 - val_loss: 0.1797 - val_accuracy: 0.9667 - 23ms/epoch - 5ms/step\n",
      "Epoch 102/200\n",
      "5/5 - 0s - loss: 0.1686 - accuracy: 0.9821 - val_loss: 0.1771 - val_accuracy: 0.9667 - 22ms/epoch - 4ms/step\n",
      "Epoch 103/200\n",
      "5/5 - 0s - loss: 0.1659 - accuracy: 0.9821 - val_loss: 0.1749 - val_accuracy: 0.9733 - 25ms/epoch - 5ms/step\n",
      "Epoch 104/200\n",
      "5/5 - 0s - loss: 0.1637 - accuracy: 0.9821 - val_loss: 0.1735 - val_accuracy: 0.9733 - 22ms/epoch - 4ms/step\n",
      "Epoch 105/200\n",
      "5/5 - 0s - loss: 0.1624 - accuracy: 0.9821 - val_loss: 0.1714 - val_accuracy: 0.9733 - 23ms/epoch - 5ms/step\n",
      "Epoch 106/200\n",
      "5/5 - 0s - loss: 0.1641 - accuracy: 0.9821 - val_loss: 0.1701 - val_accuracy: 0.9667 - 22ms/epoch - 4ms/step\n",
      "Epoch 107/200\n",
      "5/5 - 0s - loss: 0.1612 - accuracy: 0.9821 - val_loss: 0.1678 - val_accuracy: 0.9733 - 22ms/epoch - 4ms/step\n",
      "Epoch 108/200\n",
      "5/5 - 0s - loss: 0.1569 - accuracy: 0.9821 - val_loss: 0.1659 - val_accuracy: 0.9733 - 23ms/epoch - 5ms/step\n",
      "Epoch 109/200\n",
      "5/5 - 0s - loss: 0.1548 - accuracy: 0.9821 - val_loss: 0.1642 - val_accuracy: 0.9733 - 23ms/epoch - 5ms/step\n",
      "Epoch 110/200\n",
      "5/5 - 0s - loss: 0.1532 - accuracy: 0.9821 - val_loss: 0.1627 - val_accuracy: 0.9733 - 23ms/epoch - 5ms/step\n",
      "Epoch 111/200\n",
      "5/5 - 0s - loss: 0.1517 - accuracy: 0.9821 - val_loss: 0.1610 - val_accuracy: 0.9733 - 23ms/epoch - 5ms/step\n",
      "Epoch 112/200\n",
      "5/5 - 0s - loss: 0.1499 - accuracy: 0.9821 - val_loss: 0.1593 - val_accuracy: 0.9733 - 36ms/epoch - 7ms/step\n",
      "Epoch 113/200\n",
      "5/5 - 0s - loss: 0.1480 - accuracy: 0.9821 - val_loss: 0.1581 - val_accuracy: 0.9733 - 25ms/epoch - 5ms/step\n",
      "Epoch 114/200\n",
      "5/5 - 0s - loss: 0.1482 - accuracy: 0.9821 - val_loss: 0.1568 - val_accuracy: 0.9733 - 22ms/epoch - 4ms/step\n",
      "Epoch 115/200\n",
      "5/5 - 0s - loss: 0.1451 - accuracy: 0.9821 - val_loss: 0.1546 - val_accuracy: 0.9733 - 23ms/epoch - 5ms/step\n",
      "Epoch 116/200\n",
      "5/5 - 0s - loss: 0.1441 - accuracy: 0.9821 - val_loss: 0.1536 - val_accuracy: 0.9733 - 23ms/epoch - 5ms/step\n",
      "Epoch 117/200\n",
      "5/5 - 0s - loss: 0.1431 - accuracy: 0.9821 - val_loss: 0.1516 - val_accuracy: 0.9733 - 23ms/epoch - 5ms/step\n",
      "Epoch 118/200\n",
      "5/5 - 0s - loss: 0.1410 - accuracy: 0.9821 - val_loss: 0.1504 - val_accuracy: 0.9733 - 24ms/epoch - 5ms/step\n",
      "Epoch 119/200\n",
      "5/5 - 0s - loss: 0.1399 - accuracy: 0.9821 - val_loss: 0.1488 - val_accuracy: 0.9733 - 23ms/epoch - 5ms/step\n",
      "Epoch 120/200\n",
      "5/5 - 0s - loss: 0.1386 - accuracy: 0.9821 - val_loss: 0.1475 - val_accuracy: 0.9733 - 22ms/epoch - 4ms/step\n",
      "Epoch 121/200\n",
      "5/5 - 0s - loss: 0.1370 - accuracy: 0.9821 - val_loss: 0.1462 - val_accuracy: 0.9733 - 23ms/epoch - 5ms/step\n",
      "Epoch 122/200\n",
      "5/5 - 0s - loss: 0.1365 - accuracy: 0.9821 - val_loss: 0.1450 - val_accuracy: 0.9733 - 23ms/epoch - 5ms/step\n",
      "Epoch 123/200\n",
      "5/5 - 0s - loss: 0.1360 - accuracy: 0.9821 - val_loss: 0.1441 - val_accuracy: 0.9733 - 26ms/epoch - 5ms/step\n",
      "Epoch 124/200\n",
      "5/5 - 0s - loss: 0.1335 - accuracy: 0.9821 - val_loss: 0.1424 - val_accuracy: 0.9733 - 23ms/epoch - 5ms/step\n",
      "Epoch 125/200\n",
      "5/5 - 0s - loss: 0.1314 - accuracy: 0.9821 - val_loss: 0.1412 - val_accuracy: 0.9733 - 24ms/epoch - 5ms/step\n",
      "Epoch 126/200\n",
      "5/5 - 0s - loss: 0.1305 - accuracy: 0.9821 - val_loss: 0.1399 - val_accuracy: 0.9733 - 23ms/epoch - 5ms/step\n",
      "Epoch 127/200\n",
      "5/5 - 0s - loss: 0.1292 - accuracy: 0.9821 - val_loss: 0.1386 - val_accuracy: 0.9733 - 22ms/epoch - 4ms/step\n",
      "Epoch 128/200\n",
      "5/5 - 0s - loss: 0.1279 - accuracy: 0.9821 - val_loss: 0.1374 - val_accuracy: 0.9733 - 23ms/epoch - 5ms/step\n",
      "Epoch 129/200\n",
      "5/5 - 0s - loss: 0.1267 - accuracy: 0.9821 - val_loss: 0.1363 - val_accuracy: 0.9733 - 23ms/epoch - 5ms/step\n",
      "Epoch 130/200\n",
      "5/5 - 0s - loss: 0.1254 - accuracy: 0.9821 - val_loss: 0.1351 - val_accuracy: 0.9733 - 23ms/epoch - 5ms/step\n",
      "Epoch 131/200\n",
      "5/5 - 0s - loss: 0.1247 - accuracy: 0.9821 - val_loss: 0.1341 - val_accuracy: 0.9733 - 23ms/epoch - 5ms/step\n",
      "Epoch 132/200\n",
      "5/5 - 0s - loss: 0.1233 - accuracy: 0.9821 - val_loss: 0.1328 - val_accuracy: 0.9733 - 23ms/epoch - 5ms/step\n",
      "Epoch 133/200\n",
      "5/5 - 0s - loss: 0.1225 - accuracy: 0.9821 - val_loss: 0.1318 - val_accuracy: 0.9733 - 23ms/epoch - 5ms/step\n",
      "Epoch 134/200\n",
      "5/5 - 0s - loss: 0.1226 - accuracy: 0.9821 - val_loss: 0.1311 - val_accuracy: 0.9733 - 23ms/epoch - 5ms/step\n",
      "Epoch 135/200\n",
      "5/5 - 0s - loss: 0.1202 - accuracy: 0.9821 - val_loss: 0.1297 - val_accuracy: 0.9733 - 23ms/epoch - 5ms/step\n",
      "Epoch 136/200\n",
      "5/5 - 0s - loss: 0.1194 - accuracy: 0.9821 - val_loss: 0.1286 - val_accuracy: 0.9733 - 24ms/epoch - 5ms/step\n",
      "Epoch 137/200\n",
      "5/5 - 0s - loss: 0.1186 - accuracy: 0.9821 - val_loss: 0.1276 - val_accuracy: 0.9733 - 22ms/epoch - 4ms/step\n",
      "Epoch 138/200\n",
      "5/5 - 0s - loss: 0.1173 - accuracy: 0.9821 - val_loss: 0.1267 - val_accuracy: 0.9733 - 22ms/epoch - 4ms/step\n",
      "Epoch 139/200\n",
      "5/5 - 0s - loss: 0.1170 - accuracy: 0.9821 - val_loss: 0.1262 - val_accuracy: 0.9733 - 22ms/epoch - 4ms/step\n",
      "Epoch 140/200\n",
      "5/5 - 0s - loss: 0.1157 - accuracy: 0.9821 - val_loss: 0.1250 - val_accuracy: 0.9733 - 23ms/epoch - 5ms/step\n",
      "Epoch 141/200\n",
      "5/5 - 0s - loss: 0.1143 - accuracy: 0.9821 - val_loss: 0.1240 - val_accuracy: 0.9733 - 23ms/epoch - 5ms/step\n",
      "Epoch 142/200\n",
      "5/5 - 0s - loss: 0.1132 - accuracy: 0.9821 - val_loss: 0.1229 - val_accuracy: 0.9733 - 23ms/epoch - 5ms/step\n",
      "Epoch 143/200\n",
      "5/5 - 0s - loss: 0.1124 - accuracy: 0.9821 - val_loss: 0.1220 - val_accuracy: 0.9733 - 23ms/epoch - 5ms/step\n",
      "Epoch 144/200\n",
      "5/5 - 0s - loss: 0.1125 - accuracy: 0.9821 - val_loss: 0.1212 - val_accuracy: 0.9733 - 23ms/epoch - 5ms/step\n",
      "Epoch 145/200\n",
      "5/5 - 0s - loss: 0.1101 - accuracy: 0.9821 - val_loss: 0.1213 - val_accuracy: 0.9667 - 23ms/epoch - 5ms/step\n",
      "Epoch 146/200\n",
      "5/5 - 0s - loss: 0.1115 - accuracy: 0.9643 - val_loss: 0.1205 - val_accuracy: 0.9667 - 23ms/epoch - 5ms/step\n",
      "Epoch 147/200\n",
      "5/5 - 0s - loss: 0.1090 - accuracy: 0.9821 - val_loss: 0.1187 - val_accuracy: 0.9733 - 23ms/epoch - 5ms/step\n",
      "Epoch 148/200\n",
      "5/5 - 0s - loss: 0.1076 - accuracy: 0.9821 - val_loss: 0.1208 - val_accuracy: 0.9667 - 25ms/epoch - 5ms/step\n",
      "Epoch 149/200\n",
      "5/5 - 0s - loss: 0.1102 - accuracy: 0.9821 - val_loss: 0.1204 - val_accuracy: 0.9667 - 23ms/epoch - 5ms/step\n",
      "Epoch 150/200\n",
      "5/5 - 0s - loss: 0.1079 - accuracy: 0.9821 - val_loss: 0.1165 - val_accuracy: 0.9733 - 23ms/epoch - 5ms/step\n",
      "Epoch 151/200\n",
      "5/5 - 0s - loss: 0.1069 - accuracy: 0.9821 - val_loss: 0.1175 - val_accuracy: 0.9600 - 24ms/epoch - 5ms/step\n",
      "Epoch 152/200\n",
      "5/5 - 0s - loss: 0.1076 - accuracy: 0.9643 - val_loss: 0.1161 - val_accuracy: 0.9667 - 24ms/epoch - 5ms/step\n",
      "Epoch 153/200\n",
      "5/5 - 0s - loss: 0.1052 - accuracy: 0.9732 - val_loss: 0.1142 - val_accuracy: 0.9733 - 24ms/epoch - 5ms/step\n",
      "Epoch 154/200\n",
      "5/5 - 0s - loss: 0.1057 - accuracy: 0.9821 - val_loss: 0.1161 - val_accuracy: 0.9667 - 23ms/epoch - 5ms/step\n",
      "Epoch 155/200\n",
      "5/5 - 0s - loss: 0.1050 - accuracy: 0.9821 - val_loss: 0.1137 - val_accuracy: 0.9733 - 30ms/epoch - 6ms/step\n",
      "Epoch 156/200\n",
      "5/5 - 0s - loss: 0.1014 - accuracy: 0.9821 - val_loss: 0.1121 - val_accuracy: 0.9733 - 25ms/epoch - 5ms/step\n",
      "Epoch 157/200\n",
      "5/5 - 0s - loss: 0.1063 - accuracy: 0.9643 - val_loss: 0.1149 - val_accuracy: 0.9733 - 26ms/epoch - 5ms/step\n",
      "Epoch 158/200\n",
      "5/5 - 0s - loss: 0.1034 - accuracy: 0.9643 - val_loss: 0.1108 - val_accuracy: 0.9733 - 25ms/epoch - 5ms/step\n",
      "Epoch 159/200\n",
      "5/5 - 0s - loss: 0.1007 - accuracy: 0.9821 - val_loss: 0.1117 - val_accuracy: 0.9733 - 26ms/epoch - 5ms/step\n",
      "Epoch 160/200\n",
      "5/5 - 0s - loss: 0.1017 - accuracy: 0.9821 - val_loss: 0.1123 - val_accuracy: 0.9667 - 24ms/epoch - 5ms/step\n",
      "Epoch 161/200\n",
      "5/5 - 0s - loss: 0.1001 - accuracy: 0.9821 - val_loss: 0.1088 - val_accuracy: 0.9733 - 26ms/epoch - 5ms/step\n",
      "Epoch 162/200\n",
      "5/5 - 0s - loss: 0.0979 - accuracy: 0.9821 - val_loss: 0.1084 - val_accuracy: 0.9733 - 25ms/epoch - 5ms/step\n",
      "Epoch 163/200\n",
      "5/5 - 0s - loss: 0.0995 - accuracy: 0.9821 - val_loss: 0.1081 - val_accuracy: 0.9733 - 25ms/epoch - 5ms/step\n",
      "Epoch 164/200\n",
      "5/5 - 0s - loss: 0.0975 - accuracy: 0.9821 - val_loss: 0.1075 - val_accuracy: 0.9733 - 24ms/epoch - 5ms/step\n",
      "Epoch 165/200\n",
      "5/5 - 0s - loss: 0.0973 - accuracy: 0.9821 - val_loss: 0.1076 - val_accuracy: 0.9733 - 24ms/epoch - 5ms/step\n",
      "Epoch 166/200\n",
      "5/5 - 0s - loss: 0.0972 - accuracy: 0.9821 - val_loss: 0.1059 - val_accuracy: 0.9733 - 24ms/epoch - 5ms/step\n",
      "Epoch 167/200\n",
      "5/5 - 0s - loss: 0.0965 - accuracy: 0.9821 - val_loss: 0.1053 - val_accuracy: 0.9733 - 25ms/epoch - 5ms/step\n",
      "Epoch 168/200\n",
      "5/5 - 0s - loss: 0.0957 - accuracy: 0.9821 - val_loss: 0.1051 - val_accuracy: 0.9733 - 26ms/epoch - 5ms/step\n",
      "Epoch 169/200\n",
      "5/5 - 0s - loss: 0.0950 - accuracy: 0.9821 - val_loss: 0.1041 - val_accuracy: 0.9733 - 25ms/epoch - 5ms/step\n",
      "Epoch 170/200\n",
      "5/5 - 0s - loss: 0.0944 - accuracy: 0.9821 - val_loss: 0.1038 - val_accuracy: 0.9733 - 26ms/epoch - 5ms/step\n",
      "Epoch 171/200\n",
      "5/5 - 0s - loss: 0.0937 - accuracy: 0.9821 - val_loss: 0.1031 - val_accuracy: 0.9733 - 24ms/epoch - 5ms/step\n",
      "Epoch 172/200\n",
      "5/5 - 0s - loss: 0.0931 - accuracy: 0.9821 - val_loss: 0.1025 - val_accuracy: 0.9733 - 26ms/epoch - 5ms/step\n",
      "Epoch 173/200\n",
      "5/5 - 0s - loss: 0.0929 - accuracy: 0.9821 - val_loss: 0.1028 - val_accuracy: 0.9733 - 33ms/epoch - 7ms/step\n",
      "Epoch 174/200\n",
      "5/5 - 0s - loss: 0.0924 - accuracy: 0.9821 - val_loss: 0.1021 - val_accuracy: 0.9733 - 36ms/epoch - 7ms/step\n",
      "Epoch 175/200\n",
      "5/5 - 0s - loss: 0.0916 - accuracy: 0.9821 - val_loss: 0.1011 - val_accuracy: 0.9733 - 32ms/epoch - 6ms/step\n",
      "Epoch 176/200\n",
      "5/5 - 0s - loss: 0.0967 - accuracy: 0.9732 - val_loss: 0.1018 - val_accuracy: 0.9600 - 36ms/epoch - 7ms/step\n",
      "Epoch 177/200\n",
      "5/5 - 0s - loss: 0.0916 - accuracy: 0.9732 - val_loss: 0.1000 - val_accuracy: 0.9733 - 31ms/epoch - 6ms/step\n",
      "Epoch 178/200\n",
      "5/5 - 0s - loss: 0.0914 - accuracy: 0.9821 - val_loss: 0.1010 - val_accuracy: 0.9733 - 32ms/epoch - 6ms/step\n",
      "Epoch 179/200\n",
      "5/5 - 0s - loss: 0.0903 - accuracy: 0.9821 - val_loss: 0.0996 - val_accuracy: 0.9733 - 31ms/epoch - 6ms/step\n",
      "Epoch 180/200\n",
      "5/5 - 0s - loss: 0.0890 - accuracy: 0.9821 - val_loss: 0.0987 - val_accuracy: 0.9733 - 35ms/epoch - 7ms/step\n",
      "Epoch 181/200\n",
      "5/5 - 0s - loss: 0.0901 - accuracy: 0.9821 - val_loss: 0.0983 - val_accuracy: 0.9733 - 36ms/epoch - 7ms/step\n",
      "Epoch 182/200\n",
      "5/5 - 0s - loss: 0.0892 - accuracy: 0.9821 - val_loss: 0.0985 - val_accuracy: 0.9733 - 23ms/epoch - 5ms/step\n",
      "Epoch 183/200\n",
      "5/5 - 0s - loss: 0.0883 - accuracy: 0.9821 - val_loss: 0.0978 - val_accuracy: 0.9733 - 23ms/epoch - 5ms/step\n",
      "Epoch 184/200\n",
      "5/5 - 0s - loss: 0.0874 - accuracy: 0.9821 - val_loss: 0.0972 - val_accuracy: 0.9733 - 23ms/epoch - 5ms/step\n",
      "Epoch 185/200\n",
      "5/5 - 0s - loss: 0.0869 - accuracy: 0.9821 - val_loss: 0.0964 - val_accuracy: 0.9733 - 22ms/epoch - 4ms/step\n",
      "Epoch 186/200\n",
      "5/5 - 0s - loss: 0.0870 - accuracy: 0.9821 - val_loss: 0.0962 - val_accuracy: 0.9733 - 22ms/epoch - 4ms/step\n",
      "Epoch 187/200\n",
      "5/5 - 0s - loss: 0.0867 - accuracy: 0.9821 - val_loss: 0.0956 - val_accuracy: 0.9733 - 25ms/epoch - 5ms/step\n",
      "Epoch 188/200\n",
      "5/5 - 0s - loss: 0.0861 - accuracy: 0.9821 - val_loss: 0.0952 - val_accuracy: 0.9733 - 21ms/epoch - 4ms/step\n",
      "Epoch 189/200\n",
      "5/5 - 0s - loss: 0.0850 - accuracy: 0.9821 - val_loss: 0.0952 - val_accuracy: 0.9733 - 23ms/epoch - 5ms/step\n",
      "Epoch 190/200\n",
      "5/5 - 0s - loss: 0.0849 - accuracy: 0.9821 - val_loss: 0.0953 - val_accuracy: 0.9733 - 22ms/epoch - 4ms/step\n",
      "Epoch 191/200\n",
      "5/5 - 0s - loss: 0.0870 - accuracy: 0.9821 - val_loss: 0.0958 - val_accuracy: 0.9733 - 21ms/epoch - 4ms/step\n",
      "Epoch 192/200\n",
      "5/5 - 0s - loss: 0.0848 - accuracy: 0.9821 - val_loss: 0.0939 - val_accuracy: 0.9733 - 23ms/epoch - 5ms/step\n",
      "Epoch 193/200\n",
      "5/5 - 0s - loss: 0.0822 - accuracy: 0.9821 - val_loss: 0.0939 - val_accuracy: 0.9667 - 22ms/epoch - 4ms/step\n",
      "Epoch 194/200\n",
      "5/5 - 0s - loss: 0.0892 - accuracy: 0.9643 - val_loss: 0.0967 - val_accuracy: 0.9667 - 24ms/epoch - 5ms/step\n",
      "Epoch 195/200\n",
      "5/5 - 0s - loss: 0.0855 - accuracy: 0.9732 - val_loss: 0.0929 - val_accuracy: 0.9733 - 23ms/epoch - 5ms/step\n",
      "Epoch 196/200\n",
      "5/5 - 0s - loss: 0.0827 - accuracy: 0.9821 - val_loss: 0.0934 - val_accuracy: 0.9733 - 23ms/epoch - 5ms/step\n",
      "Epoch 197/200\n",
      "5/5 - 0s - loss: 0.0833 - accuracy: 0.9821 - val_loss: 0.0926 - val_accuracy: 0.9733 - 25ms/epoch - 5ms/step\n",
      "Epoch 198/200\n",
      "5/5 - 0s - loss: 0.0847 - accuracy: 0.9821 - val_loss: 0.0919 - val_accuracy: 0.9733 - 22ms/epoch - 4ms/step\n",
      "Epoch 199/200\n",
      "5/5 - 0s - loss: 0.0819 - accuracy: 0.9821 - val_loss: 0.0912 - val_accuracy: 0.9733 - 23ms/epoch - 5ms/step\n",
      "Epoch 200/200\n",
      "5/5 - 0s - loss: 0.0815 - accuracy: 0.9821 - val_loss: 0.0924 - val_accuracy: 0.9733 - 23ms/epoch - 5ms/step\n"
     ]
    },
    {
     "data": {
      "text/plain": [
       "<keras.callbacks.History at 0x2722e0f4850>"
      ]
     },
     "execution_count": 38,
     "metadata": {},
     "output_type": "execute_result"
    }
   ],
   "source": [
    "model.fit(x_train, y_train, verbose=2, batch_size=25, epochs=200, validation_data=(x, y))"
   ]
  },
  {
   "cell_type": "markdown",
   "metadata": {},
   "source": [
    "Bisa dilihat dari hasil training diatas, akurasi dan validasi sudah diatas 70% sehingga sudah memenuhi kententuan."
   ]
  },
  {
   "cell_type": "markdown",
   "metadata": {},
   "source": [
    "## Evaluate"
   ]
  },
  {
   "cell_type": "code",
   "execution_count": 39,
   "metadata": {},
   "outputs": [
    {
     "name": "stdout",
     "output_type": "stream",
     "text": [
      "2/2 [==============================] - 0s 2ms/step - loss: 0.1236 - accuracy: 0.9474\n",
      "Hasil Tes Loss: 0.123624\n",
      "Hasil Tes Akurasi : 0.947368\n"
     ]
    }
   ],
   "source": [
    "result = model.evaluate(x_test, y_test)\n",
    "print('Hasil Tes Loss: {:4f}'.format(result[0]))\n",
    "print('Hasil Tes Akurasi : {:4f}'.format(result[1]))"
   ]
  }
 ],
 "metadata": {
  "kernelspec": {
   "display_name": "Python 3.10.7 64-bit",
   "language": "python",
   "name": "python3"
  },
  "language_info": {
   "codemirror_mode": {
    "name": "ipython",
    "version": 3
   },
   "file_extension": ".py",
   "mimetype": "text/x-python",
   "name": "python",
   "nbconvert_exporter": "python",
   "pygments_lexer": "ipython3",
   "version": "3.10.7"
  },
  "orig_nbformat": 4,
  "vscode": {
   "interpreter": {
    "hash": "200e2a1a991d180c9c309c789f657d054eb1e69794afbc0e2ae3f183f1fccf4c"
   }
  }
 },
 "nbformat": 4,
 "nbformat_minor": 2
}
