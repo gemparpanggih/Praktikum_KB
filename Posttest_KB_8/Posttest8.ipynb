{
 "cells": [
  {
   "cell_type": "markdown",
   "metadata": {},
   "source": [
    "# Klasifikasi Dataset Iris dari SKLEARN dengan Neural Network Sederhana"
   ]
  },
  {
   "cell_type": "markdown",
   "metadata": {},
   "source": [
    "### Gempar Panggih Dwi Putra\n",
    "### NIM 2009106022\n",
    "### INFORMATIKA A2 2020\n"
   ]
  },
  {
   "cell_type": "markdown",
   "metadata": {},
   "source": [
    "## Import"
   ]
  },
  {
   "cell_type": "code",
   "execution_count": 57,
   "metadata": {},
   "outputs": [],
   "source": [
    "import numpy as np\n",
    "\n",
    "from sklearn.datasets import load_iris\n",
    "from sklearn.model_selection import train_test_split\n",
    "from sklearn.preprocessing import OneHotEncoder\n",
    "from keras.layers import Dense\n",
    "from keras.optimizers import Adam\n",
    "from keras.models import Sequential"
   ]
  },
  {
   "cell_type": "markdown",
   "metadata": {},
   "source": [
    "## Preprocessing"
   ]
  },
  {
   "cell_type": "markdown",
   "metadata": {},
   "source": [
    "### Load Datasets"
   ]
  },
  {
   "cell_type": "code",
   "execution_count": 58,
   "metadata": {},
   "outputs": [],
   "source": [
    "df = load_iris()"
   ]
  },
  {
   "cell_type": "code",
   "execution_count": 59,
   "metadata": {},
   "outputs": [
    {
     "name": "stdout",
     "output_type": "stream",
     "text": [
      "Example data: \n",
      "[[5.1 3.5 1.4 0.2]\n",
      " [4.9 3.  1.4 0.2]\n",
      " [4.7 3.2 1.3 0.2]\n",
      " [4.6 3.1 1.5 0.2]\n",
      " [5.  3.6 1.4 0.2]]\n",
      "Example labels: \n",
      "[0 0 0 0 0]\n"
     ]
    }
   ],
   "source": [
    "print('Example data: ')\n",
    "print(df.data[:5])\n",
    "print('Example labels: ')\n",
    "print(df.target[:5])"
   ]
  },
  {
   "cell_type": "markdown",
   "metadata": {},
   "source": [
    "### Reshape"
   ]
  },
  {
   "cell_type": "code",
   "execution_count": 60,
   "metadata": {},
   "outputs": [],
   "source": [
    "x = df.data\n",
    "yx = df.target.reshape(-1, 1)"
   ]
  },
  {
   "cell_type": "markdown",
   "metadata": {},
   "source": [
    "### One Hot Encode"
   ]
  },
  {
   "cell_type": "code",
   "execution_count": 61,
   "metadata": {},
   "outputs": [],
   "source": [
    "encoder = OneHotEncoder(sparse=False)\n",
    "y = encoder.fit_transform(yx)"
   ]
  },
  {
   "cell_type": "markdown",
   "metadata": {},
   "source": [
    "### Split Data"
   ]
  },
  {
   "cell_type": "code",
   "execution_count": 62,
   "metadata": {},
   "outputs": [],
   "source": [
    "x_train, x_test, y_train, y_test = train_test_split(x, y, test_size=0.25)"
   ]
  },
  {
   "cell_type": "markdown",
   "metadata": {},
   "source": [
    "## Modelling"
   ]
  },
  {
   "cell_type": "markdown",
   "metadata": {},
   "source": [
    "### Model Sequential"
   ]
  },
  {
   "cell_type": "code",
   "execution_count": 63,
   "metadata": {},
   "outputs": [],
   "source": [
    "model = Sequential()\n",
    "\n",
    "model.add(Dense(10, input_shape=(4,), activation='relu', name='var1'))\n",
    "model.add(Dense(10, activation='relu', name='var2'))\n",
    "model.add(Dense(3, activation='softmax', name='output'))"
   ]
  },
  {
   "cell_type": "markdown",
   "metadata": {},
   "source": [
    "### Optimizer Model"
   ]
  },
  {
   "cell_type": "code",
   "execution_count": 64,
   "metadata": {},
   "outputs": [
    {
     "name": "stderr",
     "output_type": "stream",
     "text": [
      "c:\\Users\\NITRO 5\\AppData\\Local\\Programs\\Python\\Python310\\lib\\site-packages\\keras\\optimizers\\optimizer_v2\\adam.py:114: UserWarning: The `lr` argument is deprecated, use `learning_rate` instead.\n",
      "  super().__init__(name, **kwargs)\n"
     ]
    }
   ],
   "source": [
    "optimizer = Adam(lr=0.001)\n",
    "model.compile(optimizer, loss='categorical_crossentropy', metrics=['accuracy'])"
   ]
  },
  {
   "cell_type": "markdown",
   "metadata": {},
   "source": [
    "### Model Summary"
   ]
  },
  {
   "cell_type": "code",
   "execution_count": 65,
   "metadata": {},
   "outputs": [
    {
     "name": "stdout",
     "output_type": "stream",
     "text": [
      "Summary: \n",
      "Model: \"sequential_5\"\n",
      "_________________________________________________________________\n",
      " Layer (type)                Output Shape              Param #   \n",
      "=================================================================\n",
      " var1 (Dense)                (None, 10)                50        \n",
      "                                                                 \n",
      " var2 (Dense)                (None, 10)                110       \n",
      "                                                                 \n",
      " output (Dense)              (None, 3)                 33        \n",
      "                                                                 \n",
      "=================================================================\n",
      "Total params: 193\n",
      "Trainable params: 193\n",
      "Non-trainable params: 0\n",
      "_________________________________________________________________\n",
      "None\n"
     ]
    }
   ],
   "source": [
    "print('Summary: ')\n",
    "print(model.summary())"
   ]
  },
  {
   "cell_type": "markdown",
   "metadata": {},
   "source": [
    "### Training Model"
   ]
  },
  {
   "cell_type": "code",
   "execution_count": 66,
   "metadata": {},
   "outputs": [
    {
     "name": "stdout",
     "output_type": "stream",
     "text": [
      "Epoch 1/200\n",
      "5/5 - 0s - loss: 3.9196 - accuracy: 0.3304 - val_loss: 3.6978 - val_accuracy: 0.3333 - 331ms/epoch - 66ms/step\n",
      "Epoch 2/200\n",
      "5/5 - 0s - loss: 3.6412 - accuracy: 0.3304 - val_loss: 3.4364 - val_accuracy: 0.3333 - 23ms/epoch - 5ms/step\n",
      "Epoch 3/200\n",
      "5/5 - 0s - loss: 3.3844 - accuracy: 0.3304 - val_loss: 3.1895 - val_accuracy: 0.3333 - 23ms/epoch - 5ms/step\n",
      "Epoch 4/200\n",
      "5/5 - 0s - loss: 3.1543 - accuracy: 0.3304 - val_loss: 2.9585 - val_accuracy: 0.3333 - 22ms/epoch - 4ms/step\n",
      "Epoch 5/200\n",
      "5/5 - 0s - loss: 2.9222 - accuracy: 0.3304 - val_loss: 2.7492 - val_accuracy: 0.3333 - 26ms/epoch - 5ms/step\n",
      "Epoch 6/200\n",
      "5/5 - 0s - loss: 2.7075 - accuracy: 0.3304 - val_loss: 2.5572 - val_accuracy: 0.3333 - 29ms/epoch - 6ms/step\n",
      "Epoch 7/200\n",
      "5/5 - 0s - loss: 2.5267 - accuracy: 0.3304 - val_loss: 2.3796 - val_accuracy: 0.3333 - 41ms/epoch - 8ms/step\n",
      "Epoch 8/200\n",
      "5/5 - 0s - loss: 2.3498 - accuracy: 0.3304 - val_loss: 2.2199 - val_accuracy: 0.3333 - 37ms/epoch - 7ms/step\n",
      "Epoch 9/200\n",
      "5/5 - 0s - loss: 2.1948 - accuracy: 0.3304 - val_loss: 2.0711 - val_accuracy: 0.3333 - 25ms/epoch - 5ms/step\n",
      "Epoch 10/200\n",
      "5/5 - 0s - loss: 2.0478 - accuracy: 0.3304 - val_loss: 1.9356 - val_accuracy: 0.3333 - 26ms/epoch - 5ms/step\n",
      "Epoch 11/200\n",
      "5/5 - 0s - loss: 1.9131 - accuracy: 0.3304 - val_loss: 1.8120 - val_accuracy: 0.3333 - 27ms/epoch - 5ms/step\n",
      "Epoch 12/200\n",
      "5/5 - 0s - loss: 1.7927 - accuracy: 0.3304 - val_loss: 1.6981 - val_accuracy: 0.3333 - 23ms/epoch - 5ms/step\n",
      "Epoch 13/200\n",
      "5/5 - 0s - loss: 1.6790 - accuracy: 0.3304 - val_loss: 1.5945 - val_accuracy: 0.3333 - 22ms/epoch - 4ms/step\n",
      "Epoch 14/200\n",
      "5/5 - 0s - loss: 1.5800 - accuracy: 0.3304 - val_loss: 1.4962 - val_accuracy: 0.3333 - 23ms/epoch - 5ms/step\n",
      "Epoch 15/200\n",
      "5/5 - 0s - loss: 1.4821 - accuracy: 0.3304 - val_loss: 1.4071 - val_accuracy: 0.3400 - 24ms/epoch - 5ms/step\n",
      "Epoch 16/200\n",
      "5/5 - 0s - loss: 1.3951 - accuracy: 0.3750 - val_loss: 1.3248 - val_accuracy: 0.5733 - 26ms/epoch - 5ms/step\n",
      "Epoch 17/200\n",
      "5/5 - 0s - loss: 1.3138 - accuracy: 0.6161 - val_loss: 1.2484 - val_accuracy: 0.6600 - 22ms/epoch - 4ms/step\n",
      "Epoch 18/200\n",
      "5/5 - 0s - loss: 1.2368 - accuracy: 0.6607 - val_loss: 1.1777 - val_accuracy: 0.6667 - 23ms/epoch - 5ms/step\n",
      "Epoch 19/200\n",
      "5/5 - 0s - loss: 1.1702 - accuracy: 0.6607 - val_loss: 1.1112 - val_accuracy: 0.6667 - 24ms/epoch - 5ms/step\n",
      "Epoch 20/200\n",
      "5/5 - 0s - loss: 1.1012 - accuracy: 0.6607 - val_loss: 1.0514 - val_accuracy: 0.6667 - 23ms/epoch - 5ms/step\n",
      "Epoch 21/200\n",
      "5/5 - 0s - loss: 1.0409 - accuracy: 0.6607 - val_loss: 0.9957 - val_accuracy: 0.6667 - 22ms/epoch - 4ms/step\n",
      "Epoch 22/200\n",
      "5/5 - 0s - loss: 0.9881 - accuracy: 0.6607 - val_loss: 0.9438 - val_accuracy: 0.6667 - 22ms/epoch - 4ms/step\n",
      "Epoch 23/200\n",
      "5/5 - 0s - loss: 0.9390 - accuracy: 0.6607 - val_loss: 0.8970 - val_accuracy: 0.6667 - 23ms/epoch - 5ms/step\n",
      "Epoch 24/200\n",
      "5/5 - 0s - loss: 0.8892 - accuracy: 0.6607 - val_loss: 0.8561 - val_accuracy: 0.6667 - 23ms/epoch - 5ms/step\n",
      "Epoch 25/200\n",
      "5/5 - 0s - loss: 0.8508 - accuracy: 0.6607 - val_loss: 0.8188 - val_accuracy: 0.6667 - 32ms/epoch - 6ms/step\n",
      "Epoch 26/200\n",
      "5/5 - 0s - loss: 0.8156 - accuracy: 0.6607 - val_loss: 0.7860 - val_accuracy: 0.6667 - 39ms/epoch - 8ms/step\n",
      "Epoch 27/200\n",
      "5/5 - 0s - loss: 0.7805 - accuracy: 0.6607 - val_loss: 0.7552 - val_accuracy: 0.6667 - 35ms/epoch - 7ms/step\n",
      "Epoch 28/200\n",
      "5/5 - 0s - loss: 0.7505 - accuracy: 0.6607 - val_loss: 0.7238 - val_accuracy: 0.6667 - 35ms/epoch - 7ms/step\n",
      "Epoch 29/200\n",
      "5/5 - 0s - loss: 0.7181 - accuracy: 0.6607 - val_loss: 0.6995 - val_accuracy: 0.6667 - 25ms/epoch - 5ms/step\n",
      "Epoch 30/200\n",
      "5/5 - 0s - loss: 0.6978 - accuracy: 0.6607 - val_loss: 0.6803 - val_accuracy: 0.6667 - 24ms/epoch - 5ms/step\n",
      "Epoch 31/200\n",
      "5/5 - 0s - loss: 0.6797 - accuracy: 0.6607 - val_loss: 0.6668 - val_accuracy: 0.6667 - 23ms/epoch - 5ms/step\n",
      "Epoch 32/200\n",
      "5/5 - 0s - loss: 0.6669 - accuracy: 0.6607 - val_loss: 0.6551 - val_accuracy: 0.6667 - 23ms/epoch - 5ms/step\n",
      "Epoch 33/200\n",
      "5/5 - 0s - loss: 0.6559 - accuracy: 0.6607 - val_loss: 0.6445 - val_accuracy: 0.6667 - 23ms/epoch - 5ms/step\n",
      "Epoch 34/200\n",
      "5/5 - 0s - loss: 0.6449 - accuracy: 0.6607 - val_loss: 0.6351 - val_accuracy: 0.6533 - 27ms/epoch - 5ms/step\n",
      "Epoch 35/200\n",
      "5/5 - 0s - loss: 0.6354 - accuracy: 0.6607 - val_loss: 0.6266 - val_accuracy: 0.6467 - 40ms/epoch - 8ms/step\n",
      "Epoch 36/200\n",
      "5/5 - 0s - loss: 0.6267 - accuracy: 0.6429 - val_loss: 0.6189 - val_accuracy: 0.6467 - 36ms/epoch - 7ms/step\n",
      "Epoch 37/200\n",
      "5/5 - 0s - loss: 0.6189 - accuracy: 0.6429 - val_loss: 0.6116 - val_accuracy: 0.6467 - 36ms/epoch - 7ms/step\n",
      "Epoch 38/200\n",
      "5/5 - 0s - loss: 0.6118 - accuracy: 0.6518 - val_loss: 0.6050 - val_accuracy: 0.6533 - 23ms/epoch - 5ms/step\n",
      "Epoch 39/200\n",
      "5/5 - 0s - loss: 0.6051 - accuracy: 0.6607 - val_loss: 0.5989 - val_accuracy: 0.6533 - 24ms/epoch - 5ms/step\n",
      "Epoch 40/200\n",
      "5/5 - 0s - loss: 0.5991 - accuracy: 0.6607 - val_loss: 0.5931 - val_accuracy: 0.6733 - 23ms/epoch - 5ms/step\n",
      "Epoch 41/200\n",
      "5/5 - 0s - loss: 0.5936 - accuracy: 0.6786 - val_loss: 0.5878 - val_accuracy: 0.6867 - 22ms/epoch - 4ms/step\n",
      "Epoch 42/200\n",
      "5/5 - 0s - loss: 0.5881 - accuracy: 0.6964 - val_loss: 0.5828 - val_accuracy: 0.6867 - 23ms/epoch - 5ms/step\n",
      "Epoch 43/200\n",
      "5/5 - 0s - loss: 0.5832 - accuracy: 0.7054 - val_loss: 0.5781 - val_accuracy: 0.6933 - 24ms/epoch - 5ms/step\n",
      "Epoch 44/200\n",
      "5/5 - 0s - loss: 0.5786 - accuracy: 0.7054 - val_loss: 0.5735 - val_accuracy: 0.7067 - 24ms/epoch - 5ms/step\n",
      "Epoch 45/200\n",
      "5/5 - 0s - loss: 0.5741 - accuracy: 0.7054 - val_loss: 0.5691 - val_accuracy: 0.7067 - 40ms/epoch - 8ms/step\n",
      "Epoch 46/200\n",
      "5/5 - 0s - loss: 0.5697 - accuracy: 0.7143 - val_loss: 0.5649 - val_accuracy: 0.7133 - 37ms/epoch - 7ms/step\n",
      "Epoch 47/200\n",
      "5/5 - 0s - loss: 0.5657 - accuracy: 0.7232 - val_loss: 0.5609 - val_accuracy: 0.7200 - 43ms/epoch - 9ms/step\n",
      "Epoch 48/200\n",
      "5/5 - 0s - loss: 0.5617 - accuracy: 0.7321 - val_loss: 0.5571 - val_accuracy: 0.7200 - 28ms/epoch - 6ms/step\n",
      "Epoch 49/200\n",
      "5/5 - 0s - loss: 0.5578 - accuracy: 0.7321 - val_loss: 0.5533 - val_accuracy: 0.7400 - 27ms/epoch - 5ms/step\n",
      "Epoch 50/200\n",
      "5/5 - 0s - loss: 0.5542 - accuracy: 0.7500 - val_loss: 0.5497 - val_accuracy: 0.7467 - 30ms/epoch - 6ms/step\n",
      "Epoch 51/200\n",
      "5/5 - 0s - loss: 0.5505 - accuracy: 0.7500 - val_loss: 0.5461 - val_accuracy: 0.7467 - 26ms/epoch - 5ms/step\n",
      "Epoch 52/200\n",
      "5/5 - 0s - loss: 0.5470 - accuracy: 0.7589 - val_loss: 0.5426 - val_accuracy: 0.7467 - 29ms/epoch - 6ms/step\n",
      "Epoch 53/200\n",
      "5/5 - 0s - loss: 0.5437 - accuracy: 0.7500 - val_loss: 0.5392 - val_accuracy: 0.7333 - 29ms/epoch - 6ms/step\n",
      "Epoch 54/200\n",
      "5/5 - 0s - loss: 0.5404 - accuracy: 0.7500 - val_loss: 0.5360 - val_accuracy: 0.7333 - 27ms/epoch - 5ms/step\n",
      "Epoch 55/200\n",
      "5/5 - 0s - loss: 0.5373 - accuracy: 0.7500 - val_loss: 0.5328 - val_accuracy: 0.7333 - 30ms/epoch - 6ms/step\n",
      "Epoch 56/200\n",
      "5/5 - 0s - loss: 0.5341 - accuracy: 0.7589 - val_loss: 0.5299 - val_accuracy: 0.7533 - 31ms/epoch - 6ms/step\n",
      "Epoch 57/200\n",
      "5/5 - 0s - loss: 0.5311 - accuracy: 0.7589 - val_loss: 0.5269 - val_accuracy: 0.7533 - 24ms/epoch - 5ms/step\n",
      "Epoch 58/200\n",
      "5/5 - 0s - loss: 0.5281 - accuracy: 0.7679 - val_loss: 0.5239 - val_accuracy: 0.7533 - 28ms/epoch - 6ms/step\n",
      "Epoch 59/200\n",
      "5/5 - 0s - loss: 0.5252 - accuracy: 0.7679 - val_loss: 0.5210 - val_accuracy: 0.7667 - 41ms/epoch - 8ms/step\n",
      "Epoch 60/200\n",
      "5/5 - 0s - loss: 0.5224 - accuracy: 0.7589 - val_loss: 0.5181 - val_accuracy: 0.7533 - 36ms/epoch - 7ms/step\n",
      "Epoch 61/200\n",
      "5/5 - 0s - loss: 0.5194 - accuracy: 0.7589 - val_loss: 0.5153 - val_accuracy: 0.7467 - 39ms/epoch - 8ms/step\n",
      "Epoch 62/200\n",
      "5/5 - 0s - loss: 0.5169 - accuracy: 0.7500 - val_loss: 0.5126 - val_accuracy: 0.7533 - 31ms/epoch - 6ms/step\n",
      "Epoch 63/200\n",
      "5/5 - 0s - loss: 0.5141 - accuracy: 0.7500 - val_loss: 0.5100 - val_accuracy: 0.7600 - 27ms/epoch - 5ms/step\n",
      "Epoch 64/200\n",
      "5/5 - 0s - loss: 0.5115 - accuracy: 0.7589 - val_loss: 0.5074 - val_accuracy: 0.7533 - 27ms/epoch - 5ms/step\n",
      "Epoch 65/200\n",
      "5/5 - 0s - loss: 0.5090 - accuracy: 0.7500 - val_loss: 0.5049 - val_accuracy: 0.7467 - 27ms/epoch - 5ms/step\n",
      "Epoch 66/200\n",
      "5/5 - 0s - loss: 0.5066 - accuracy: 0.7411 - val_loss: 0.5023 - val_accuracy: 0.7400 - 29ms/epoch - 6ms/step\n",
      "Epoch 67/200\n",
      "5/5 - 0s - loss: 0.5039 - accuracy: 0.7321 - val_loss: 0.4999 - val_accuracy: 0.7400 - 27ms/epoch - 5ms/step\n",
      "Epoch 68/200\n",
      "5/5 - 0s - loss: 0.5016 - accuracy: 0.7321 - val_loss: 0.4974 - val_accuracy: 0.7400 - 26ms/epoch - 5ms/step\n",
      "Epoch 69/200\n",
      "5/5 - 0s - loss: 0.4993 - accuracy: 0.7321 - val_loss: 0.4950 - val_accuracy: 0.7400 - 23ms/epoch - 5ms/step\n",
      "Epoch 70/200\n",
      "5/5 - 0s - loss: 0.4969 - accuracy: 0.7411 - val_loss: 0.4927 - val_accuracy: 0.7467 - 28ms/epoch - 6ms/step\n",
      "Epoch 71/200\n",
      "5/5 - 0s - loss: 0.4948 - accuracy: 0.7411 - val_loss: 0.4904 - val_accuracy: 0.7400 - 35ms/epoch - 7ms/step\n",
      "Epoch 72/200\n",
      "5/5 - 0s - loss: 0.4924 - accuracy: 0.7321 - val_loss: 0.4881 - val_accuracy: 0.7467 - 32ms/epoch - 6ms/step\n",
      "Epoch 73/200\n",
      "5/5 - 0s - loss: 0.4901 - accuracy: 0.7411 - val_loss: 0.4858 - val_accuracy: 0.7533 - 25ms/epoch - 5ms/step\n",
      "Epoch 74/200\n",
      "5/5 - 0s - loss: 0.4878 - accuracy: 0.7411 - val_loss: 0.4836 - val_accuracy: 0.7600 - 24ms/epoch - 5ms/step\n",
      "Epoch 75/200\n",
      "5/5 - 0s - loss: 0.4855 - accuracy: 0.7679 - val_loss: 0.4814 - val_accuracy: 0.7800 - 24ms/epoch - 5ms/step\n",
      "Epoch 76/200\n",
      "5/5 - 0s - loss: 0.4834 - accuracy: 0.7768 - val_loss: 0.4793 - val_accuracy: 0.7933 - 24ms/epoch - 5ms/step\n",
      "Epoch 77/200\n",
      "5/5 - 0s - loss: 0.4813 - accuracy: 0.8036 - val_loss: 0.4771 - val_accuracy: 0.8267 - 24ms/epoch - 5ms/step\n",
      "Epoch 78/200\n",
      "5/5 - 0s - loss: 0.4795 - accuracy: 0.8393 - val_loss: 0.4751 - val_accuracy: 0.8733 - 24ms/epoch - 5ms/step\n",
      "Epoch 79/200\n",
      "5/5 - 0s - loss: 0.4770 - accuracy: 0.8750 - val_loss: 0.4729 - val_accuracy: 0.8667 - 24ms/epoch - 5ms/step\n",
      "Epoch 80/200\n",
      "5/5 - 0s - loss: 0.4749 - accuracy: 0.8661 - val_loss: 0.4708 - val_accuracy: 0.8667 - 25ms/epoch - 5ms/step\n",
      "Epoch 81/200\n",
      "5/5 - 0s - loss: 0.4727 - accuracy: 0.8661 - val_loss: 0.4687 - val_accuracy: 0.8667 - 25ms/epoch - 5ms/step\n",
      "Epoch 82/200\n",
      "5/5 - 0s - loss: 0.4707 - accuracy: 0.8571 - val_loss: 0.4666 - val_accuracy: 0.8467 - 24ms/epoch - 5ms/step\n",
      "Epoch 83/200\n",
      "5/5 - 0s - loss: 0.4686 - accuracy: 0.8393 - val_loss: 0.4645 - val_accuracy: 0.8400 - 24ms/epoch - 5ms/step\n",
      "Epoch 84/200\n",
      "5/5 - 0s - loss: 0.4667 - accuracy: 0.8214 - val_loss: 0.4624 - val_accuracy: 0.8400 - 25ms/epoch - 5ms/step\n",
      "Epoch 85/200\n",
      "5/5 - 0s - loss: 0.4647 - accuracy: 0.8482 - val_loss: 0.4603 - val_accuracy: 0.8467 - 23ms/epoch - 5ms/step\n",
      "Epoch 86/200\n",
      "5/5 - 0s - loss: 0.4625 - accuracy: 0.8571 - val_loss: 0.4583 - val_accuracy: 0.8533 - 23ms/epoch - 5ms/step\n",
      "Epoch 87/200\n",
      "5/5 - 0s - loss: 0.4607 - accuracy: 0.8571 - val_loss: 0.4563 - val_accuracy: 0.8600 - 22ms/epoch - 4ms/step\n",
      "Epoch 88/200\n",
      "5/5 - 0s - loss: 0.4586 - accuracy: 0.8661 - val_loss: 0.4543 - val_accuracy: 0.8667 - 23ms/epoch - 5ms/step\n",
      "Epoch 89/200\n",
      "5/5 - 0s - loss: 0.4566 - accuracy: 0.8571 - val_loss: 0.4523 - val_accuracy: 0.8600 - 23ms/epoch - 5ms/step\n",
      "Epoch 90/200\n",
      "5/5 - 0s - loss: 0.4547 - accuracy: 0.8571 - val_loss: 0.4504 - val_accuracy: 0.8533 - 21ms/epoch - 4ms/step\n",
      "Epoch 91/200\n",
      "5/5 - 0s - loss: 0.4527 - accuracy: 0.8571 - val_loss: 0.4484 - val_accuracy: 0.8533 - 22ms/epoch - 4ms/step\n",
      "Epoch 92/200\n",
      "5/5 - 0s - loss: 0.4507 - accuracy: 0.8571 - val_loss: 0.4463 - val_accuracy: 0.8600 - 22ms/epoch - 4ms/step\n",
      "Epoch 93/200\n",
      "5/5 - 0s - loss: 0.4487 - accuracy: 0.8661 - val_loss: 0.4444 - val_accuracy: 0.8800 - 23ms/epoch - 5ms/step\n",
      "Epoch 94/200\n",
      "5/5 - 0s - loss: 0.4468 - accuracy: 0.8571 - val_loss: 0.4424 - val_accuracy: 0.8667 - 23ms/epoch - 5ms/step\n",
      "Epoch 95/200\n",
      "5/5 - 0s - loss: 0.4448 - accuracy: 0.8661 - val_loss: 0.4403 - val_accuracy: 0.8800 - 24ms/epoch - 5ms/step\n",
      "Epoch 96/200\n",
      "5/5 - 0s - loss: 0.4431 - accuracy: 0.8661 - val_loss: 0.4384 - val_accuracy: 0.8867 - 23ms/epoch - 5ms/step\n",
      "Epoch 97/200\n",
      "5/5 - 0s - loss: 0.4408 - accuracy: 0.8661 - val_loss: 0.4365 - val_accuracy: 0.8800 - 23ms/epoch - 5ms/step\n",
      "Epoch 98/200\n",
      "5/5 - 0s - loss: 0.4390 - accuracy: 0.8661 - val_loss: 0.4345 - val_accuracy: 0.8800 - 24ms/epoch - 5ms/step\n",
      "Epoch 99/200\n",
      "5/5 - 0s - loss: 0.4371 - accuracy: 0.8661 - val_loss: 0.4326 - val_accuracy: 0.8800 - 22ms/epoch - 4ms/step\n",
      "Epoch 100/200\n",
      "5/5 - 0s - loss: 0.4350 - accuracy: 0.8661 - val_loss: 0.4306 - val_accuracy: 0.8800 - 23ms/epoch - 5ms/step\n",
      "Epoch 101/200\n",
      "5/5 - 0s - loss: 0.4332 - accuracy: 0.8661 - val_loss: 0.4285 - val_accuracy: 0.8933 - 22ms/epoch - 4ms/step\n",
      "Epoch 102/200\n",
      "5/5 - 0s - loss: 0.4311 - accuracy: 0.8839 - val_loss: 0.4265 - val_accuracy: 0.8933 - 22ms/epoch - 4ms/step\n",
      "Epoch 103/200\n",
      "5/5 - 0s - loss: 0.4293 - accuracy: 0.8661 - val_loss: 0.4246 - val_accuracy: 0.8733 - 23ms/epoch - 5ms/step\n",
      "Epoch 104/200\n",
      "5/5 - 0s - loss: 0.4274 - accuracy: 0.8661 - val_loss: 0.4224 - val_accuracy: 0.8933 - 23ms/epoch - 5ms/step\n",
      "Epoch 105/200\n",
      "5/5 - 0s - loss: 0.4252 - accuracy: 0.8839 - val_loss: 0.4203 - val_accuracy: 0.8933 - 23ms/epoch - 5ms/step\n",
      "Epoch 106/200\n",
      "5/5 - 0s - loss: 0.4236 - accuracy: 0.8571 - val_loss: 0.4183 - val_accuracy: 0.8733 - 24ms/epoch - 5ms/step\n",
      "Epoch 107/200\n",
      "5/5 - 0s - loss: 0.4213 - accuracy: 0.8750 - val_loss: 0.4162 - val_accuracy: 0.8933 - 23ms/epoch - 5ms/step\n",
      "Epoch 108/200\n",
      "5/5 - 0s - loss: 0.4195 - accuracy: 0.8929 - val_loss: 0.4140 - val_accuracy: 0.9200 - 23ms/epoch - 5ms/step\n",
      "Epoch 109/200\n",
      "5/5 - 0s - loss: 0.4173 - accuracy: 0.9107 - val_loss: 0.4118 - val_accuracy: 0.9200 - 33ms/epoch - 7ms/step\n",
      "Epoch 110/200\n",
      "5/5 - 0s - loss: 0.4151 - accuracy: 0.9196 - val_loss: 0.4097 - val_accuracy: 0.9333 - 42ms/epoch - 8ms/step\n",
      "Epoch 111/200\n",
      "5/5 - 0s - loss: 0.4130 - accuracy: 0.9286 - val_loss: 0.4073 - val_accuracy: 0.9333 - 34ms/epoch - 7ms/step\n",
      "Epoch 112/200\n",
      "5/5 - 0s - loss: 0.4109 - accuracy: 0.9107 - val_loss: 0.4048 - val_accuracy: 0.9267 - 24ms/epoch - 5ms/step\n",
      "Epoch 113/200\n",
      "5/5 - 0s - loss: 0.4086 - accuracy: 0.9375 - val_loss: 0.4022 - val_accuracy: 0.9533 - 24ms/epoch - 5ms/step\n",
      "Epoch 114/200\n",
      "5/5 - 0s - loss: 0.4054 - accuracy: 0.9554 - val_loss: 0.3982 - val_accuracy: 0.9467 - 23ms/epoch - 5ms/step\n",
      "Epoch 115/200\n",
      "5/5 - 0s - loss: 0.4008 - accuracy: 0.9196 - val_loss: 0.3931 - val_accuracy: 0.9000 - 23ms/epoch - 5ms/step\n",
      "Epoch 116/200\n",
      "5/5 - 0s - loss: 0.3958 - accuracy: 0.8839 - val_loss: 0.3893 - val_accuracy: 0.8667 - 24ms/epoch - 5ms/step\n",
      "Epoch 117/200\n",
      "5/5 - 0s - loss: 0.3917 - accuracy: 0.8571 - val_loss: 0.3847 - val_accuracy: 0.8800 - 19ms/epoch - 4ms/step\n",
      "Epoch 118/200\n",
      "5/5 - 0s - loss: 0.3874 - accuracy: 0.8839 - val_loss: 0.3794 - val_accuracy: 0.9133 - 33ms/epoch - 7ms/step\n",
      "Epoch 119/200\n",
      "5/5 - 0s - loss: 0.3845 - accuracy: 0.9286 - val_loss: 0.3753 - val_accuracy: 0.9467 - 38ms/epoch - 8ms/step\n",
      "Epoch 120/200\n",
      "5/5 - 0s - loss: 0.3782 - accuracy: 0.9375 - val_loss: 0.3719 - val_accuracy: 0.9333 - 42ms/epoch - 8ms/step\n",
      "Epoch 121/200\n",
      "5/5 - 0s - loss: 0.3747 - accuracy: 0.9196 - val_loss: 0.3687 - val_accuracy: 0.9200 - 25ms/epoch - 5ms/step\n",
      "Epoch 122/200\n",
      "5/5 - 0s - loss: 0.3726 - accuracy: 0.9107 - val_loss: 0.3657 - val_accuracy: 0.9200 - 25ms/epoch - 5ms/step\n",
      "Epoch 123/200\n",
      "5/5 - 0s - loss: 0.3683 - accuracy: 0.9375 - val_loss: 0.3619 - val_accuracy: 0.9600 - 27ms/epoch - 5ms/step\n",
      "Epoch 124/200\n",
      "5/5 - 0s - loss: 0.3649 - accuracy: 0.9643 - val_loss: 0.3590 - val_accuracy: 0.9667 - 26ms/epoch - 5ms/step\n",
      "Epoch 125/200\n",
      "5/5 - 0s - loss: 0.3626 - accuracy: 0.9732 - val_loss: 0.3557 - val_accuracy: 0.9667 - 24ms/epoch - 5ms/step\n",
      "Epoch 126/200\n",
      "5/5 - 0s - loss: 0.3588 - accuracy: 0.9732 - val_loss: 0.3527 - val_accuracy: 0.9667 - 32ms/epoch - 6ms/step\n",
      "Epoch 127/200\n",
      "5/5 - 0s - loss: 0.3558 - accuracy: 0.9732 - val_loss: 0.3497 - val_accuracy: 0.9667 - 29ms/epoch - 6ms/step\n",
      "Epoch 128/200\n",
      "5/5 - 0s - loss: 0.3533 - accuracy: 0.9732 - val_loss: 0.3469 - val_accuracy: 0.9667 - 37ms/epoch - 7ms/step\n",
      "Epoch 129/200\n",
      "5/5 - 0s - loss: 0.3499 - accuracy: 0.9732 - val_loss: 0.3439 - val_accuracy: 0.9667 - 33ms/epoch - 7ms/step\n",
      "Epoch 130/200\n",
      "5/5 - 0s - loss: 0.3469 - accuracy: 0.9732 - val_loss: 0.3410 - val_accuracy: 0.9667 - 29ms/epoch - 6ms/step\n",
      "Epoch 131/200\n",
      "5/5 - 0s - loss: 0.3439 - accuracy: 0.9732 - val_loss: 0.3384 - val_accuracy: 0.9667 - 35ms/epoch - 7ms/step\n",
      "Epoch 132/200\n",
      "5/5 - 0s - loss: 0.3421 - accuracy: 0.9732 - val_loss: 0.3358 - val_accuracy: 0.9667 - 32ms/epoch - 6ms/step\n",
      "Epoch 133/200\n",
      "5/5 - 0s - loss: 0.3388 - accuracy: 0.9732 - val_loss: 0.3326 - val_accuracy: 0.9667 - 22ms/epoch - 4ms/step\n",
      "Epoch 134/200\n",
      "5/5 - 0s - loss: 0.3355 - accuracy: 0.9732 - val_loss: 0.3302 - val_accuracy: 0.9667 - 28ms/epoch - 6ms/step\n",
      "Epoch 135/200\n",
      "5/5 - 0s - loss: 0.3330 - accuracy: 0.9732 - val_loss: 0.3273 - val_accuracy: 0.9667 - 26ms/epoch - 5ms/step\n",
      "Epoch 136/200\n",
      "5/5 - 0s - loss: 0.3300 - accuracy: 0.9732 - val_loss: 0.3243 - val_accuracy: 0.9667 - 35ms/epoch - 7ms/step\n",
      "Epoch 137/200\n",
      "5/5 - 0s - loss: 0.3270 - accuracy: 0.9732 - val_loss: 0.3212 - val_accuracy: 0.9667 - 48ms/epoch - 10ms/step\n",
      "Epoch 138/200\n",
      "5/5 - 0s - loss: 0.3243 - accuracy: 0.9732 - val_loss: 0.3187 - val_accuracy: 0.9733 - 23ms/epoch - 5ms/step\n",
      "Epoch 139/200\n",
      "5/5 - 0s - loss: 0.3222 - accuracy: 0.9732 - val_loss: 0.3159 - val_accuracy: 0.9733 - 24ms/epoch - 5ms/step\n",
      "Epoch 140/200\n",
      "5/5 - 0s - loss: 0.3194 - accuracy: 0.9821 - val_loss: 0.3131 - val_accuracy: 0.9667 - 27ms/epoch - 5ms/step\n",
      "Epoch 141/200\n",
      "5/5 - 0s - loss: 0.3164 - accuracy: 0.9821 - val_loss: 0.3105 - val_accuracy: 0.9733 - 24ms/epoch - 5ms/step\n",
      "Epoch 142/200\n",
      "5/5 - 0s - loss: 0.3133 - accuracy: 0.9821 - val_loss: 0.3078 - val_accuracy: 0.9733 - 26ms/epoch - 5ms/step\n",
      "Epoch 143/200\n",
      "5/5 - 0s - loss: 0.3105 - accuracy: 0.9821 - val_loss: 0.3052 - val_accuracy: 0.9667 - 24ms/epoch - 5ms/step\n",
      "Epoch 144/200\n",
      "5/5 - 0s - loss: 0.3080 - accuracy: 0.9732 - val_loss: 0.3025 - val_accuracy: 0.9667 - 26ms/epoch - 5ms/step\n",
      "Epoch 145/200\n",
      "5/5 - 0s - loss: 0.3057 - accuracy: 0.9732 - val_loss: 0.3004 - val_accuracy: 0.9667 - 24ms/epoch - 5ms/step\n",
      "Epoch 146/200\n",
      "5/5 - 0s - loss: 0.3029 - accuracy: 0.9732 - val_loss: 0.2973 - val_accuracy: 0.9667 - 25ms/epoch - 5ms/step\n",
      "Epoch 147/200\n",
      "5/5 - 0s - loss: 0.2999 - accuracy: 0.9732 - val_loss: 0.2946 - val_accuracy: 0.9667 - 25ms/epoch - 5ms/step\n",
      "Epoch 148/200\n",
      "5/5 - 0s - loss: 0.2975 - accuracy: 0.9732 - val_loss: 0.2920 - val_accuracy: 0.9733 - 26ms/epoch - 5ms/step\n",
      "Epoch 149/200\n",
      "5/5 - 0s - loss: 0.2946 - accuracy: 0.9821 - val_loss: 0.2894 - val_accuracy: 0.9733 - 23ms/epoch - 5ms/step\n",
      "Epoch 150/200\n",
      "5/5 - 0s - loss: 0.2920 - accuracy: 0.9732 - val_loss: 0.2870 - val_accuracy: 0.9667 - 24ms/epoch - 5ms/step\n",
      "Epoch 151/200\n",
      "5/5 - 0s - loss: 0.2899 - accuracy: 0.9732 - val_loss: 0.2845 - val_accuracy: 0.9667 - 24ms/epoch - 5ms/step\n",
      "Epoch 152/200\n",
      "5/5 - 0s - loss: 0.2873 - accuracy: 0.9732 - val_loss: 0.2819 - val_accuracy: 0.9667 - 25ms/epoch - 5ms/step\n",
      "Epoch 153/200\n",
      "5/5 - 0s - loss: 0.2851 - accuracy: 0.9732 - val_loss: 0.2793 - val_accuracy: 0.9733 - 25ms/epoch - 5ms/step\n",
      "Epoch 154/200\n",
      "5/5 - 0s - loss: 0.2814 - accuracy: 0.9821 - val_loss: 0.2771 - val_accuracy: 0.9667 - 25ms/epoch - 5ms/step\n",
      "Epoch 155/200\n",
      "5/5 - 0s - loss: 0.2803 - accuracy: 0.9732 - val_loss: 0.2751 - val_accuracy: 0.9667 - 24ms/epoch - 5ms/step\n",
      "Epoch 156/200\n",
      "5/5 - 0s - loss: 0.2774 - accuracy: 0.9732 - val_loss: 0.2725 - val_accuracy: 0.9667 - 25ms/epoch - 5ms/step\n",
      "Epoch 157/200\n",
      "5/5 - 0s - loss: 0.2759 - accuracy: 0.9732 - val_loss: 0.2694 - val_accuracy: 0.9733 - 24ms/epoch - 5ms/step\n",
      "Epoch 158/200\n",
      "5/5 - 0s - loss: 0.2720 - accuracy: 0.9821 - val_loss: 0.2669 - val_accuracy: 0.9733 - 26ms/epoch - 5ms/step\n",
      "Epoch 159/200\n",
      "5/5 - 0s - loss: 0.2702 - accuracy: 0.9821 - val_loss: 0.2647 - val_accuracy: 0.9733 - 25ms/epoch - 5ms/step\n",
      "Epoch 160/200\n",
      "5/5 - 0s - loss: 0.2673 - accuracy: 0.9821 - val_loss: 0.2621 - val_accuracy: 0.9733 - 27ms/epoch - 5ms/step\n",
      "Epoch 161/200\n",
      "5/5 - 0s - loss: 0.2645 - accuracy: 0.9821 - val_loss: 0.2597 - val_accuracy: 0.9733 - 27ms/epoch - 5ms/step\n",
      "Epoch 162/200\n",
      "5/5 - 0s - loss: 0.2622 - accuracy: 0.9821 - val_loss: 0.2575 - val_accuracy: 0.9733 - 24ms/epoch - 5ms/step\n",
      "Epoch 163/200\n",
      "5/5 - 0s - loss: 0.2600 - accuracy: 0.9821 - val_loss: 0.2550 - val_accuracy: 0.9800 - 26ms/epoch - 5ms/step\n",
      "Epoch 164/200\n",
      "5/5 - 0s - loss: 0.2582 - accuracy: 0.9821 - val_loss: 0.2528 - val_accuracy: 0.9733 - 25ms/epoch - 5ms/step\n",
      "Epoch 165/200\n",
      "5/5 - 0s - loss: 0.2547 - accuracy: 0.9821 - val_loss: 0.2504 - val_accuracy: 0.9800 - 26ms/epoch - 5ms/step\n",
      "Epoch 166/200\n",
      "5/5 - 0s - loss: 0.2534 - accuracy: 0.9821 - val_loss: 0.2484 - val_accuracy: 0.9800 - 24ms/epoch - 5ms/step\n",
      "Epoch 167/200\n",
      "5/5 - 0s - loss: 0.2505 - accuracy: 0.9821 - val_loss: 0.2458 - val_accuracy: 0.9800 - 26ms/epoch - 5ms/step\n",
      "Epoch 168/200\n",
      "5/5 - 0s - loss: 0.2477 - accuracy: 0.9821 - val_loss: 0.2439 - val_accuracy: 0.9733 - 25ms/epoch - 5ms/step\n",
      "Epoch 169/200\n",
      "5/5 - 0s - loss: 0.2461 - accuracy: 0.9821 - val_loss: 0.2420 - val_accuracy: 0.9733 - 25ms/epoch - 5ms/step\n",
      "Epoch 170/200\n",
      "5/5 - 0s - loss: 0.2441 - accuracy: 0.9821 - val_loss: 0.2392 - val_accuracy: 0.9733 - 25ms/epoch - 5ms/step\n",
      "Epoch 171/200\n",
      "5/5 - 0s - loss: 0.2412 - accuracy: 0.9821 - val_loss: 0.2369 - val_accuracy: 0.9800 - 24ms/epoch - 5ms/step\n",
      "Epoch 172/200\n",
      "5/5 - 0s - loss: 0.2389 - accuracy: 0.9821 - val_loss: 0.2349 - val_accuracy: 0.9733 - 26ms/epoch - 5ms/step\n",
      "Epoch 173/200\n",
      "5/5 - 0s - loss: 0.2366 - accuracy: 0.9821 - val_loss: 0.2326 - val_accuracy: 0.9800 - 25ms/epoch - 5ms/step\n",
      "Epoch 174/200\n",
      "5/5 - 0s - loss: 0.2344 - accuracy: 0.9821 - val_loss: 0.2305 - val_accuracy: 0.9733 - 24ms/epoch - 5ms/step\n",
      "Epoch 175/200\n",
      "5/5 - 0s - loss: 0.2319 - accuracy: 0.9821 - val_loss: 0.2281 - val_accuracy: 0.9800 - 28ms/epoch - 6ms/step\n",
      "Epoch 176/200\n",
      "5/5 - 0s - loss: 0.2296 - accuracy: 0.9821 - val_loss: 0.2259 - val_accuracy: 0.9800 - 25ms/epoch - 5ms/step\n",
      "Epoch 177/200\n",
      "5/5 - 0s - loss: 0.2276 - accuracy: 0.9821 - val_loss: 0.2238 - val_accuracy: 0.9800 - 26ms/epoch - 5ms/step\n",
      "Epoch 178/200\n",
      "5/5 - 0s - loss: 0.2254 - accuracy: 0.9821 - val_loss: 0.2215 - val_accuracy: 0.9800 - 25ms/epoch - 5ms/step\n",
      "Epoch 179/200\n",
      "5/5 - 0s - loss: 0.2230 - accuracy: 0.9821 - val_loss: 0.2196 - val_accuracy: 0.9800 - 26ms/epoch - 5ms/step\n",
      "Epoch 180/200\n",
      "5/5 - 0s - loss: 0.2208 - accuracy: 0.9821 - val_loss: 0.2175 - val_accuracy: 0.9800 - 24ms/epoch - 5ms/step\n",
      "Epoch 181/200\n",
      "5/5 - 0s - loss: 0.2195 - accuracy: 0.9821 - val_loss: 0.2152 - val_accuracy: 0.9800 - 24ms/epoch - 5ms/step\n",
      "Epoch 182/200\n",
      "5/5 - 0s - loss: 0.2171 - accuracy: 0.9821 - val_loss: 0.2135 - val_accuracy: 0.9800 - 26ms/epoch - 5ms/step\n",
      "Epoch 183/200\n",
      "5/5 - 0s - loss: 0.2146 - accuracy: 0.9821 - val_loss: 0.2113 - val_accuracy: 0.9800 - 25ms/epoch - 5ms/step\n",
      "Epoch 184/200\n",
      "5/5 - 0s - loss: 0.2128 - accuracy: 0.9821 - val_loss: 0.2090 - val_accuracy: 0.9800 - 28ms/epoch - 6ms/step\n",
      "Epoch 185/200\n",
      "5/5 - 0s - loss: 0.2102 - accuracy: 0.9821 - val_loss: 0.2069 - val_accuracy: 0.9800 - 26ms/epoch - 5ms/step\n",
      "Epoch 186/200\n",
      "5/5 - 0s - loss: 0.2090 - accuracy: 0.9821 - val_loss: 0.2050 - val_accuracy: 0.9800 - 25ms/epoch - 5ms/step\n",
      "Epoch 187/200\n",
      "5/5 - 0s - loss: 0.2058 - accuracy: 0.9821 - val_loss: 0.2030 - val_accuracy: 0.9800 - 25ms/epoch - 5ms/step\n",
      "Epoch 188/200\n",
      "5/5 - 0s - loss: 0.2042 - accuracy: 0.9821 - val_loss: 0.2009 - val_accuracy: 0.9800 - 28ms/epoch - 6ms/step\n",
      "Epoch 189/200\n",
      "5/5 - 0s - loss: 0.2024 - accuracy: 0.9821 - val_loss: 0.1990 - val_accuracy: 0.9800 - 25ms/epoch - 5ms/step\n",
      "Epoch 190/200\n",
      "5/5 - 0s - loss: 0.2008 - accuracy: 0.9821 - val_loss: 0.1971 - val_accuracy: 0.9800 - 28ms/epoch - 6ms/step\n",
      "Epoch 191/200\n",
      "5/5 - 0s - loss: 0.1976 - accuracy: 0.9821 - val_loss: 0.1951 - val_accuracy: 0.9800 - 28ms/epoch - 6ms/step\n",
      "Epoch 192/200\n",
      "5/5 - 0s - loss: 0.1959 - accuracy: 0.9821 - val_loss: 0.1933 - val_accuracy: 0.9800 - 25ms/epoch - 5ms/step\n",
      "Epoch 193/200\n",
      "5/5 - 0s - loss: 0.1943 - accuracy: 0.9821 - val_loss: 0.1913 - val_accuracy: 0.9800 - 27ms/epoch - 5ms/step\n",
      "Epoch 194/200\n",
      "5/5 - 0s - loss: 0.1923 - accuracy: 0.9821 - val_loss: 0.1895 - val_accuracy: 0.9800 - 24ms/epoch - 5ms/step\n",
      "Epoch 195/200\n",
      "5/5 - 0s - loss: 0.1905 - accuracy: 0.9821 - val_loss: 0.1875 - val_accuracy: 0.9800 - 25ms/epoch - 5ms/step\n",
      "Epoch 196/200\n",
      "5/5 - 0s - loss: 0.1881 - accuracy: 0.9821 - val_loss: 0.1859 - val_accuracy: 0.9800 - 24ms/epoch - 5ms/step\n",
      "Epoch 197/200\n",
      "5/5 - 0s - loss: 0.1868 - accuracy: 0.9821 - val_loss: 0.1841 - val_accuracy: 0.9800 - 24ms/epoch - 5ms/step\n",
      "Epoch 198/200\n",
      "5/5 - 0s - loss: 0.1846 - accuracy: 0.9821 - val_loss: 0.1819 - val_accuracy: 0.9800 - 32ms/epoch - 6ms/step\n",
      "Epoch 199/200\n",
      "5/5 - 0s - loss: 0.1824 - accuracy: 0.9821 - val_loss: 0.1802 - val_accuracy: 0.9800 - 31ms/epoch - 6ms/step\n",
      "Epoch 200/200\n",
      "5/5 - 0s - loss: 0.1803 - accuracy: 0.9821 - val_loss: 0.1784 - val_accuracy: 0.9800 - 23ms/epoch - 5ms/step\n"
     ]
    },
    {
     "data": {
      "text/plain": [
       "<keras.callbacks.History at 0x1b446d2bfa0>"
      ]
     },
     "execution_count": 66,
     "metadata": {},
     "output_type": "execute_result"
    }
   ],
   "source": [
    "model.fit(x_train, y_train, verbose=2, batch_size=25, epochs=200, validation_data=(x, y))"
   ]
  },
  {
   "cell_type": "markdown",
   "metadata": {},
   "source": [
    "Bisa dilihat dari hasil training diatas, akurasi dan validasi sudah diatas 70% sehingga sudah memenuhi kententuan."
   ]
  },
  {
   "cell_type": "markdown",
   "metadata": {},
   "source": [
    "## Evaluate"
   ]
  },
  {
   "cell_type": "code",
   "execution_count": 67,
   "metadata": {},
   "outputs": [
    {
     "name": "stdout",
     "output_type": "stream",
     "text": [
      "2/2 [==============================] - 0s 2ms/step - loss: 0.1765 - accuracy: 0.9737\n",
      "Hasil Tes Loss: 0.176496\n",
      "Hasil Tes Akurasi : 0.973684\n"
     ]
    }
   ],
   "source": [
    "result = model.evaluate(x_test, y_test)\n",
    "print('Hasil Tes Loss: {:4f}'.format(result[0]))\n",
    "print('Hasil Tes Akurasi : {:4f}'.format(result[1]))"
   ]
  }
 ],
 "metadata": {
  "kernelspec": {
   "display_name": "Python 3.10.7 64-bit",
   "language": "python",
   "name": "python3"
  },
  "language_info": {
   "codemirror_mode": {
    "name": "ipython",
    "version": 3
   },
   "file_extension": ".py",
   "mimetype": "text/x-python",
   "name": "python",
   "nbconvert_exporter": "python",
   "pygments_lexer": "ipython3",
   "version": "3.10.7"
  },
  "orig_nbformat": 4,
  "vscode": {
   "interpreter": {
    "hash": "200e2a1a991d180c9c309c789f657d054eb1e69794afbc0e2ae3f183f1fccf4c"
   }
  }
 },
 "nbformat": 4,
 "nbformat_minor": 2
}
