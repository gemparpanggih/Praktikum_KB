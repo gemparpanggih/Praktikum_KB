{
 "cells": [
  {
   "cell_type": "markdown",
   "metadata": {},
   "source": [
    "# POSTTEST 2 Kecerdasan Buatan\n",
    "\n",
    "### Gempar Panggih Dwi Putra\n",
    "### NIM 2009106022\n",
    "\n",
    "## Dataset Premiere League Season 2007-2018"
   ]
  },
  {
   "cell_type": "code",
   "execution_count": 1,
   "metadata": {},
   "outputs": [],
   "source": [
    "import matplotlib.pyplot as plt\n",
    "import pandas as pd\n",
    "from prettytable import PrettyTable\n",
    "from tabulate import tabulate\n",
    "df = pd.read_csv(\"premiere-league.csv\")"
   ]
  },
  {
   "cell_type": "markdown",
   "metadata": {},
   "source": [
    "### SOAL 1\n",
    "#### Informasi yang didapatkan adalah jumlah record, nama attribute, jumlah attribute dengan tipe objek, jumlah attribute dengan tipe angka, jumlah attribute yang memiliki nilai null."
   ]
  },
  {
   "cell_type": "code",
   "execution_count": 2,
   "metadata": {},
   "outputs": [
    {
     "name": "stdout",
     "output_type": "stream",
     "text": [
      "Jumlah Record \t\t\t=  4560\n",
      "Nama Attribute \t\t\t=  ['home_team', 'away_team', 'home_goals', 'away_goals', 'result', 'season']\n",
      "Jumlah Attribute Tipe Objek \t=  4\n",
      "Jumlah Attribut Tipe Angka \t=  2\n",
      "Jumlah Attribut bernilai Null \t=  0\n"
     ]
    }
   ],
   "source": [
    "# Jumlah record\n",
    "JumlahRecord = len(df)\n",
    "print(\"Jumlah Record \\t\\t\\t= \", JumlahRecord)\n",
    "\n",
    "# Nama Attribute\n",
    "namaAtr = list(df.columns)\n",
    "print(\"Nama Attribute \\t\\t\\t= \", namaAtr)\n",
    "\n",
    "# Jumlah Attribute tipe Objek\n",
    "jumlahAtrObjek = len(df.dtypes[df.dtypes == 'object'])\n",
    "print(\"Jumlah Attribute Tipe Objek \\t= \", jumlahAtrObjek)\n",
    "\n",
    "# Jumlah Attribute tipe Angka\n",
    "jumlahAtrAngka = len(df.dtypes[df.dtypes == 'float64'])\n",
    "print(\"Jumlah Attribut Tipe Angka \\t= \", jumlahAtrAngka)\n",
    "\n",
    "#Jumlah Attribute bernilai Null\n",
    "print(\"Jumlah Attribut bernilai Null \\t= \", df.isna().any().sum())"
   ]
  },
  {
   "cell_type": "markdown",
   "metadata": {},
   "source": [
    "### SOAL 2\n",
    "#### Masukkan informasi di atas dalam dictionary dengan key sesuai nama informasinya. Tampilkan isi dari dictionary tersebut sebagus mungkin."
   ]
  },
  {
   "cell_type": "code",
   "execution_count": 3,
   "metadata": {},
   "outputs": [
    {
     "name": "stdout",
     "output_type": "stream",
     "text": [
      "+-----------------+------------------+-------------------------------+-------------------------------+----------------------------------+\n",
      "|   Jumlah Record | Nama Attribute   |   Jumlah Attribute tipe Objek |   Jumlah Attribute tipe Angka |   Jumlah Attribute bernilai Null |\n",
      "|-----------------+------------------+-------------------------------+-------------------------------+----------------------------------|\n",
      "|            4560 | home_team,       |                             4 |                             2 |                                0 |\n",
      "|                 | away_team,       |                               |                               |                                  |\n",
      "|                 | home_goals,      |                               |                               |                                  |\n",
      "|                 | away_goals,      |                               |                               |                                  |\n",
      "|                 | result,          |                               |                               |                                  |\n",
      "|                 | season           |                               |                               |                                  |\n",
      "+-----------------+------------------+-------------------------------+-------------------------------+----------------------------------+\n"
     ]
    }
   ],
   "source": [
    "# Jumlah record\n",
    "JumlahRecord = len(df)\n",
    "\n",
    "# Nama Attribute\n",
    "namaAtr = list(df.columns)\n",
    "namaAtr = \",\\n\".join(namaAtr)\n",
    "\n",
    "# Jumlah Attribute tipe Objek\n",
    "jumlahAtrObjek = len(df.dtypes[df.dtypes == 'object'])\n",
    "\n",
    "# Jumlah Attribute tipe Angka\n",
    "jumlahAtrAngka = len(df.dtypes[df.dtypes == 'float64'])\n",
    "\n",
    "#Jumlah Attribute bernilai Null\n",
    "jumlahAtrNull = df.isna().any().sum()\n",
    "\n",
    "lib = {\n",
    "    \"Jumlah Record\":[JumlahRecord],\n",
    "    \"Nama Attribute\" : [namaAtr],\n",
    "    \"Jumlah Attribute tipe Objek\" : [jumlahAtrObjek],\n",
    "    \"Jumlah Attribute tipe Angka\" : [jumlahAtrAngka],\n",
    "    \"Jumlah Attribute bernilai Null\"  : [jumlahAtrNull],\n",
    "    \n",
    "}\n",
    "\n",
    "tab = pd.DataFrame(lib)\n",
    "print(tabulate(tab, headers='keys', tablefmt='psql',showindex=False))"
   ]
  },
  {
   "cell_type": "markdown",
   "metadata": {},
   "source": [
    "### SOAL 3\n",
    "#### Tampilkan rata-rata, standar deviasi, nilai minimum, nilai maksimum, Q1, Q2, dan Q3 dari attribute bertipe angka."
   ]
  },
  {
   "cell_type": "code",
   "execution_count": 4,
   "metadata": {},
   "outputs": [
    {
     "data": {
      "text/html": [
       "<div>\n",
       "<style scoped>\n",
       "    .dataframe tbody tr th:only-of-type {\n",
       "        vertical-align: middle;\n",
       "    }\n",
       "\n",
       "    .dataframe tbody tr th {\n",
       "        vertical-align: top;\n",
       "    }\n",
       "\n",
       "    .dataframe thead th {\n",
       "        text-align: right;\n",
       "    }\n",
       "</style>\n",
       "<table border=\"1\" class=\"dataframe\">\n",
       "  <thead>\n",
       "    <tr style=\"text-align: right;\">\n",
       "      <th></th>\n",
       "      <th>home_goals</th>\n",
       "      <th>away_goals</th>\n",
       "    </tr>\n",
       "  </thead>\n",
       "  <tbody>\n",
       "    <tr>\n",
       "      <th>count</th>\n",
       "      <td>4560.000000</td>\n",
       "      <td>4560.000000</td>\n",
       "    </tr>\n",
       "    <tr>\n",
       "      <th>mean</th>\n",
       "      <td>1.543202</td>\n",
       "      <td>1.144298</td>\n",
       "    </tr>\n",
       "    <tr>\n",
       "      <th>std</th>\n",
       "      <td>1.315163</td>\n",
       "      <td>1.139824</td>\n",
       "    </tr>\n",
       "    <tr>\n",
       "      <th>min</th>\n",
       "      <td>0.000000</td>\n",
       "      <td>0.000000</td>\n",
       "    </tr>\n",
       "    <tr>\n",
       "      <th>25%</th>\n",
       "      <td>1.000000</td>\n",
       "      <td>0.000000</td>\n",
       "    </tr>\n",
       "    <tr>\n",
       "      <th>50%</th>\n",
       "      <td>1.000000</td>\n",
       "      <td>1.000000</td>\n",
       "    </tr>\n",
       "    <tr>\n",
       "      <th>75%</th>\n",
       "      <td>2.000000</td>\n",
       "      <td>2.000000</td>\n",
       "    </tr>\n",
       "    <tr>\n",
       "      <th>max</th>\n",
       "      <td>9.000000</td>\n",
       "      <td>7.000000</td>\n",
       "    </tr>\n",
       "  </tbody>\n",
       "</table>\n",
       "</div>"
      ],
      "text/plain": [
       "        home_goals   away_goals\n",
       "count  4560.000000  4560.000000\n",
       "mean      1.543202     1.144298\n",
       "std       1.315163     1.139824\n",
       "min       0.000000     0.000000\n",
       "25%       1.000000     0.000000\n",
       "50%       1.000000     1.000000\n",
       "75%       2.000000     2.000000\n",
       "max       9.000000     7.000000"
      ]
     },
     "execution_count": 4,
     "metadata": {},
     "output_type": "execute_result"
    }
   ],
   "source": [
    "df.describe()"
   ]
  },
  {
   "cell_type": "markdown",
   "metadata": {},
   "source": [
    "### SOAL 4\n",
    "#### Tampilkan nilai korelasi attribute bertipe angka."
   ]
  },
  {
   "cell_type": "code",
   "execution_count": 5,
   "metadata": {},
   "outputs": [
    {
     "name": "stderr",
     "output_type": "stream",
     "text": [
      "C:\\Users\\NITRO 5\\AppData\\Local\\Temp\\ipykernel_14544\\1134722465.py:1: FutureWarning: The default value of numeric_only in DataFrame.corr is deprecated. In a future version, it will default to False. Select only valid columns or specify the value of numeric_only to silence this warning.\n",
      "  df.corr()\n"
     ]
    },
    {
     "data": {
      "text/html": [
       "<div>\n",
       "<style scoped>\n",
       "    .dataframe tbody tr th:only-of-type {\n",
       "        vertical-align: middle;\n",
       "    }\n",
       "\n",
       "    .dataframe tbody tr th {\n",
       "        vertical-align: top;\n",
       "    }\n",
       "\n",
       "    .dataframe thead th {\n",
       "        text-align: right;\n",
       "    }\n",
       "</style>\n",
       "<table border=\"1\" class=\"dataframe\">\n",
       "  <thead>\n",
       "    <tr style=\"text-align: right;\">\n",
       "      <th></th>\n",
       "      <th>home_goals</th>\n",
       "      <th>away_goals</th>\n",
       "    </tr>\n",
       "  </thead>\n",
       "  <tbody>\n",
       "    <tr>\n",
       "      <th>home_goals</th>\n",
       "      <td>1.000000</td>\n",
       "      <td>-0.070151</td>\n",
       "    </tr>\n",
       "    <tr>\n",
       "      <th>away_goals</th>\n",
       "      <td>-0.070151</td>\n",
       "      <td>1.000000</td>\n",
       "    </tr>\n",
       "  </tbody>\n",
       "</table>\n",
       "</div>"
      ],
      "text/plain": [
       "            home_goals  away_goals\n",
       "home_goals    1.000000   -0.070151\n",
       "away_goals   -0.070151    1.000000"
      ]
     },
     "execution_count": 5,
     "metadata": {},
     "output_type": "execute_result"
    }
   ],
   "source": [
    "df.corr()"
   ]
  },
  {
   "cell_type": "markdown",
   "metadata": {},
   "source": [
    "### SOAL 5\n",
    "#### Ubah nilai salah satu attribute bertipe angka menjadi desimal 3 angka dibelakang koma jika tidak ada, lakukan sebaliknya (dari desimal menjadi bilangan bulat)."
   ]
  },
  {
   "cell_type": "code",
   "execution_count": 6,
   "metadata": {},
   "outputs": [
    {
     "data": {
      "text/plain": [
       "0    0.001\n",
       "1    0.001\n",
       "2    0.002\n",
       "3    0.002\n",
       "4    0.003\n",
       "Name: home_goals, dtype: float64"
      ]
     },
     "execution_count": 6,
     "metadata": {},
     "output_type": "execute_result"
    }
   ],
   "source": [
    "df[\"home_goals\"].head()\n",
    "\n",
    "df[\"home_goals\"] = df[\"home_goals\"] * 0.001\n",
    "\n",
    "df[\"home_goals\"].head()"
   ]
  },
  {
   "cell_type": "markdown",
   "metadata": {},
   "source": [
    "### SOAL 6  \n",
    "#### Tampilkan 10 record pertama dari attribute bertipe angka."
   ]
  },
  {
   "cell_type": "code",
   "execution_count": 7,
   "metadata": {},
   "outputs": [
    {
     "data": {
      "text/html": [
       "<div>\n",
       "<style scoped>\n",
       "    .dataframe tbody tr th:only-of-type {\n",
       "        vertical-align: middle;\n",
       "    }\n",
       "\n",
       "    .dataframe tbody tr th {\n",
       "        vertical-align: top;\n",
       "    }\n",
       "\n",
       "    .dataframe thead th {\n",
       "        text-align: right;\n",
       "    }\n",
       "</style>\n",
       "<table border=\"1\" class=\"dataframe\">\n",
       "  <thead>\n",
       "    <tr style=\"text-align: right;\">\n",
       "      <th></th>\n",
       "      <th>home_goals</th>\n",
       "      <th>away_goals</th>\n",
       "    </tr>\n",
       "  </thead>\n",
       "  <tbody>\n",
       "    <tr>\n",
       "      <th>0</th>\n",
       "      <td>0.001</td>\n",
       "      <td>1.0</td>\n",
       "    </tr>\n",
       "    <tr>\n",
       "      <th>1</th>\n",
       "      <td>0.001</td>\n",
       "      <td>1.0</td>\n",
       "    </tr>\n",
       "    <tr>\n",
       "      <th>2</th>\n",
       "      <td>0.002</td>\n",
       "      <td>1.0</td>\n",
       "    </tr>\n",
       "    <tr>\n",
       "      <th>3</th>\n",
       "      <td>0.002</td>\n",
       "      <td>1.0</td>\n",
       "    </tr>\n",
       "    <tr>\n",
       "      <th>4</th>\n",
       "      <td>0.003</td>\n",
       "      <td>0.0</td>\n",
       "    </tr>\n",
       "    <tr>\n",
       "      <th>5</th>\n",
       "      <td>0.003</td>\n",
       "      <td>2.0</td>\n",
       "    </tr>\n",
       "    <tr>\n",
       "      <th>6</th>\n",
       "      <td>0.003</td>\n",
       "      <td>1.0</td>\n",
       "    </tr>\n",
       "    <tr>\n",
       "      <th>7</th>\n",
       "      <td>0.002</td>\n",
       "      <td>0.0</td>\n",
       "    </tr>\n",
       "    <tr>\n",
       "      <th>8</th>\n",
       "      <td>0.005</td>\n",
       "      <td>1.0</td>\n",
       "    </tr>\n",
       "    <tr>\n",
       "      <th>9</th>\n",
       "      <td>0.003</td>\n",
       "      <td>0.0</td>\n",
       "    </tr>\n",
       "  </tbody>\n",
       "</table>\n",
       "</div>"
      ],
      "text/plain": [
       "   home_goals  away_goals\n",
       "0       0.001         1.0\n",
       "1       0.001         1.0\n",
       "2       0.002         1.0\n",
       "3       0.002         1.0\n",
       "4       0.003         0.0\n",
       "5       0.003         2.0\n",
       "6       0.003         1.0\n",
       "7       0.002         0.0\n",
       "8       0.005         1.0\n",
       "9       0.003         0.0"
      ]
     },
     "execution_count": 7,
     "metadata": {},
     "output_type": "execute_result"
    }
   ],
   "source": [
    "dfAtrAngka= df.select_dtypes(include=['float64','int64'])\n",
    "\n",
    "dfAtrAngka.head(10)"
   ]
  },
  {
   "cell_type": "markdown",
   "metadata": {},
   "source": [
    "### SOAL 7\n",
    "#### Simpan dataset dengan attribute bertipe angka ke dalam file CSV."
   ]
  },
  {
   "cell_type": "code",
   "execution_count": 8,
   "metadata": {},
   "outputs": [],
   "source": [
    "dfAtrAngka.to_csv(\"Posttest2.csv\", index=False)"
   ]
  }
 ],
 "metadata": {
  "kernelspec": {
   "display_name": "Python 3.10.7 64-bit",
   "language": "python",
   "name": "python3"
  },
  "language_info": {
   "codemirror_mode": {
    "name": "ipython",
    "version": 3
   },
   "file_extension": ".py",
   "mimetype": "text/x-python",
   "name": "python",
   "nbconvert_exporter": "python",
   "pygments_lexer": "ipython3",
   "version": "3.10.7"
  },
  "orig_nbformat": 4,
  "vscode": {
   "interpreter": {
    "hash": "200e2a1a991d180c9c309c789f657d054eb1e69794afbc0e2ae3f183f1fccf4c"
   }
  }
 },
 "nbformat": 4,
 "nbformat_minor": 2
}
