{
 "cells": [
  {
   "cell_type": "markdown",
   "metadata": {},
   "source": [
    "# POSTTEST 2 Kecerdasan Buatan\n",
    "\n",
    "### Gempar Panggih Dwi Putra\n",
    "### NIM 2009106022\n",
    "\n",
    "## Dataset Premiere League Season 2007-2018"
   ]
  },
  {
   "cell_type": "code",
   "execution_count": null,
   "metadata": {},
   "outputs": [],
   "source": [
    "import matplotlib.pyplot as plt\n",
    "import pandas as pd\n",
    "from prettytable import PrettyTable\n",
    "from tabulate import tabulate\n",
    "df = pd.read_csv(\"premiere-league.csv\")"
   ]
  },
  {
   "cell_type": "markdown",
   "metadata": {},
   "source": [
    "### SOAL 1\n",
    "#### Informasi yang didapatkan adalah jumlah record, nama attribute, jumlah attribute dengan tipe objek, jumlah attribute dengan tipe angka, jumlah attribute yang memiliki nilai null."
   ]
  },
  {
   "cell_type": "code",
   "execution_count": null,
   "metadata": {},
   "outputs": [],
   "source": [
    "# Jumlah record\n",
    "JumlahRec = len(df)\n",
    "print(JumlahRec)\n",
    "\n",
    "# Nama Attribute\n",
    "namaAtr = list(df.columns)\n",
    "print(namaAtr)\n",
    "\n",
    "# Jumlah Attribute tipe Objek\n",
    "jumlahAtrObjek = len(df.dtypes[df.dtypes == 'object'])\n",
    "print(jumlahAtrObjek)\n",
    "\n",
    "# Jumlah Attribute tipe Angka\n",
    "jumlahAtrAngka = len(df.dtypes[df.dtypes == 'int64'])\n",
    "print(jumlahAtrAngka)\n",
    "\n",
    "#Jumlah Attribute bernilai Null\n",
    "df.isna().any().sum()"
   ]
  },
  {
   "cell_type": "markdown",
   "metadata": {},
   "source": [
    "### SOAL 2\n",
    "#### Masukkan informasi di atas dalam dictionary dengan key sesuai nama informasinya. Tampilkan isi dari dictionary tersebut sebagus mungkin."
   ]
  },
  {
   "cell_type": "code",
   "execution_count": null,
   "metadata": {},
   "outputs": [],
   "source": [
    "# Jumlah record\n",
    "JumlahRec = len(df)\n",
    "\n",
    "# Nama Attribute\n",
    "namaAtr = list(df.columns)\n",
    "namaAtr = \",\\n\".join(namaAtr)\n",
    "\n",
    "# Jumlah Attribute tipe Objek\n",
    "jumlahAtrObjek = len(df.dtypes[df.dtypes == 'object'])\n",
    "\n",
    "# Jumlah Attribute tipe Angka\n",
    "jumlahAtrAngka = len(df.dtypes[df.dtypes == 'int64'])\n",
    "\n",
    "#Jumlah Attribute bernilai Null\n",
    "jumlahAtrNull = df.isna().any().sum()\n",
    "\n",
    "lib = {\n",
    "    \"Jumlah Record\":[JumlahRec],\n",
    "    \"Nama Attribute\" : [namaAtr],\n",
    "    \"Jumlah Attribute tipe Objek\" : [jumlahAtrObjek],\n",
    "    \"Jumlah Attribute tipe Angka\" : [jumlahAtrAngka],\n",
    "    \"Jumlah Attribute bernilai Null\"  : [jumlahAtrNull],\n",
    "    \n",
    "}\n",
    "\n",
    "tab = pd.DataFrame(lib)\n",
    "print(tabulate(tab, headers='keys', tablefmt='psql',showindex=False))"
   ]
  },
  {
   "cell_type": "markdown",
   "metadata": {},
   "source": [
    "### SOAL 3\n",
    "#### Tampilkan rata-rata, standar deviasi, nilai minimum, nilai maksimum, Q1, Q2, dan Q3 dari attribute bertipe angka."
   ]
  },
  {
   "cell_type": "code",
   "execution_count": null,
   "metadata": {},
   "outputs": [],
   "source": [
    "df.describe()"
   ]
  },
  {
   "cell_type": "markdown",
   "metadata": {},
   "source": [
    "### SOAL 4\n",
    "#### Tampilkan nilai korelasi attribute bertipe angka."
   ]
  },
  {
   "cell_type": "code",
   "execution_count": null,
   "metadata": {},
   "outputs": [],
   "source": [
    "df.corr()"
   ]
  },
  {
   "cell_type": "markdown",
   "metadata": {},
   "source": [
    "### SOAL 5\n",
    "#### Ubah nilai salah satu attribute bertipe angka menjadi desimal 3 angka dibelakang koma jika tidak ada, lakukan sebaliknya (dari desimal menjadi bilangan bulat)."
   ]
  },
  {
   "cell_type": "code",
   "execution_count": null,
   "metadata": {},
   "outputs": [],
   "source": [
    "df[\"home_goals\"].head()\n",
    "\n",
    "df[\"home_goals\"] = df[\"home_goals\"] * 0.01\n",
    "\n",
    "df[\"home_goals\"].head()"
   ]
  },
  {
   "cell_type": "markdown",
   "metadata": {},
   "source": [
    "### SOAL 6  \n",
    "#### Tampilkan 10 record pertama dari attribute bertipe angka."
   ]
  },
  {
   "cell_type": "code",
   "execution_count": null,
   "metadata": {},
   "outputs": [],
   "source": [
    "dfAtrAngka= df.select_dtypes(include=['float64','int64'])\n",
    "\n",
    "dfAtrAngka.head(10)"
   ]
  },
  {
   "cell_type": "markdown",
   "metadata": {},
   "source": [
    "### SOAL 7\n",
    "#### Simpan dataset dengan attribute bertipe angka ke dalam file CSV."
   ]
  },
  {
   "cell_type": "code",
   "execution_count": null,
   "metadata": {},
   "outputs": [],
   "source": [
    "dfAtrAngka.to_csv(\"Posttest2.csv\", index=False)"
   ]
  }
 ],
 "metadata": {
  "kernelspec": {
   "display_name": "Python 3.10.7 64-bit",
   "language": "python",
   "name": "python3"
  },
  "language_info": {
   "codemirror_mode": {
    "name": "ipython",
    "version": 3
   },
   "file_extension": ".py",
   "mimetype": "text/x-python",
   "name": "python",
   "nbconvert_exporter": "python",
   "pygments_lexer": "ipython3",
   "version": "3.10.7"
  },
  "orig_nbformat": 4,
  "vscode": {
   "interpreter": {
    "hash": "200e2a1a991d180c9c309c789f657d054eb1e69794afbc0e2ae3f183f1fccf4c"
   }
  }
 },
 "nbformat": 4,
 "nbformat_minor": 2
}
